{
 "cells": [
  {
   "cell_type": "markdown",
   "id": "1611753b",
   "metadata": {},
   "source": [
    "# BERT Implementation using Tensorflow by `Mr. Harshit Dawar!`"
   ]
  },
  {
   "cell_type": "code",
   "execution_count": 7,
   "id": "11674b8d",
   "metadata": {},
   "outputs": [],
   "source": [
    "# Importing the libraries for Tensorflow\n",
    "\n",
    "import tensorflow_hub as th\n",
    "import tensorflow_text as text"
   ]
  },
  {
   "cell_type": "markdown",
   "id": "34218a4c",
   "metadata": {},
   "source": [
    "## Loading the Transfer Learning the BERT Model & the Preporcessor for the BERT Model"
   ]
  },
  {
   "cell_type": "code",
   "execution_count": 8,
   "id": "bcd27be1",
   "metadata": {},
   "outputs": [],
   "source": [
    "BERT_MODEL = th.KerasLayer(\"https://tfhub.dev/tensorflow/bert_en_uncased_L-12_H-768_A-12/4\")"
   ]
  },
  {
   "cell_type": "code",
   "execution_count": 9,
   "id": "4893b6bc",
   "metadata": {},
   "outputs": [
    {
     "name": "stderr",
     "output_type": "stream",
     "text": [
      "2021-09-18 19:15:00.832859: I tensorflow/compiler/mlir/mlir_graph_optimization_pass.cc:185] None of the MLIR Optimization Passes are enabled (registered 2)\n"
     ]
    }
   ],
   "source": [
    "Text_Preprocessor = th.KerasLayer(\"https://tfhub.dev/tensorflow/bert_en_uncased_preprocess/3\")"
   ]
  },
  {
   "cell_type": "markdown",
   "id": "5c73b4aa",
   "metadata": {},
   "source": [
    "## Loading the Dataset"
   ]
  },
  {
   "cell_type": "code",
   "execution_count": 10,
   "id": "615a9598",
   "metadata": {},
   "outputs": [],
   "source": [
    "import pandas as pd"
   ]
  },
  {
   "cell_type": "code",
   "execution_count": 11,
   "id": "6f2f9bcc",
   "metadata": {},
   "outputs": [],
   "source": [
    "data = pd.read_excel(\"amazonLabelled.xlsx\")"
   ]
  },
  {
   "cell_type": "code",
   "execution_count": 12,
   "id": "7296313b",
   "metadata": {},
   "outputs": [
    {
     "data": {
      "text/html": [
       "<div>\n",
       "<style scoped>\n",
       "    .dataframe tbody tr th:only-of-type {\n",
       "        vertical-align: middle;\n",
       "    }\n",
       "\n",
       "    .dataframe tbody tr th {\n",
       "        vertical-align: top;\n",
       "    }\n",
       "\n",
       "    .dataframe thead th {\n",
       "        text-align: right;\n",
       "    }\n",
       "</style>\n",
       "<table border=\"1\" class=\"dataframe\">\n",
       "  <thead>\n",
       "    <tr style=\"text-align: right;\">\n",
       "      <th></th>\n",
       "      <th>S</th>\n",
       "      <th>Feedback</th>\n",
       "      <th>Sentiment</th>\n",
       "    </tr>\n",
       "  </thead>\n",
       "  <tbody>\n",
       "    <tr>\n",
       "      <th>0</th>\n",
       "      <td>1.0</td>\n",
       "      <td>Good case, Excellent value.</td>\n",
       "      <td>Positive</td>\n",
       "    </tr>\n",
       "    <tr>\n",
       "      <th>1</th>\n",
       "      <td>2.0</td>\n",
       "      <td>Great for the jawbone.</td>\n",
       "      <td>Positive</td>\n",
       "    </tr>\n",
       "    <tr>\n",
       "      <th>2</th>\n",
       "      <td>3.0</td>\n",
       "      <td>Tied to charger for conversations lasting more...</td>\n",
       "      <td>Negative</td>\n",
       "    </tr>\n",
       "    <tr>\n",
       "      <th>3</th>\n",
       "      <td>4.0</td>\n",
       "      <td>The mic is great.</td>\n",
       "      <td>Positive</td>\n",
       "    </tr>\n",
       "    <tr>\n",
       "      <th>4</th>\n",
       "      <td>5.0</td>\n",
       "      <td>I have to jiggle the plug to get it to line up...</td>\n",
       "      <td>Negative</td>\n",
       "    </tr>\n",
       "    <tr>\n",
       "      <th>...</th>\n",
       "      <td>...</td>\n",
       "      <td>...</td>\n",
       "      <td>...</td>\n",
       "    </tr>\n",
       "    <tr>\n",
       "      <th>994</th>\n",
       "      <td>995.0</td>\n",
       "      <td>The screen does get smudged easily because it ...</td>\n",
       "      <td>Negative</td>\n",
       "    </tr>\n",
       "    <tr>\n",
       "      <th>995</th>\n",
       "      <td>996.0</td>\n",
       "      <td>What a piece of junk.. I lose more calls on th...</td>\n",
       "      <td>Negative</td>\n",
       "    </tr>\n",
       "    <tr>\n",
       "      <th>996</th>\n",
       "      <td>997.0</td>\n",
       "      <td>Item Does Not Match Picture.</td>\n",
       "      <td>Negative</td>\n",
       "    </tr>\n",
       "    <tr>\n",
       "      <th>997</th>\n",
       "      <td>998.0</td>\n",
       "      <td>The only thing that disappoint me is the infra...</td>\n",
       "      <td>Negative</td>\n",
       "    </tr>\n",
       "    <tr>\n",
       "      <th>998</th>\n",
       "      <td>999.0</td>\n",
       "      <td>You can not answer calls with the unit, never ...</td>\n",
       "      <td>Negative</td>\n",
       "    </tr>\n",
       "  </tbody>\n",
       "</table>\n",
       "<p>999 rows × 3 columns</p>\n",
       "</div>"
      ],
      "text/plain": [
       "         S                                           Feedback Sentiment\n",
       "0      1.0                        Good case, Excellent value.  Positive\n",
       "1      2.0                             Great for the jawbone.  Positive\n",
       "2      3.0  Tied to charger for conversations lasting more...  Negative\n",
       "3      4.0                                  The mic is great.  Positive\n",
       "4      5.0  I have to jiggle the plug to get it to line up...  Negative\n",
       "..     ...                                                ...       ...\n",
       "994  995.0  The screen does get smudged easily because it ...  Negative\n",
       "995  996.0  What a piece of junk.. I lose more calls on th...  Negative\n",
       "996  997.0                       Item Does Not Match Picture.  Negative\n",
       "997  998.0  The only thing that disappoint me is the infra...  Negative\n",
       "998  999.0  You can not answer calls with the unit, never ...  Negative\n",
       "\n",
       "[999 rows x 3 columns]"
      ]
     },
     "execution_count": 12,
     "metadata": {},
     "output_type": "execute_result"
    }
   ],
   "source": [
    "data"
   ]
  },
  {
   "cell_type": "markdown",
   "id": "61bc8195",
   "metadata": {},
   "source": [
    "## Processing the Dataset"
   ]
  },
  {
   "cell_type": "code",
   "execution_count": 13,
   "id": "87ede467",
   "metadata": {},
   "outputs": [],
   "source": [
    "data.drop(\"S\", axis = 1, inplace=True)"
   ]
  },
  {
   "cell_type": "code",
   "execution_count": 14,
   "id": "bb886b95",
   "metadata": {},
   "outputs": [
    {
     "data": {
      "text/html": [
       "<div>\n",
       "<style scoped>\n",
       "    .dataframe tbody tr th:only-of-type {\n",
       "        vertical-align: middle;\n",
       "    }\n",
       "\n",
       "    .dataframe tbody tr th {\n",
       "        vertical-align: top;\n",
       "    }\n",
       "\n",
       "    .dataframe thead th {\n",
       "        text-align: right;\n",
       "    }\n",
       "</style>\n",
       "<table border=\"1\" class=\"dataframe\">\n",
       "  <thead>\n",
       "    <tr style=\"text-align: right;\">\n",
       "      <th></th>\n",
       "      <th>Feedback</th>\n",
       "      <th>Sentiment</th>\n",
       "    </tr>\n",
       "  </thead>\n",
       "  <tbody>\n",
       "    <tr>\n",
       "      <th>0</th>\n",
       "      <td>Good case, Excellent value.</td>\n",
       "      <td>Positive</td>\n",
       "    </tr>\n",
       "    <tr>\n",
       "      <th>1</th>\n",
       "      <td>Great for the jawbone.</td>\n",
       "      <td>Positive</td>\n",
       "    </tr>\n",
       "    <tr>\n",
       "      <th>2</th>\n",
       "      <td>Tied to charger for conversations lasting more...</td>\n",
       "      <td>Negative</td>\n",
       "    </tr>\n",
       "    <tr>\n",
       "      <th>3</th>\n",
       "      <td>The mic is great.</td>\n",
       "      <td>Positive</td>\n",
       "    </tr>\n",
       "    <tr>\n",
       "      <th>4</th>\n",
       "      <td>I have to jiggle the plug to get it to line up...</td>\n",
       "      <td>Negative</td>\n",
       "    </tr>\n",
       "    <tr>\n",
       "      <th>...</th>\n",
       "      <td>...</td>\n",
       "      <td>...</td>\n",
       "    </tr>\n",
       "    <tr>\n",
       "      <th>994</th>\n",
       "      <td>The screen does get smudged easily because it ...</td>\n",
       "      <td>Negative</td>\n",
       "    </tr>\n",
       "    <tr>\n",
       "      <th>995</th>\n",
       "      <td>What a piece of junk.. I lose more calls on th...</td>\n",
       "      <td>Negative</td>\n",
       "    </tr>\n",
       "    <tr>\n",
       "      <th>996</th>\n",
       "      <td>Item Does Not Match Picture.</td>\n",
       "      <td>Negative</td>\n",
       "    </tr>\n",
       "    <tr>\n",
       "      <th>997</th>\n",
       "      <td>The only thing that disappoint me is the infra...</td>\n",
       "      <td>Negative</td>\n",
       "    </tr>\n",
       "    <tr>\n",
       "      <th>998</th>\n",
       "      <td>You can not answer calls with the unit, never ...</td>\n",
       "      <td>Negative</td>\n",
       "    </tr>\n",
       "  </tbody>\n",
       "</table>\n",
       "<p>999 rows × 2 columns</p>\n",
       "</div>"
      ],
      "text/plain": [
       "                                              Feedback Sentiment\n",
       "0                          Good case, Excellent value.  Positive\n",
       "1                               Great for the jawbone.  Positive\n",
       "2    Tied to charger for conversations lasting more...  Negative\n",
       "3                                    The mic is great.  Positive\n",
       "4    I have to jiggle the plug to get it to line up...  Negative\n",
       "..                                                 ...       ...\n",
       "994  The screen does get smudged easily because it ...  Negative\n",
       "995  What a piece of junk.. I lose more calls on th...  Negative\n",
       "996                       Item Does Not Match Picture.  Negative\n",
       "997  The only thing that disappoint me is the infra...  Negative\n",
       "998  You can not answer calls with the unit, never ...  Negative\n",
       "\n",
       "[999 rows x 2 columns]"
      ]
     },
     "execution_count": 14,
     "metadata": {},
     "output_type": "execute_result"
    }
   ],
   "source": [
    "data"
   ]
  },
  {
   "cell_type": "code",
   "execution_count": 16,
   "id": "0020dada",
   "metadata": {},
   "outputs": [],
   "source": [
    "preprocessed_texts = Text_Preprocessor(data.Feedback)"
   ]
  },
  {
   "cell_type": "code",
   "execution_count": 18,
   "id": "f30194a3",
   "metadata": {},
   "outputs": [
    {
     "data": {
      "text/plain": [
       "dict_keys(['input_word_ids', 'input_mask', 'input_type_ids'])"
      ]
     },
     "execution_count": 18,
     "metadata": {},
     "output_type": "execute_result"
    }
   ],
   "source": [
    "preprocessed_texts.keys()"
   ]
  },
  {
   "cell_type": "code",
   "execution_count": 19,
   "id": "e6bf66a1",
   "metadata": {},
   "outputs": [
    {
     "data": {
      "text/plain": [
       "<tf.Tensor: shape=(999, 128), dtype=int32, numpy=\n",
       "array([[ 101, 2204, 2553, ...,    0,    0,    0],\n",
       "       [ 101, 2307, 2005, ...,    0,    0,    0],\n",
       "       [ 101, 5079, 2000, ...,    0,    0,    0],\n",
       "       ...,\n",
       "       [ 101, 8875, 2515, ...,    0,    0,    0],\n",
       "       [ 101, 1996, 2069, ...,    0,    0,    0],\n",
       "       [ 101, 2017, 2064, ...,    0,    0,    0]], dtype=int32)>"
      ]
     },
     "execution_count": 19,
     "metadata": {},
     "output_type": "execute_result"
    }
   ],
   "source": [
    "preprocessed_texts[\"input_word_ids\"]"
   ]
  },
  {
   "cell_type": "code",
   "execution_count": 21,
   "id": "dad980a6",
   "metadata": {},
   "outputs": [
    {
     "data": {
      "text/plain": [
       "<tf.Tensor: shape=(128,), dtype=int32, numpy=\n",
       "array([1, 1, 1, 1, 1, 1, 1, 1, 0, 0, 0, 0, 0, 0, 0, 0, 0, 0, 0, 0, 0, 0,\n",
       "       0, 0, 0, 0, 0, 0, 0, 0, 0, 0, 0, 0, 0, 0, 0, 0, 0, 0, 0, 0, 0, 0,\n",
       "       0, 0, 0, 0, 0, 0, 0, 0, 0, 0, 0, 0, 0, 0, 0, 0, 0, 0, 0, 0, 0, 0,\n",
       "       0, 0, 0, 0, 0, 0, 0, 0, 0, 0, 0, 0, 0, 0, 0, 0, 0, 0, 0, 0, 0, 0,\n",
       "       0, 0, 0, 0, 0, 0, 0, 0, 0, 0, 0, 0, 0, 0, 0, 0, 0, 0, 0, 0, 0, 0,\n",
       "       0, 0, 0, 0, 0, 0, 0, 0, 0, 0, 0, 0, 0, 0, 0, 0, 0, 0], dtype=int32)>"
      ]
     },
     "execution_count": 21,
     "metadata": {},
     "output_type": "execute_result"
    }
   ],
   "source": [
    "preprocessed_texts[\"input_mask\"][0]"
   ]
  },
  {
   "cell_type": "code",
   "execution_count": 46,
   "id": "d4b49cea",
   "metadata": {},
   "outputs": [],
   "source": [
    "from tensorflow.keras.utils import to_categorical\n",
    "from sklearn.preprocessing import LabelEncoder"
   ]
  },
  {
   "cell_type": "code",
   "execution_count": 47,
   "id": "f744f411",
   "metadata": {},
   "outputs": [],
   "source": [
    "sentiments = LabelEncoder().fit_transform(data.Sentiment.values)"
   ]
  },
  {
   "cell_type": "code",
   "execution_count": 48,
   "id": "27e3154b",
   "metadata": {},
   "outputs": [],
   "source": [
    "sentiments = to_categorical(sentiments)"
   ]
  },
  {
   "cell_type": "code",
   "execution_count": 49,
   "id": "8b6d3a06",
   "metadata": {},
   "outputs": [
    {
     "data": {
      "text/plain": [
       "array([[0., 1.],\n",
       "       [0., 1.],\n",
       "       [1., 0.],\n",
       "       ...,\n",
       "       [1., 0.],\n",
       "       [1., 0.],\n",
       "       [1., 0.]], dtype=float32)"
      ]
     },
     "execution_count": 49,
     "metadata": {},
     "output_type": "execute_result"
    }
   ],
   "source": [
    "sentiments"
   ]
  },
  {
   "cell_type": "markdown",
   "id": "56485f6a",
   "metadata": {},
   "source": [
    "## Generating the NLP Model for the Sentiment Analysis"
   ]
  },
  {
   "cell_type": "code",
   "execution_count": 25,
   "id": "86f15b41",
   "metadata": {},
   "outputs": [],
   "source": [
    "from tensorflow.keras.models import Sequential, Model\n",
    "from tensorflow.keras.layers import Dense, Input\n",
    "import tensorflow as tf"
   ]
  },
  {
   "cell_type": "code",
   "execution_count": 40,
   "id": "cd68c8e4",
   "metadata": {},
   "outputs": [],
   "source": [
    "\"\"\"\n",
    "We cannot subscript in Sequential Model, so the below code will not work!\n",
    "\"\"\"\n",
    "\n",
    "# model = Sequential([\n",
    "#                         Text_Preprocessor,\n",
    "#                         BERT_MODEL[\"pooled_output\"],\n",
    "#                         Dense(2, activation = \"sigmoid\")\n",
    "# ])"
   ]
  },
  {
   "cell_type": "code",
   "execution_count": 85,
   "id": "1d14d069",
   "metadata": {},
   "outputs": [],
   "source": [
    "# model = Sequential([\n",
    "#                         Input(shape = (128, 768)),\n",
    "#                         Dense(2, activation = \"sigmoid\")\n",
    "# ])"
   ]
  },
  {
   "cell_type": "code",
   "execution_count": 128,
   "id": "9f08fd81",
   "metadata": {},
   "outputs": [],
   "source": [
    "# Creating the actual Model of BERT\n",
    "\n",
    "inputs = Input(shape = (), dtype = tf.string)\n",
    "\n",
    "encoded_data = Text_Preprocessor(inputs)\n",
    "bert_output = BERT_MODEL(encoded_data)\n",
    "\n",
    "outputs = Dense(units = 2, activation = \"sigmoid\")(bert_output[\"pooled_output\"])\n",
    "\n",
    "model = Model(inputs, outputs)"
   ]
  },
  {
   "cell_type": "code",
   "execution_count": 129,
   "id": "25c294dd",
   "metadata": {},
   "outputs": [],
   "source": [
    "model.compile(loss = \"categorical_crossentropy\", optimizer = \"adam\", metrics = [\"accuracy\"])"
   ]
  },
  {
   "cell_type": "code",
   "execution_count": 130,
   "id": "5125ac4f",
   "metadata": {},
   "outputs": [
    {
     "name": "stdout",
     "output_type": "stream",
     "text": [
      "Model: \"model_6\"\n",
      "__________________________________________________________________________________________________\n",
      "Layer (type)                    Output Shape         Param #     Connected to                     \n",
      "==================================================================================================\n",
      "input_18 (InputLayer)           [(None,)]            0                                            \n",
      "__________________________________________________________________________________________________\n",
      "keras_layer_2 (KerasLayer)      {'input_word_ids': ( 0           input_18[0][0]                   \n",
      "__________________________________________________________________________________________________\n",
      "keras_layer_1 (KerasLayer)      {'default': (None, 7 109482241   keras_layer_2[5][0]              \n",
      "                                                                 keras_layer_2[5][1]              \n",
      "                                                                 keras_layer_2[5][2]              \n",
      "__________________________________________________________________________________________________\n",
      "dense_10 (Dense)                (None, 2)            1538        keras_layer_1[4][13]             \n",
      "==================================================================================================\n",
      "Total params: 109,483,779\n",
      "Trainable params: 1,538\n",
      "Non-trainable params: 109,482,241\n",
      "__________________________________________________________________________________________________\n"
     ]
    }
   ],
   "source": [
    "model.summary()"
   ]
  },
  {
   "cell_type": "code",
   "execution_count": 131,
   "id": "9740c8fb",
   "metadata": {},
   "outputs": [
    {
     "name": "stdout",
     "output_type": "stream",
     "text": [
      "Epoch 1/10\n",
      "32/32 [==============================] - 303s 9s/step - loss: 0.7001 - accuracy: 0.5265\n",
      "Epoch 2/10\n",
      "32/32 [==============================] - 279s 9s/step - loss: 0.6665 - accuracy: 0.6246\n",
      "Epoch 3/10\n",
      "32/32 [==============================] - 284s 9s/step - loss: 0.6408 - accuracy: 0.6737\n",
      "Epoch 4/10\n",
      "32/32 [==============================] - 283s 9s/step - loss: 0.6325 - accuracy: 0.6316\n",
      "Epoch 5/10\n",
      "32/32 [==============================] - 288s 9s/step - loss: 0.5961 - accuracy: 0.7818\n",
      "Epoch 6/10\n",
      "32/32 [==============================] - 298s 9s/step - loss: 0.5734 - accuracy: 0.7868\n",
      "Epoch 7/10\n",
      "32/32 [==============================] - 257s 8s/step - loss: 0.5617 - accuracy: 0.7688\n",
      "Epoch 8/10\n",
      "32/32 [==============================] - 229s 7s/step - loss: 0.5417 - accuracy: 0.8398\n",
      "Epoch 9/10\n",
      "32/32 [==============================] - 230s 7s/step - loss: 0.5334 - accuracy: 0.8208\n",
      "Epoch 10/10\n",
      "32/32 [==============================] - 232s 7s/step - loss: 0.5220 - accuracy: 0.7898\n"
     ]
    }
   ],
   "source": [
    "history = model.fit(data.Feedback.values, sentiments, epochs = 10, verbose = 1)"
   ]
  },
  {
   "cell_type": "markdown",
   "id": "f90d4e90",
   "metadata": {},
   "source": [
    "# Congratulatios, you have learned how to implement BERT!"
   ]
  }
 ],
 "metadata": {
  "kernelspec": {
   "display_name": "Python 3 (ipykernel)",
   "language": "python",
   "name": "python3"
  },
  "language_info": {
   "codemirror_mode": {
    "name": "ipython",
    "version": 3
   },
   "file_extension": ".py",
   "mimetype": "text/x-python",
   "name": "python",
   "nbconvert_exporter": "python",
   "pygments_lexer": "ipython3",
   "version": "3.9.6"
  }
 },
 "nbformat": 4,
 "nbformat_minor": 5
}
