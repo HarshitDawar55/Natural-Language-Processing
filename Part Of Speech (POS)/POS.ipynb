{
 "cells": [
  {
   "cell_type": "markdown",
   "id": "8eed77e2",
   "metadata": {},
   "source": [
    "# Part of Speech by `Mr. Harshit Dawar!`\n",
    "\n",
    "* This helps to find that a word is what: noun, verb, adjective, pronoun, punctuation, Auxilary etc."
   ]
  },
  {
   "cell_type": "code",
   "execution_count": 5,
   "id": "c1c4081a",
   "metadata": {},
   "outputs": [
    {
     "name": "stdout",
     "output_type": "stream",
     "text": [
      "Collecting en_core_web_sm==2.3.1\n",
      "  Downloading https://github.com/explosion/spacy-models/releases/download/en_core_web_sm-2.3.1/en_core_web_sm-2.3.1.tar.gz (12.0 MB)\n",
      "\u001b[K     |████████████████████████████████| 12.0 MB 12.3 MB/s eta 0:00:01\n",
      "\u001b[?25hRequirement already satisfied: spacy<2.4.0,>=2.3.0 in /Users/harshitdawar/opt/anaconda3/envs/NLP/lib/python3.9/site-packages (from en_core_web_sm==2.3.1) (2.3.5)\n",
      "Requirement already satisfied: tqdm<5.0.0,>=4.38.0 in /Users/harshitdawar/opt/anaconda3/envs/NLP/lib/python3.9/site-packages (from spacy<2.4.0,>=2.3.0->en_core_web_sm==2.3.1) (4.62.0)\n",
      "Requirement already satisfied: blis<0.8.0,>=0.4.0 in /Users/harshitdawar/opt/anaconda3/envs/NLP/lib/python3.9/site-packages (from spacy<2.4.0,>=2.3.0->en_core_web_sm==2.3.1) (0.7.4)\n",
      "Requirement already satisfied: numpy>=1.15.0 in /Users/harshitdawar/opt/anaconda3/envs/NLP/lib/python3.9/site-packages (from spacy<2.4.0,>=2.3.0->en_core_web_sm==2.3.1) (1.21.1)\n",
      "Requirement already satisfied: wasabi<1.1.0,>=0.4.0 in /Users/harshitdawar/opt/anaconda3/envs/NLP/lib/python3.9/site-packages (from spacy<2.4.0,>=2.3.0->en_core_web_sm==2.3.1) (0.8.2)\n",
      "Requirement already satisfied: srsly<1.1.0,>=1.0.2 in /Users/harshitdawar/opt/anaconda3/envs/NLP/lib/python3.9/site-packages (from spacy<2.4.0,>=2.3.0->en_core_web_sm==2.3.1) (1.0.5)\n",
      "Requirement already satisfied: requests<3.0.0,>=2.13.0 in /Users/harshitdawar/opt/anaconda3/envs/NLP/lib/python3.9/site-packages (from spacy<2.4.0,>=2.3.0->en_core_web_sm==2.3.1) (2.26.0)\n",
      "Requirement already satisfied: catalogue<1.1.0,>=0.0.7 in /Users/harshitdawar/opt/anaconda3/envs/NLP/lib/python3.9/site-packages (from spacy<2.4.0,>=2.3.0->en_core_web_sm==2.3.1) (1.0.0)\n",
      "Requirement already satisfied: thinc<7.5.0,>=7.4.1 in /Users/harshitdawar/opt/anaconda3/envs/NLP/lib/python3.9/site-packages (from spacy<2.4.0,>=2.3.0->en_core_web_sm==2.3.1) (7.4.5)\n",
      "Requirement already satisfied: plac<1.2.0,>=0.9.6 in /Users/harshitdawar/opt/anaconda3/envs/NLP/lib/python3.9/site-packages (from spacy<2.4.0,>=2.3.0->en_core_web_sm==2.3.1) (1.1.0)\n",
      "Requirement already satisfied: preshed<3.1.0,>=3.0.2 in /Users/harshitdawar/opt/anaconda3/envs/NLP/lib/python3.9/site-packages (from spacy<2.4.0,>=2.3.0->en_core_web_sm==2.3.1) (3.0.5)\n",
      "Requirement already satisfied: cymem<2.1.0,>=2.0.2 in /Users/harshitdawar/opt/anaconda3/envs/NLP/lib/python3.9/site-packages (from spacy<2.4.0,>=2.3.0->en_core_web_sm==2.3.1) (2.0.5)\n",
      "Requirement already satisfied: setuptools in /Users/harshitdawar/opt/anaconda3/envs/NLP/lib/python3.9/site-packages (from spacy<2.4.0,>=2.3.0->en_core_web_sm==2.3.1) (49.6.0.post20210108)\n",
      "Requirement already satisfied: murmurhash<1.1.0,>=0.28.0 in /Users/harshitdawar/opt/anaconda3/envs/NLP/lib/python3.9/site-packages (from spacy<2.4.0,>=2.3.0->en_core_web_sm==2.3.1) (1.0.5)\n",
      "Requirement already satisfied: certifi>=2017.4.17 in /Users/harshitdawar/opt/anaconda3/envs/NLP/lib/python3.9/site-packages (from requests<3.0.0,>=2.13.0->spacy<2.4.0,>=2.3.0->en_core_web_sm==2.3.1) (2021.5.30)\n",
      "Requirement already satisfied: charset-normalizer~=2.0.0 in /Users/harshitdawar/opt/anaconda3/envs/NLP/lib/python3.9/site-packages (from requests<3.0.0,>=2.13.0->spacy<2.4.0,>=2.3.0->en_core_web_sm==2.3.1) (2.0.3)\n",
      "Requirement already satisfied: urllib3<1.27,>=1.21.1 in /Users/harshitdawar/opt/anaconda3/envs/NLP/lib/python3.9/site-packages (from requests<3.0.0,>=2.13.0->spacy<2.4.0,>=2.3.0->en_core_web_sm==2.3.1) (1.26.6)\n",
      "Requirement already satisfied: idna<4,>=2.5 in /Users/harshitdawar/opt/anaconda3/envs/NLP/lib/python3.9/site-packages (from requests<3.0.0,>=2.13.0->spacy<2.4.0,>=2.3.0->en_core_web_sm==2.3.1) (3.2)\n",
      "Building wheels for collected packages: en-core-web-sm\n",
      "  Building wheel for en-core-web-sm (setup.py) ... \u001b[?25ldone\n",
      "\u001b[?25h  Created wheel for en-core-web-sm: filename=en_core_web_sm-2.3.1-py3-none-any.whl size=12047106 sha256=9694b0b3ef30a15f49add240302d3778b4ac52ed831bdb0f69fb4ae368d6ce08\n",
      "  Stored in directory: /private/var/folders/1s/j3lglhpj3318cqg1wpsnv4qc0000gn/T/pip-ephem-wheel-cache-hhkgu6fv/wheels/19/d6/1c/5484b95647df5d7afaf74abde458c66c1cd427e69e801fe826\n",
      "Successfully built en-core-web-sm\n",
      "Installing collected packages: en-core-web-sm\n",
      "Successfully installed en-core-web-sm-2.3.1\n",
      "\u001b[38;5;2m✔ Download and installation successful\u001b[0m\n",
      "You can now load the model via spacy.load('en_core_web_sm')\n"
     ]
    }
   ],
   "source": [
    "# Spacy supports around 64 different languages to work with!\n",
    "!python -m spacy download en_core_web_sm"
   ]
  },
  {
   "cell_type": "code",
   "execution_count": 1,
   "id": "137a0184",
   "metadata": {},
   "outputs": [],
   "source": [
    "# Importing the required English Package\n",
    "import en_core_web_sm\n",
    "import spacy"
   ]
  },
  {
   "cell_type": "code",
   "execution_count": 2,
   "id": "33a433c2",
   "metadata": {},
   "outputs": [],
   "source": [
    "english_model_nlp_pos = spacy.load(\"en_core_web_sm\")"
   ]
  },
  {
   "cell_type": "code",
   "execution_count": 3,
   "id": "b140a86a",
   "metadata": {},
   "outputs": [
    {
     "data": {
      "text/plain": [
       "<spacy.lang.en.English at 0x1102df070>"
      ]
     },
     "execution_count": 3,
     "metadata": {},
     "output_type": "execute_result"
    }
   ],
   "source": [
    "english_model_nlp_pos"
   ]
  },
  {
   "cell_type": "code",
   "execution_count": 25,
   "id": "7989a373",
   "metadata": {},
   "outputs": [
    {
     "name": "stdout",
     "output_type": "stream",
     "text": [
      "Token | POS Internal Position | Part Of Speech | Stop Word? | Alphanumeric ?\n",
      "****************************************************************************\n",
      "This\t\t90\t\tDET\t\tTrue\t\tTrue\n",
      "is\t\t87\t\tAUX\t\tTrue\t\tTrue\n",
      "my\t\t90\t\tDET\t\tTrue\t\tTrue\n",
      "first\t\t84\t\tADJ\t\tTrue\t\tTrue\n",
      "class\t\t92\t\tNOUN\t\tFalse\t\tTrue\n",
      "for\t\t85\t\tADP\t\tTrue\t\tTrue\n",
      "NLP\t\t96\t\tPROPN\t\tFalse\t\tTrue\n",
      "in\t\t85\t\tADP\t\tTrue\t\tTrue\n",
      "India\t\t96\t\tPROPN\t\tFalse\t\tTrue\n",
      "by\t\t85\t\tADP\t\tTrue\t\tTrue\n",
      "Mr.\t\t96\t\tPROPN\t\tFalse\t\tFalse\n",
      "Harshit\t\t96\t\tPROPN\t\tFalse\t\tTrue\n",
      "Dawar\t\t96\t\tPROPN\t\tFalse\t\tTrue\n",
      "!\t\t97\t\tPUNCT\t\tFalse\t\tFalse\n"
     ]
    }
   ],
   "source": [
    "# Checking the tokens and their properties\n",
    "sentence = english_model_nlp_pos(\"This is my first class for NLP in India by Mr. Harshit Dawar!\") \n",
    "\n",
    "print(\"Token | POS Internal Position | Part Of Speech | Stop Word? | Alphanumeric ?\")\n",
    "print(\"****************************************************************************\")\n",
    "for token in sentence:\n",
    "    print(token.text + \"\\t\"*2 + str(token.pos) + \"\\t\"*2 + token.pos_ + \\\n",
    "          \"\\t\"*2 + str(token.is_stop) + \"\\t\"*2 + str(token.is_alpha))"
   ]
  },
  {
   "cell_type": "markdown",
   "id": "a1057ac1",
   "metadata": {},
   "source": [
    "# Congratulation, you have learned about POS (Part of Speech)"
   ]
  }
 ],
 "metadata": {
  "kernelspec": {
   "display_name": "Python 3 (ipykernel)",
   "language": "python",
   "name": "python3"
  },
  "language_info": {
   "codemirror_mode": {
    "name": "ipython",
    "version": 3
   },
   "file_extension": ".py",
   "mimetype": "text/x-python",
   "name": "python",
   "nbconvert_exporter": "python",
   "pygments_lexer": "ipython3",
   "version": "3.9.6"
  }
 },
 "nbformat": 4,
 "nbformat_minor": 5
}
