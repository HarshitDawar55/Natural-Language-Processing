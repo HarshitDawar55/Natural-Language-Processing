{
 "cells": [
  {
   "cell_type": "markdown",
   "id": "282e593a",
   "metadata": {},
   "source": [
    "# Word Similarity by `Mr. Harshit Dawar!`\n",
    "* Spacy Library uses GloVe algorithm for finding the similarites!"
   ]
  },
  {
   "cell_type": "code",
   "execution_count": 1,
   "id": "3a64b9d0",
   "metadata": {},
   "outputs": [],
   "source": [
    "import spacy\n",
    "import warnings\n",
    "warnings.filterwarnings('ignore')\n",
    "english_model_nlp = spacy.load(\"en_core_web_sm\")"
   ]
  },
  {
   "cell_type": "code",
   "execution_count": 2,
   "id": "b43ddf57",
   "metadata": {},
   "outputs": [],
   "source": [
    "# Creating a sentence for the demo!\n",
    "sentence = english_model_nlp(\"This is my first class for NLP in India \\\n",
    "by Mr. Harshit Dawar!, I am super excited for this class.\")"
   ]
  },
  {
   "cell_type": "code",
   "execution_count": 3,
   "id": "1026e036",
   "metadata": {},
   "outputs": [
    {
     "name": "stdout",
     "output_type": "stream",
     "text": [
      "************************************************************************************\n",
      "I am thinking of buying a House! is 100.00% similar to I am thinking of buying a House!\n",
      "I am thinking of buying a House! is 92.93% similar to I am also thinking of buying a House!\n",
      "I am thinking of buying a House! is 65.55% similar to Are you wearing an apple watch!\n",
      "************************************************************************************\n",
      "I am also thinking of buying a House! is 92.93% similar to I am thinking of buying a House!\n",
      "I am also thinking of buying a House! is 100.00% similar to I am also thinking of buying a House!\n",
      "I am also thinking of buying a House! is 67.63% similar to Are you wearing an apple watch!\n",
      "************************************************************************************\n",
      "Are you wearing an apple watch! is 65.55% similar to I am thinking of buying a House!\n",
      "Are you wearing an apple watch! is 67.63% similar to I am also thinking of buying a House!\n",
      "Are you wearing an apple watch! is 100.00% similar to Are you wearing an apple watch!\n"
     ]
    }
   ],
   "source": [
    "# Writing 3 sentences to see their similarity!\n",
    "sen1 = \"I am thinking of buying a House!\"\n",
    "sen2 = \"I am also thinking of buying a House!\"\n",
    "sen3 = \"Are you wearing an apple watch!\"\n",
    "\n",
    "sentences = [english_model_nlp(sen1), english_model_nlp(sen2), english_model_nlp(sen3)]\n",
    "\n",
    "for sentence in sentences:\n",
    "    print(\"************\"*7)\n",
    "    for one_more_sentence in sentences:\n",
    "        print(\"{} is {:.2f}% similar to {}\".format( sentence,\n",
    "            sentence.similarity(one_more_sentence)*100, one_more_sentence))"
   ]
  },
  {
   "cell_type": "markdown",
   "id": "644ca746",
   "metadata": {},
   "source": [
    "# Congratulations, you have learned a lot about the Word Similarity!"
   ]
  }
 ],
 "metadata": {
  "kernelspec": {
   "display_name": "Python 3 (ipykernel)",
   "language": "python",
   "name": "python3"
  },
  "language_info": {
   "codemirror_mode": {
    "name": "ipython",
    "version": 3
   },
   "file_extension": ".py",
   "mimetype": "text/x-python",
   "name": "python",
   "nbconvert_exporter": "python",
   "pygments_lexer": "ipython3",
   "version": "3.9.6"
  }
 },
 "nbformat": 4,
 "nbformat_minor": 5
}
