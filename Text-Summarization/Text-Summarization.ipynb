{
 "cells": [
  {
   "cell_type": "markdown",
   "id": "f410e9e8",
   "metadata": {},
   "source": [
    "# Text Summarization by `Mr. Harshit Dawar!`"
   ]
  },
  {
   "cell_type": "code",
   "execution_count": 1,
   "id": "73d57c44",
   "metadata": {},
   "outputs": [
    {
     "name": "stderr",
     "output_type": "stream",
     "text": [
      "[nltk_data] Downloading package stopwords to\n",
      "[nltk_data]     /Users/harshitdawar/nltk_data...\n",
      "[nltk_data]   Package stopwords is already up-to-date!\n"
     ]
    }
   ],
   "source": [
    "# Importing the required Libraries\n",
    "\n",
    "import goose3     # For fetching the text from the URL\n",
    "import spacy\n",
    "import nltk\n",
    "# Downloading the stopwords\n",
    "nltk.download(\"stopwords\")\n",
    "from wordcloud import WordCloud\n",
    "import pandas as pd\n",
    "import matplotlib.pyplot as plt\n",
    "model = spacy.load(\"en_core_web_sm\")"
   ]
  },
  {
   "cell_type": "code",
   "execution_count": 2,
   "id": "e17b26b1",
   "metadata": {},
   "outputs": [],
   "source": [
    "goose = goose3.Goose()\n",
    "\n",
    "# Extracting data from the wikopedia article on NLP!\n",
    "data = goose.extract(\"https://en.wikipedia.org/wiki/Natural_language_processing\")"
   ]
  },
  {
   "cell_type": "code",
   "execution_count": 3,
   "id": "a49a3b05",
   "metadata": {},
   "outputs": [
    {
     "data": {
      "text/plain": [
       "'Natural language processing (NLP) is a subfield of linguistics, computer science, and artificial intelligence concerned with the interactions between computers and human language, in particular how to program computers to process and analyze large amounts of natural language data. The goal is a computer capable of \"understanding\" the contents of documents, including the contextual nuances of the language within them. The technology can then accurately extract information and insights contained in the documents as well as categorize and organize the documents themselves.\\n\\nNatural language processing has its roots in the 1950s. Already in 1950, Alan Turing published an article titled \"Computing Machinery and Intelligence\" which proposed what is now called the Turing test as a criterion of intelligence, a task that involves the automated interpretation and generation of natural language, but at the time not articulated as a problem separate from artificial intelligence.\\n\\nThe premise of symbolic NLP is well-summarized by John Searle\\'s Chinese room experiment: Given a collection of rules (e.g., a Chinese phrasebook, with questions and matching answers), the computer emulates natural language understanding (or other NLP tasks) by applying those rules to the data it is confronted with.\\n• 1950s: The Georgetown experiment in 1954 involved fully automatic translation of more than sixty Russian sentences into English. The authors claimed that within three or five years, machine translation would be a solved problem.[2] However, real progress was much slower, and after the ALPAC report in 1966, which found that ten-year-long research had failed to fulfill the expectations, funding for machine translation was dramatically reduced. Little further research in machine translation was conducted until the late 1980s when the first statistical machine translation systems were developed.\\n• 1960s: Some notably successful natural language processing systems developed in the 1960s were SHRDLU, a natural language system working in restricted \"blocks worlds\" with restricted vocabularies, and ELIZA, a simulation of a Rogerian psychotherapist, written by Joseph Weizenbaum between 1964 and 1966. Using almost no information about human thought or emotion, ELIZA sometimes provided a startlingly human-like interaction. When the \"patient\" exceeded the very small knowledge base, ELIZA might provide a generic response, for example, responding to \"My head hurts\" with \"Why do you say your head hurts?\".\\n• 1970s: During the 1970s, many programmers began to write \"conceptual ontologies\", which structured real-world information into computer-understandable data. Examples are MARGIE (Schank, 1975), SAM (Cullingford, 1978), PAM (Wilensky, 1978), TaleSpin (Meehan, 1976), QUALM (Lehnert, 1977), Politics (Carbonell, 1979), and Plot Units (Lehnert 1981). During this time, the first many chatterbots were written (e.g., PARRY).\\n• 1980s: The 1980s and early 1990s mark the hey-day of symbolic methods in NLP. Focus areas of the time included research on rule-based parsing (e.g., the development of HPSG as a computational operationalization of generative grammar), morphology (e.g., two-level morphology[3]), semantics (e.g., Lesk algorithm), reference (e.g., within Centering Theory[4]) and other areas of natural language understanding (e.g., in the Rhetorical Structure Theory). Other lines of research were continued, e.g., the development of chatterbots with Racter and Jabberwacky. An important development (that eventually led to the statistical turn in the 1990s) was the rising importance of quantitative evaluation in this period.[5]\\n\\nUp to the 1980s, most natural language processing systems were based on complex sets of hand-written rules. Starting in the late 1980s, however, there was a revolution in natural language processing with the introduction of machine learning algorithms for language processing. This was due to both the steady increase in computational power (see Moore\\'s law) and the gradual lessening of the dominance of Chomskyan theories of linguistics (e.g. transformational grammar), whose theoretical underpinnings discouraged the sort of corpus linguistics that underlies the machine-learning approach to language processing.[6]\\n• 1990s: Many of the notable early successes on statistical methods in NLP occurred in the field of machine translation, due especially to work at IBM Research. These systems were able to take advantage of existing multilingual textual corpora that had been produced by the Parliament of Canada and the European Union as a result of laws calling for the translation of all governmental proceedings into all official languages of the corresponding systems of government. However, most other systems depended on corpora specifically developed for the tasks implemented by these systems, which was (and often continues to be) a major limitation in the success of these systems. As a result, a great deal of research has gone into methods of more effectively learning from limited amounts of data.\\n• 2000s: With the growth of the web, increasing amounts of raw (unannotated) language data has become available since the mid-1990s. Research has thus increasingly focused on unsupervised and semi-supervised learning algorithms. Such algorithms can learn from data that has not been hand-annotated with the desired answers or using a combination of annotated and non-annotated data. Generally, this task is much more difficult than supervised learning, and typically produces less accurate results for a given amount of input data. However, there is an enormous amount of non-annotated data available (including, among other things, the entire content of the World Wide Web), which can often make up for the inferior results if the algorithm used has a low enough time complexity to be practical.\\n\\nIn the 2010s, representation learning and deep neural network-style machine learning methods became widespread in natural language processing, due in part to a flurry of results showing that such techniques[7][8] can achieve state-of-the-art results in many natural language tasks, for example in language modeling,[9] parsing,[10][11] and many others. This is increasingly important in medicine and healthcare, where NLP is being used to analyze notes and text in electronic health records that would otherwise be inaccessible for study when seeking to improve care.[12]\\n\\nIn the early days, many language-processing systems were designed by symbolic methods, i.e., the hand-coding of a set of rules, coupled with a dictionary lookup:[13][14] such as by writing grammars or devising heuristic rules for stemming.\\n\\nMore recent systems based on machine-learning algorithms have many advantages over hand-produced rules:\\n• The learning procedures used during machine learning automatically focus on the most common cases, whereas when writing rules by hand it is often not at all obvious where the effort should be directed.\\n• Automatic learning procedures can make use of statistical inference algorithms to produce models that are robust to unfamiliar input (e.g. containing words or structures that have not been seen before) and to erroneous input (e.g. with misspelled words or words accidentally omitted). Generally, handling such input gracefully with handwritten rules, or, more generally, creating systems of handwritten rules that make soft decisions, is extremely difficult, error-prone and time-consuming.\\n• Systems based on automatically learning the rules can be made more accurate simply by supplying more input data. However, systems based on handwritten rules can only be made more accurate by increasing the complexity of the rules, which is a much more difficult task. In particular, there is a limit to the complexity of systems based on handwritten rules, beyond which the systems become more and more unmanageable. However, creating more data to input to machine-learning systems simply requires a corresponding increase in the number of man-hours worked, generally without significant increases in the complexity of the annotation process.\\n\\nDespite the popularity of machine learning in NLP research, symbolic methods are still (2020) commonly used:\\n• when the amount of training data is insufficient to successfully apply machine learning methods, e.g., for the machine translation of low-resource languages such as provided by the Apertium system,\\n• for preprocessing in NLP pipelines, e.g., tokenization, or\\n• for postprocessing and transforming the output of NLP pipelines, e.g., for knowledge extraction from syntactic parses.\\n\\nSince the so-called \"statistical revolution\"[15][16] in the late 1980s and mid-1990s, much natural language processing research has relied heavily on machine learning. The machine-learning paradigm calls instead for using statistical inference to automatically learn such rules through the analysis of large corpora (the plural form of corpus, is a set of documents, possibly with human or computer annotations) of typical real-world examples.\\n\\nMany different classes of machine-learning algorithms have been applied to natural-language-processing tasks. These algorithms take as input a large set of \"features\" that are generated from the input data. Increasingly, however, research has focused on statistical models, which make soft, probabilistic decisions based on attaching real-valued weights to each input feature (complex-valued embeddings,[17] and neural networks in general have also been proposed, for e.g. speech[18]). Such models have the advantage that they can express the relative certainty of many different possible answers rather than only one, producing more reliable results when such a model is included as a component of a larger system.\\n\\nSome of the earliest-used machine learning algorithms, such as decision trees, produced systems of hard if-then rules similar to existing hand-written rules. However, part-of-speech tagging introduced the use of hidden Markov models to natural language processing, and increasingly, research has focused on statistical models, which make soft, probabilistic decisions based on attaching real-valued weights to the features making up the input data. The cache language models upon which many speech recognition systems now rely are examples of such statistical models. Such models are generally more robust when given unfamiliar input, especially input that contains errors (as is very common for real-world data), and produce more reliable results when integrated into a larger system comprising multiple subtasks.\\n\\nSince the neural turn, statistical methods in NLP research have been largely replaced by neural networks. However, they continue to be relevant for contexts in which statistical interpretability and transparency is required.\\n\\nA major drawback of statistical methods is that they require elaborate feature engineering. Since 2015,[19] the field has thus largely abandoned statistical methods and shifted to neural networks for machine learning. Popular techniques include the use of word embeddings to capture semantic properties of words, and an increase in end-to-end learning of a higher-level task (e.g., question answering) instead of relying on a pipeline of separate intermediate tasks (e.g., part-of-speech tagging and dependency parsing). In some areas, this shift has entailed substantial changes in how NLP systems are designed, such that deep neural network-based approaches may be viewed as a new paradigm distinct from statistical natural language processing. For instance, the term neural machine translation (NMT) emphasizes the fact that deep learning-based approaches to machine translation directly learn sequence-to-sequence transformations, obviating the need for intermediate steps such as word alignment and language modeling that was used in statistical machine translation (SMT). Latest works tend to use non-technical structure of a given task to build proper neural network.[20]\\n\\nThe following is a list of some of the most commonly researched tasks in natural language processing. Some of these tasks have direct real-world applications, while others more commonly serve as subtasks that are used to aid in solving larger tasks.\\n\\nThough natural language processing tasks are closely intertwined, they can be subdivided into categories for convenience. A coarse division is given below.\\n\\nBased on long-standing trends in the field, it is possible to extrapolate future directions of NLP. As of 2020, three trends among the topics of the long-standing series of CoNLL Shared Tasks can be observed:[36]\\n• Increasing interest in multilinguality, and, potentially, multimodality (English since 1999; Spanish, Dutch since 2002; German since 2003; Bulgarian, Danish, Japanese, Portuguese, Slovenian, Swedish, Turkish since 2006; Basque, Catalan, Chinese, Greek, Hungarian, Italian, Turkish since 2007; Czech since 2009; Arabic since 2012; 2017: 40+ languages; 2018: 60+/100+ languages)\\n• Elimination of symbolic representations (rule-based over supervised towards weakly supervised methods, representation learning and end-to-end systems)\\n\\nMost higher-level NLP applications involve aspects that emulate intelligent behaviour and apparent comprehension of natural language. More broadly speaking, the technical operationalization of increasingly advanced aspects of cognitive behaviour represents one of the developmental trajectories of NLP (see trends among CoNLL shared tasks above).\\n\\nCognition refers to \"the mental action or process of acquiring knowledge and understanding through thought, experience, and the senses.\"[37] Cognitive science is the interdisciplinary, scientific study of the mind and its processes.[38] Cognitive linguistics is an interdisciplinary branch of linguistics, combining knowledge and research from both psychology and linguistics.[39] Especially during the age of symbolic NLP, the area of computational linguistics maintained strong ties with cognitive studies.\\n\\nAs an example, George Lakoff offers a methodology to build natural language processing (NLP) algorithms through the perspective of cognitive science, along with the findings of cognitive linguistics,[40] with two defining aspects:\\n• Apply the theory of conceptual metaphor, explained by Lakoff as “the understanding of one idea, in terms of another” which provides an idea of the intent of the author.[41] For example, consider the English word “big”. When used in a comparison (“That is a big tree”), the author\\'s intent is to imply that the tree is ”physically large” relative to other trees or the authors experience. When used metaphorically (”Tomorrow is a big day”), the author’s intent to imply ”importance”. The intent behind other usages, like in ”She is a big person” will remain somewhat ambiguous to a person and a cognitive NLP algorithm alike without additional information.\\n• Assign relative measures of meaning to a word, phrase, sentence or piece of text based on the information presented before and after the piece of text being analyzed, e.g., by means of a probabilistic context-free grammar (PCFG). The mathematical equation for such algorithms is presented in :\\n\\nTies with cognitive linguistics are part of the historical heritage of NLP, but they have been less frequently addressed since the statistical turn during the 1990s. Nevertheless, approaches to develop cognitive models towards technically operationalizable frameworks have been pursued in the context of various frameworks, e.g., of cognitive grammar,[42] functional grammar,[43] construction grammar,[44] computational psycholinguistics and cognitive neuroscience (e.g., ACT-R), however, with limited uptake in mainstream NLP (as measured by presence on major conferences[45] of the ACL). More recently, ideas of cognitive NLP have been revived as an approach to achieve explainability, e.g., under the notion of \"cognitive AI\".[46] Likewise, ideas of cognitive NLP are inherent to neural models multimodal NLP (although rarely made explicit).[47]'"
      ]
     },
     "execution_count": 3,
     "metadata": {},
     "output_type": "execute_result"
    }
   ],
   "source": [
    "data.cleaned_text"
   ]
  },
  {
   "cell_type": "code",
   "execution_count": 4,
   "id": "da1ace97",
   "metadata": {},
   "outputs": [
    {
     "data": {
      "text/plain": [
       "'Natural language processing - Wikipedia'"
      ]
     },
     "execution_count": 4,
     "metadata": {},
     "output_type": "execute_result"
    }
   ],
   "source": [
    "data.title"
   ]
  },
  {
   "cell_type": "code",
   "execution_count": 5,
   "id": "7a704d77",
   "metadata": {},
   "outputs": [],
   "source": [
    "def pre_process_text_for_NLP(data):\n",
    "    # Changing the Data into lowercase\n",
    "    data = data.lower()\n",
    "    \n",
    "    # Removing custom special characters from the Data!\n",
    "    data = data.replace(\".\", \"\")\n",
    "    data = data.replace(\"[\", \"\")\n",
    "    data = data.replace(\"]\", \"\")\n",
    "    data = data.replace(\",\", \"\")\n",
    "    data = data.replace(\"(\", \"\")\n",
    "    data = data.replace(\")\", \"\")\n",
    "    data = data.replace(\"{\", \"\")\n",
    "    data = data.replace(\"}\", \"\")\n",
    "    \n",
    "    # Removing Stopwords, spaces, numbers, & punctuations from the Data!\n",
    "    processed_data = [\n",
    "                      token.text for token in model(data) if token.text not in \\\n",
    "                      nltk.corpus.stopwords.words(\"english\") and token.text != \"not\" and not \\\n",
    "                      (token.is_punct or token.is_space or token.like_num)\n",
    "                     ]\n",
    "    \n",
    "    return \" \".join(processed_data)"
   ]
  },
  {
   "cell_type": "code",
   "execution_count": 6,
   "id": "6cd78e7b",
   "metadata": {},
   "outputs": [],
   "source": [
    "processed_cleaned_data = pre_process_text_for_NLP(data.cleaned_text)"
   ]
  },
  {
   "cell_type": "code",
   "execution_count": 7,
   "id": "e488f11e",
   "metadata": {},
   "outputs": [
    {
     "data": {
      "text/plain": [
       "'natural language processing nlp subfield linguistics computer science artificial intelligence concerned interactions computers human language particular program computers process analyze large amounts natural language data goal computer capable understanding contents documents including contextual nuances language within technology accurately extract information insights contained documents well categorize organize documents natural language processing roots 1950s already alan turing published article titled computing machinery intelligence proposed called turing test criterion intelligence task involves automated interpretation generation natural language time articulated problem separate artificial intelligence premise symbolic nlp well summarized john searle \\'s chinese room experiment given collection rules eg chinese phrasebook questions matching answers computer emulates natural language understanding nlp tasks applying rules data confronted 1950s georgetown experiment involved fully automatic translation russian sentences english authors claimed within years machine translation would solved problem2 however real progress much slower alpac report found year long research failed fulfill expectations funding machine translation dramatically reduced little research machine translation conducted late 1980s statistical machine translation systems developed 1960s notably successful natural language processing systems developed 1960s shrdlu natural language system working restricted blocks worlds restricted vocabularies eliza simulation rogerian psychotherapist written joseph weizenbaum using almost information human thought emotion eliza sometimes provided startlingly human like interaction patient exceeded small knowledge base eliza might provide generic response example responding head hurts say head hurts 1970s 1970s many programmers began write conceptual ontologies structured real world information computer understandable data examples margie schank sam cullingford pam wilensky talespin meehan qualm lehnert politics carbonell plot units lehnert time many chatterbots written eg parry 1980s 1980s early 1990s mark hey day symbolic methods nlp focus areas time included research rule based parsing eg development hpsg computational operationalization generative grammar morphology eg level morphology3 semantics eg lesk algorithm reference eg within centering theory4 areas natural language understanding eg rhetorical structure theory lines research continued eg development chatterbots racter jabberwacky important development eventually led statistical turn 1990s rising importance quantitative evaluation period5 1980s natural language processing systems based complex sets hand written rules starting late 1980s however revolution natural language processing introduction machine learning algorithms language processing due steady increase computational power see moore \\'s law gradual lessening dominance chomskyan theories linguistics eg transformational grammar whose theoretical underpinnings discouraged sort corpus linguistics underlies machine learning approach language processing6 1990s many notable early successes statistical methods nlp occurred field machine translation due especially work ibm research systems able take advantage existing multilingual textual corpora produced parliament canada european union result laws calling translation governmental proceedings official languages corresponding systems government however systems depended corpora specifically developed tasks implemented systems often continues major limitation success systems result great deal research gone methods effectively learning limited amounts data 2000s growth web increasing amounts raw unannotated language data become available since mid-1990s research thus increasingly focused unsupervised semi supervised learning algorithms algorithms learn data hand annotated desired answers using combination annotated non annotated data generally task much difficult supervised learning typically produces less accurate results given amount input data however enormous amount non annotated data available including among things entire content world wide web often make inferior results algorithm used low enough time complexity practical 2010s representation learning deep neural network style machine learning methods became widespread natural language processing due part flurry results showing techniques78 achieve state art results many natural language tasks example language modeling9 parsing1011 many others increasingly important medicine healthcare nlp used analyze notes text electronic health records would otherwise inaccessible study seeking improve care12 early days many language processing systems designed symbolic methods ie hand coding set rules coupled dictionary lookup:1314 writing grammars devising heuristic rules stemming recent systems based machine learning algorithms many advantages hand produced rules learning procedures used machine learning automatically focus common cases whereas writing rules hand often obvious effort directed automatic learning procedures make use statistical inference algorithms produce models robust unfamiliar input eg containing words structures seen erroneous input eg misspelled words words accidentally omitted generally handling input gracefully handwritten rules generally creating systems handwritten rules make soft decisions extremely difficult error prone time consuming systems based automatically learning rules made accurate simply supplying input data however systems based handwritten rules made accurate increasing complexity rules much difficult task particular limit complexity systems based handwritten rules beyond systems become unmanageable however creating data input machine learning systems simply requires corresponding increase number man hours worked generally without significant increases complexity annotation process despite popularity machine learning nlp research symbolic methods still commonly used amount training data insufficient successfully apply machine learning methods eg machine translation low resource languages provided apertium system preprocessing nlp pipelines eg tokenization postprocessing transforming output nlp pipelines eg knowledge extraction syntactic parses since called statistical revolution\"1516 late 1980s mid-1990s much natural language processing research relied heavily machine learning machine learning paradigm calls instead using statistical inference automatically learn rules analysis large corpora plural form corpus set documents possibly human computer annotations typical real world examples many different classes machine learning algorithms applied natural language processing tasks algorithms take input large set features generated input data increasingly however research focused statistical models make soft probabilistic decisions based attaching real valued weights input feature complex valued embeddings17 neural networks general also proposed eg speech18 models advantage express relative certainty many different possible answers rather producing reliable results model included component larger system earliest used machine learning algorithms decision trees produced systems hard rules similar existing hand written rules however part speech tagging introduced use hidden markov models natural language processing increasingly research focused statistical models make soft probabilistic decisions based attaching real valued weights features making input data cache language models upon many speech recognition systems rely examples statistical models models generally robust given unfamiliar input especially input contains errors common real world data produce reliable results integrated larger system comprising multiple subtasks since neural turn statistical methods nlp research largely replaced neural networks however continue relevant contexts statistical interpretability transparency required major drawback statistical methods require elaborate feature engineering since field thus largely abandoned statistical methods shifted neural networks machine learning popular techniques include use word embeddings capture semantic properties words increase end end learning higher level task eg question answering instead relying pipeline separate intermediate tasks eg part speech tagging dependency parsing areas shift entailed substantial changes nlp systems designed deep neural network based approaches may viewed new paradigm distinct statistical natural language processing instance term neural machine translation nmt emphasizes fact deep learning based approaches machine translation directly learn sequence sequence transformations obviating need intermediate steps word alignment language modeling used statistical machine translation smt latest works tend use non technical structure given task build proper neural network20 following list commonly researched tasks natural language processing tasks direct real world applications others commonly serve subtasks used aid solving larger tasks though natural language processing tasks closely intertwined subdivided categories convenience coarse division given based long standing trends field possible extrapolate future directions nlp trends among topics long standing series conll shared tasks observed:36 increasing interest multilinguality potentially multimodality english since spanish dutch since german since bulgarian danish japanese portuguese slovenian swedish turkish since basque catalan chinese greek hungarian italian turkish since czech since arabic since + languages 60+/100 + languages elimination symbolic representations rule based supervised towards weakly supervised methods representation learning end end systems higher level nlp applications involve aspects emulate intelligent behaviour apparent comprehension natural language broadly speaking technical operationalization increasingly advanced aspects cognitive behaviour represents developmental trajectories nlp see trends among conll shared tasks cognition refers mental action process acquiring knowledge understanding thought experience senses\"37 cognitive science interdisciplinary scientific study mind processes38 cognitive linguistics interdisciplinary branch linguistics combining knowledge research psychology linguistics39 especially age symbolic nlp area computational linguistics maintained strong ties cognitive studies example george lakoff offers methodology build natural language processing nlp algorithms perspective cognitive science along findings cognitive linguistics40 defining aspects apply theory conceptual metaphor explained lakoff understanding idea terms another provides idea intent author41 example consider english word big used comparison big tree author \\'s intent imply tree physically large relative trees authors experience used metaphorically tomorrow big day author ’s intent imply importance intent behind usages like big person remain somewhat ambiguous person cognitive nlp algorithm alike without additional information assign relative measures meaning word phrase sentence piece text based information presented piece text analyzed eg means probabilistic context free grammar pcfg mathematical equation algorithms presented ties cognitive linguistics part historical heritage nlp less frequently addressed since statistical turn 1990s nevertheless approaches develop cognitive models towards technically operationalizable frameworks pursued context various frameworks eg cognitive grammar42 functional grammar43 construction grammar44 computational psycholinguistics cognitive neuroscience eg act r however limited uptake mainstream nlp measured presence major conferences45 acl recently ideas cognitive nlp revived approach achieve explainability eg notion cognitive ai\"46 likewise ideas cognitive nlp inherent neural models multimodal nlp although rarely made explicit47'"
      ]
     },
     "execution_count": 7,
     "metadata": {},
     "output_type": "execute_result"
    }
   ],
   "source": [
    "processed_cleaned_data"
   ]
  },
  {
   "cell_type": "code",
   "execution_count": null,
   "id": "1938e1ef",
   "metadata": {},
   "outputs": [],
   "source": []
  }
 ],
 "metadata": {
  "kernelspec": {
   "display_name": "Python 3 (ipykernel)",
   "language": "python",
   "name": "python3"
  },
  "language_info": {
   "codemirror_mode": {
    "name": "ipython",
    "version": 3
   },
   "file_extension": ".py",
   "mimetype": "text/x-python",
   "name": "python",
   "nbconvert_exporter": "python",
   "pygments_lexer": "ipython3",
   "version": "3.9.6"
  }
 },
 "nbformat": 4,
 "nbformat_minor": 5
}
