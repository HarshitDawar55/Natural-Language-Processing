{
 "cells": [
  {
   "cell_type": "markdown",
   "id": "2296da15",
   "metadata": {},
   "source": [
    "# Cosine Similarity by `Mr. Harshit Dawar!`\n",
    "\n",
    "* It measures how two or more than sentences are alligned with each other in the n-dimensional space\n",
    "* Sentences are preferred to be processed by TF-IDF method first before using this cosine similarity to get the best results instead of processing using the Count Vectorizer."
   ]
  },
  {
   "cell_type": "code",
   "execution_count": 1,
   "id": "3ed45056",
   "metadata": {},
   "outputs": [],
   "source": [
    "# Import the required Libraries\n",
    "from sklearn.feature_extraction.text import TfidfVectorizer\n",
    "from sklearn.metrics.pairwise import cosine_similarity\n",
    "import numpy as np"
   ]
  },
  {
   "cell_type": "code",
   "execution_count": 2,
   "id": "54fb9ef3",
   "metadata": {},
   "outputs": [],
   "source": [
    "# Writing sample sentences\n",
    "sentences = [\n",
    "             \"I am wearing an Apple Watch!\",\n",
    "             \"Can you pass the curd to me?\",\n",
    "             \"I am planning to buy a Watch\"\n",
    "            ]"
   ]
  },
  {
   "cell_type": "code",
   "execution_count": 3,
   "id": "0e2d231e",
   "metadata": {},
   "outputs": [],
   "source": [
    "# Applying Tf-IDF to the sentences\n",
    "TFIDF_Vectorizer = TfidfVectorizer()\n",
    "sentences_transformed = TFIDF_Vectorizer.fit_transform(sentences)"
   ]
  },
  {
   "cell_type": "code",
   "execution_count": null,
   "id": "ce9f443d",
   "metadata": {},
   "outputs": [],
   "source": []
  }
 ],
 "metadata": {
  "kernelspec": {
   "display_name": "Python 3 (ipykernel)",
   "language": "python",
   "name": "python3"
  },
  "language_info": {
   "codemirror_mode": {
    "name": "ipython",
    "version": 3
   },
   "file_extension": ".py",
   "mimetype": "text/x-python",
   "name": "python",
   "nbconvert_exporter": "python",
   "pygments_lexer": "ipython3",
   "version": "3.9.6"
  }
 },
 "nbformat": 4,
 "nbformat_minor": 5
}
