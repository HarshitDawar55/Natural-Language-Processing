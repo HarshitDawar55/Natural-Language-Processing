{
 "cells": [
  {
   "cell_type": "markdown",
   "id": "ce868c8f",
   "metadata": {},
   "source": [
    "# Cosine Similarity by `Mr. Harshit Dawar!`\n",
    "\n",
    "* It measures how two or more than sentences are alligned with each other in the n-dimensional space\n",
    "* Sentences are preferred to be processed by TF-IDF method first before using this cosine similarity to get the best results instead of processing using the Count Vectorizer."
   ]
  },
  {
   "cell_type": "code",
   "execution_count": 1,
   "id": "8d370217",
   "metadata": {},
   "outputs": [],
   "source": [
    "# Import the required Libraries\n",
    "from sklearn.feature_extraction.text import TfidfVectorizer\n",
    "from sklearn.metrics.pairwise import cosine_similarity\n",
    "import numpy as np"
   ]
  },
  {
   "cell_type": "code",
   "execution_count": 22,
   "id": "d25b9db7",
   "metadata": {},
   "outputs": [],
   "source": [
    "# Writing sample sentences\n",
    "sentences = [\n",
    "             \"I am wearing an Apple Watch!\",\n",
    "             \"Can you pass the curd to me?\",\n",
    "             \"I am planning to buy a Watch\"\n",
    "            ]"
   ]
  },
  {
   "cell_type": "code",
   "execution_count": 23,
   "id": "a9b6f339",
   "metadata": {},
   "outputs": [],
   "source": [
    "# Applying Tf-IDF to the sentences\n",
    "TFIDF_Vectorizer = TfidfVectorizer()\n",
    "sentences_transformed = TFIDF_Vectorizer.fit_transform(sentences)"
   ]
  },
  {
   "cell_type": "code",
   "execution_count": 24,
   "id": "5ba5ba5b",
   "metadata": {},
   "outputs": [
    {
     "data": {
      "text/plain": [
       "array([[0.37302199, 0.49047908, 0.49047908, 0.        , 0.        ,\n",
       "        0.        , 0.        , 0.        , 0.        , 0.        ,\n",
       "        0.        , 0.37302199, 0.49047908, 0.        ],\n",
       "       [0.        , 0.        , 0.        , 0.        , 0.38988801,\n",
       "        0.38988801, 0.38988801, 0.38988801, 0.        , 0.38988801,\n",
       "        0.29651988, 0.        , 0.        , 0.38988801],\n",
       "       [0.3935112 , 0.        , 0.        , 0.51741994, 0.        ,\n",
       "        0.        , 0.        , 0.        , 0.51741994, 0.        ,\n",
       "        0.3935112 , 0.3935112 , 0.        , 0.        ]])"
      ]
     },
     "execution_count": 24,
     "metadata": {},
     "output_type": "execute_result"
    }
   ],
   "source": [
    "# Printing the transformed sentences\n",
    "sentences_transformed.toarray()"
   ]
  },
  {
   "cell_type": "code",
   "execution_count": 25,
   "id": "458f662c",
   "metadata": {},
   "outputs": [
    {
     "data": {
      "text/plain": [
       "(3, 14)"
      ]
     },
     "execution_count": 25,
     "metadata": {},
     "output_type": "execute_result"
    }
   ],
   "source": [
    "# Printing the shape of the transformed sentences\n",
    "sentences_transformed.toarray().shape"
   ]
  },
  {
   "cell_type": "code",
   "execution_count": 26,
   "id": "d2b25ede",
   "metadata": {},
   "outputs": [
    {
     "data": {
      "text/plain": [
       "['am',\n",
       " 'an',\n",
       " 'apple',\n",
       " 'buy',\n",
       " 'can',\n",
       " 'curd',\n",
       " 'me',\n",
       " 'pass',\n",
       " 'planning',\n",
       " 'the',\n",
       " 'to',\n",
       " 'watch',\n",
       " 'wearing',\n",
       " 'you']"
      ]
     },
     "execution_count": 26,
     "metadata": {},
     "output_type": "execute_result"
    }
   ],
   "source": [
    "# Printing the unique entities\n",
    "TFIDF_Vectorizer.get_feature_names()"
   ]
  },
  {
   "cell_type": "code",
   "execution_count": 46,
   "id": "245dcfe5",
   "metadata": {},
   "outputs": [
    {
     "name": "stdout",
     "output_type": "stream",
     "text": [
      "'I am wearing an Apple Watch!' is 100.00% similar to 'I am wearing an Apple Watch!'\n",
      "'I am wearing an Apple Watch!' is 0.00% similar to 'Can you pass the curd to me?'\n",
      "'I am wearing an Apple Watch!' is 29.36% similar to 'I am planning to buy a Watch'\n"
     ]
    }
   ],
   "source": [
    "# Printing the Similarity\n",
    "sentence_1_similarity_with_others = cosine_similarity(sentences_transformed, sentences_transformed[0])\n",
    "for sentence_index in range(len(sentences_transformed.toarray())):\n",
    "    print(\"'{}' is {:.2f}% similar to '{}'\".format(sentences[0],\n",
    "                                               sentence_1_similarity_with_others[sentence_index][0] * 100,\n",
    "                                               sentences[sentence_index]\n",
    "                                              ))\n",
    "# sentence_1_similarity_with_others"
   ]
  },
  {
   "cell_type": "markdown",
   "id": "5990fe97",
   "metadata": {},
   "source": [
    "# Congratulations, you have learned how to perform the cosine similarity!"
   ]
  }
 ],
 "metadata": {
  "kernelspec": {
   "display_name": "Python 3 (ipykernel)",
   "language": "python",
   "name": "python3"
  },
  "language_info": {
   "codemirror_mode": {
    "name": "ipython",
    "version": 3
   },
   "file_extension": ".py",
   "mimetype": "text/x-python",
   "name": "python",
   "nbconvert_exporter": "python",
   "pygments_lexer": "ipython3",
   "version": "3.9.6"
  }
 },
 "nbformat": 4,
 "nbformat_minor": 5
}
