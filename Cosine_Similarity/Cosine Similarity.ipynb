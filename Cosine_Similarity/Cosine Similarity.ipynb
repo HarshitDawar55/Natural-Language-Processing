{
 "cells": [
  {
   "cell_type": "markdown",
   "id": "a6627601",
   "metadata": {},
   "source": [
    "# Cosine Similarity by `Mr. Harshit Dawar!`\n",
    "\n",
    "* It measures how two or more than sentences are alligned with each other in the n-dimensional space\n",
    "* Sentences are preferred to be processed by TF-IDF method first before using this cosine similarity to get the best results instead of processing using the Count Vectorizer."
   ]
  },
  {
   "cell_type": "code",
   "execution_count": 1,
   "id": "c4a387f0",
   "metadata": {},
   "outputs": [],
   "source": [
    "# Import the required Libraries\n",
    "from sklearn.feature_extraction.text import TfidfVectorizer\n",
    "from sklearn.metrics.pairwise import cosine_similarity\n",
    "import numpy as np"
   ]
  },
  {
   "cell_type": "code",
   "execution_count": null,
   "id": "5cc6920c",
   "metadata": {},
   "outputs": [],
   "source": []
  }
 ],
 "metadata": {
  "kernelspec": {
   "display_name": "Python 3 (ipykernel)",
   "language": "python",
   "name": "python3"
  },
  "language_info": {
   "codemirror_mode": {
    "name": "ipython",
    "version": 3
   },
   "file_extension": ".py",
   "mimetype": "text/x-python",
   "name": "python",
   "nbconvert_exporter": "python",
   "pygments_lexer": "ipython3",
   "version": "3.9.6"
  }
 },
 "nbformat": 4,
 "nbformat_minor": 5
}
