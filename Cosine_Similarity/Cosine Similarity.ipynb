{
 "cells": [
  {
   "cell_type": "markdown",
   "id": "89052bf3",
   "metadata": {},
   "source": [
    "# Cosine Similarity by `Mr. Harshit Dawar!`\n",
    "\n",
    "* It measures how two or more than sentences are alligned with each other in the n-dimensional space\n",
    "* Sentences are preferred to be processed by TF-IDF method first before using this cosine similarity to get the best results instead of processing using the Count Vectorizer."
   ]
  },
  {
   "cell_type": "code",
   "execution_count": 1,
   "id": "d70e80e3",
   "metadata": {},
   "outputs": [],
   "source": [
    "# Import the required Libraries\n",
    "from sklearn.feature_extraction.text import TfidfVectorizer\n",
    "from sklearn.metrics.pairwise import cosine_similarity\n",
    "import numpy as np"
   ]
  },
  {
   "cell_type": "code",
   "execution_count": 2,
   "id": "4beeae26",
   "metadata": {},
   "outputs": [],
   "source": [
    "# Writing sample sentences\n",
    "sentences = [\n",
    "             \"I am wearing an Apple Watch!\",\n",
    "             \"Can you pass the curd to me?\",\n",
    "             \"I am planning to buy a Watch\"\n",
    "            ]"
   ]
  },
  {
   "cell_type": "code",
   "execution_count": 3,
   "id": "2c724620",
   "metadata": {},
   "outputs": [],
   "source": [
    "# Applying Tf-IDF to the sentences\n",
    "TFIDF_Vectorizer = TfidfVectorizer()\n",
    "sentences_transformed = TFIDF_Vectorizer.fit_transform(sentences)"
   ]
  },
  {
   "cell_type": "code",
   "execution_count": 5,
   "id": "c6928022",
   "metadata": {},
   "outputs": [
    {
     "data": {
      "text/plain": [
       "array([[0.37302199, 0.49047908, 0.49047908, 0.        , 0.        ,\n",
       "        0.        , 0.        , 0.        , 0.        , 0.        ,\n",
       "        0.        , 0.37302199, 0.49047908, 0.        ],\n",
       "       [0.        , 0.        , 0.        , 0.        , 0.38988801,\n",
       "        0.38988801, 0.38988801, 0.38988801, 0.        , 0.38988801,\n",
       "        0.29651988, 0.        , 0.        , 0.38988801],\n",
       "       [0.3935112 , 0.        , 0.        , 0.51741994, 0.        ,\n",
       "        0.        , 0.        , 0.        , 0.51741994, 0.        ,\n",
       "        0.3935112 , 0.3935112 , 0.        , 0.        ]])"
      ]
     },
     "execution_count": 5,
     "metadata": {},
     "output_type": "execute_result"
    }
   ],
   "source": [
    "# Printing the transformed sentences\n",
    "sentences_transformed.toarray()"
   ]
  },
  {
   "cell_type": "code",
   "execution_count": 6,
   "id": "2f405184",
   "metadata": {},
   "outputs": [
    {
     "data": {
      "text/plain": [
       "(3, 14)"
      ]
     },
     "execution_count": 6,
     "metadata": {},
     "output_type": "execute_result"
    }
   ],
   "source": [
    "# Printing the shape of the transformed sentences\n",
    "sentences_transformed.toarray().shape"
   ]
  },
  {
   "cell_type": "code",
   "execution_count": 7,
   "id": "2a0b974c",
   "metadata": {},
   "outputs": [
    {
     "data": {
      "text/plain": [
       "['am',\n",
       " 'an',\n",
       " 'apple',\n",
       " 'buy',\n",
       " 'can',\n",
       " 'curd',\n",
       " 'me',\n",
       " 'pass',\n",
       " 'planning',\n",
       " 'the',\n",
       " 'to',\n",
       " 'watch',\n",
       " 'wearing',\n",
       " 'you']"
      ]
     },
     "execution_count": 7,
     "metadata": {},
     "output_type": "execute_result"
    }
   ],
   "source": [
    "# Printing the unique entities\n",
    "TFIDF_Vectorizer.get_feature_names()"
   ]
  },
  {
   "cell_type": "code",
   "execution_count": null,
   "id": "c5ca9292",
   "metadata": {},
   "outputs": [],
   "source": []
  }
 ],
 "metadata": {
  "kernelspec": {
   "display_name": "Python 3 (ipykernel)",
   "language": "python",
   "name": "python3"
  },
  "language_info": {
   "codemirror_mode": {
    "name": "ipython",
    "version": 3
   },
   "file_extension": ".py",
   "mimetype": "text/x-python",
   "name": "python",
   "nbconvert_exporter": "python",
   "pygments_lexer": "ipython3",
   "version": "3.9.6"
  }
 },
 "nbformat": 4,
 "nbformat_minor": 5
}
