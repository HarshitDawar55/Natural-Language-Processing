{
 "cells": [
  {
   "cell_type": "markdown",
   "id": "6e748d5d",
   "metadata": {},
   "source": [
    "# Cosine Similarity by `Mr. Harshit Dawar!`\n",
    "\n",
    "* It measures how two or more than sentences are alligned with each other in the n-dimensional space\n",
    "* Sentences are preferred to be processed by TF-IDF method first before using this cosine similarity to get the best results instead of processing using the Count Vectorizer."
   ]
  },
  {
   "cell_type": "code",
   "execution_count": 1,
   "id": "93730dd8",
   "metadata": {},
   "outputs": [],
   "source": [
    "# Import the required Libraries\n",
    "from sklearn.feature_extraction.text import TfidfVectorizer\n",
    "from sklearn.metrics.pairwise import cosine_similarity\n",
    "import numpy as np"
   ]
  },
  {
   "cell_type": "code",
   "execution_count": 2,
   "id": "9f774f70",
   "metadata": {},
   "outputs": [],
   "source": [
    "# Writing sample sentences\n",
    "sentences = [\n",
    "             \"I am wearing an Apple Watch!\",\n",
    "             \"Can you pass the curd to me?\",\n",
    "             \"I am planning to buy a Watch\"\n",
    "            ]"
   ]
  },
  {
   "cell_type": "code",
   "execution_count": 3,
   "id": "b10d7b56",
   "metadata": {},
   "outputs": [],
   "source": [
    "# Applying Tf-IDF to the sentences\n",
    "TFIDF_Vectorizer = TfidfVectorizer()\n",
    "sentences_transformed = TFIDF_Vectorizer.fit_transform(sentences)"
   ]
  },
  {
   "cell_type": "code",
   "execution_count": 5,
   "id": "38634406",
   "metadata": {},
   "outputs": [
    {
     "data": {
      "text/plain": [
       "array([[0.37302199, 0.49047908, 0.49047908, 0.        , 0.        ,\n",
       "        0.        , 0.        , 0.        , 0.        , 0.        ,\n",
       "        0.        , 0.37302199, 0.49047908, 0.        ],\n",
       "       [0.        , 0.        , 0.        , 0.        , 0.38988801,\n",
       "        0.38988801, 0.38988801, 0.38988801, 0.        , 0.38988801,\n",
       "        0.29651988, 0.        , 0.        , 0.38988801],\n",
       "       [0.3935112 , 0.        , 0.        , 0.51741994, 0.        ,\n",
       "        0.        , 0.        , 0.        , 0.51741994, 0.        ,\n",
       "        0.3935112 , 0.3935112 , 0.        , 0.        ]])"
      ]
     },
     "execution_count": 5,
     "metadata": {},
     "output_type": "execute_result"
    }
   ],
   "source": [
    "# Printing the transformed sentences\n",
    "sentences_transformed.toarray()"
   ]
  },
  {
   "cell_type": "code",
   "execution_count": null,
   "id": "ec5c5ae4",
   "metadata": {},
   "outputs": [],
   "source": []
  }
 ],
 "metadata": {
  "kernelspec": {
   "display_name": "Python 3 (ipykernel)",
   "language": "python",
   "name": "python3"
  },
  "language_info": {
   "codemirror_mode": {
    "name": "ipython",
    "version": 3
   },
   "file_extension": ".py",
   "mimetype": "text/x-python",
   "name": "python",
   "nbconvert_exporter": "python",
   "pygments_lexer": "ipython3",
   "version": "3.9.6"
  }
 },
 "nbformat": 4,
 "nbformat_minor": 5
}
