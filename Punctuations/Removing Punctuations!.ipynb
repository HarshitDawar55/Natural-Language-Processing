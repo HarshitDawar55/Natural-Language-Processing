{
 "cells": [
  {
   "cell_type": "markdown",
   "id": "349afcb0",
   "metadata": {},
   "source": [
    "# Removing Punctuations by `Mr. Harshit Dawar!`\n",
    "* Punctuations do not contribute in the final output for Natural language. For example: \",\", \".\", \"?\", \"!\", \"...\", etc"
   ]
  },
  {
   "cell_type": "code",
   "execution_count": 1,
   "id": "8fb05fed",
   "metadata": {},
   "outputs": [],
   "source": [
    "import spacy\n",
    "english_model_nlp = spacy.load(\"en_core_web_sm\")"
   ]
  },
  {
   "cell_type": "code",
   "execution_count": 2,
   "id": "f7194a79",
   "metadata": {},
   "outputs": [],
   "source": [
    "# Creating a sentence for the demo!\n",
    "sentence = english_model_nlp(\"This is my first class for NLP in India \\\n",
    "by Mr. Harshit Dawar! Today's date is 11-08-2021\") "
   ]
  },
  {
   "cell_type": "code",
   "execution_count": 5,
   "id": "fcbd6c83",
   "metadata": {},
   "outputs": [
    {
     "name": "stdout",
     "output_type": "stream",
     "text": [
      "Token | Is it Stopword ?\n",
      "****************************************************************************\n",
      "This\t   False\n",
      "is\t   False\n",
      "my\t   False\n",
      "first\t   False\n",
      "class\t   False\n",
      "for\t   False\n",
      "NLP\t   False\n",
      "in\t   False\n",
      "India\t   False\n",
      "by\t   False\n",
      "Mr.\t   False\n",
      "Harshit\t   False\n",
      "Dawar\t   False\n",
      "!\t   True\n",
      "Today\t   False\n",
      "'s\t   False\n",
      "date\t   False\n",
      "is\t   False\n",
      "11\t   False\n",
      "-\t   True\n",
      "08\t   False\n",
      "-\t   True\n",
      "2021\t   False\n"
     ]
    }
   ],
   "source": [
    "# Printing the Significant Entities and their Recognition\n",
    "\n",
    "print(\"Token | Is it Stopword ?\")\n",
    "print(\"****************************************************************************\")\n",
    "for token in sentence:\n",
    "    print(token.text + \"\\t   \" + str(english_model_nlp.vocab[token.text].is_punct))"
   ]
  },
  {
   "cell_type": "markdown",
   "id": "c66d52c1",
   "metadata": {},
   "source": [
    "# Congratulations, you have learned how to remove the punctuations!"
   ]
  }
 ],
 "metadata": {
  "kernelspec": {
   "display_name": "Python 3 (ipykernel)",
   "language": "python",
   "name": "python3"
  },
  "language_info": {
   "codemirror_mode": {
    "name": "ipython",
    "version": 3
   },
   "file_extension": ".py",
   "mimetype": "text/x-python",
   "name": "python",
   "nbconvert_exporter": "python",
   "pygments_lexer": "ipython3",
   "version": "3.9.6"
  }
 },
 "nbformat": 4,
 "nbformat_minor": 5
}
