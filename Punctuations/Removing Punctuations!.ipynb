{
 "cells": [
  {
   "cell_type": "markdown",
   "id": "417a480b",
   "metadata": {},
   "source": [
    "# Removing Punctuations by `Mr. Harshit Dawar!`\n",
    "* Punctuations do not contribute in the final output for Natural language. For example: \",\", \".\", \"?\", \"!\", \"...\", etc"
   ]
  },
  {
   "cell_type": "code",
   "execution_count": 1,
   "id": "fe20d7f0",
   "metadata": {},
   "outputs": [],
   "source": [
    "import spacy\n",
    "english_model_nlp = spacy.load(\"en_core_web_sm\")"
   ]
  },
  {
   "cell_type": "code",
   "execution_count": null,
   "id": "f6591f34",
   "metadata": {},
   "outputs": [],
   "source": []
  }
 ],
 "metadata": {
  "kernelspec": {
   "display_name": "Python 3 (ipykernel)",
   "language": "python",
   "name": "python3"
  },
  "language_info": {
   "codemirror_mode": {
    "name": "ipython",
    "version": 3
   },
   "file_extension": ".py",
   "mimetype": "text/x-python",
   "name": "python",
   "nbconvert_exporter": "python",
   "pygments_lexer": "ipython3",
   "version": "3.9.6"
  }
 },
 "nbformat": 4,
 "nbformat_minor": 5
}
