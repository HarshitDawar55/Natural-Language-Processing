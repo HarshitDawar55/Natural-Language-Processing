{
 "cells": [
  {
   "cell_type": "markdown",
   "id": "0a2d654f",
   "metadata": {},
   "source": [
    "# Removing Stopwords by `Mr. Harshit Dawar!`\n",
    "* Stopwords are those which do not contribute in the final output for Natural language. For example: it, is, ourselves, am, hi, etc."
   ]
  },
  {
   "cell_type": "code",
   "execution_count": null,
   "id": "452978b5",
   "metadata": {},
   "outputs": [],
   "source": []
  }
 ],
 "metadata": {
  "kernelspec": {
   "display_name": "Python 3 (ipykernel)",
   "language": "python",
   "name": "python3"
  },
  "language_info": {
   "codemirror_mode": {
    "name": "ipython",
    "version": 3
   },
   "file_extension": ".py",
   "mimetype": "text/x-python",
   "name": "python",
   "nbconvert_exporter": "python",
   "pygments_lexer": "ipython3",
   "version": "3.9.6"
  }
 },
 "nbformat": 4,
 "nbformat_minor": 5
}
