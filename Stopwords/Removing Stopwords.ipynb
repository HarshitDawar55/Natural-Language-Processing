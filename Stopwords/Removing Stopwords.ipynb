{
 "cells": [
  {
   "cell_type": "markdown",
   "id": "7345171e",
   "metadata": {},
   "source": [
    "# Removing Stopwords by `Mr. Harshit Dawar!`\n",
    "* Stopwords are those which do not contribute in the final output for Natural language. For example: it, is, ourselves, am, hi, etc."
   ]
  },
  {
   "cell_type": "code",
   "execution_count": 1,
   "id": "d6537138",
   "metadata": {},
   "outputs": [],
   "source": [
    "import spacy\n",
    "english_model_nlp = spacy.load(\"en_core_web_sm\")"
   ]
  },
  {
   "cell_type": "code",
   "execution_count": 3,
   "id": "56b3a6a5",
   "metadata": {},
   "outputs": [],
   "source": [
    "# Creating a sentence for the demo!\n",
    "sentence = english_model_nlp(\"This is my first class for NLP in India \\\n",
    "by Mr. Harshit Dawar! Today's date is 11-08-2021\") "
   ]
  },
  {
   "cell_type": "code",
   "execution_count": 12,
   "id": "65a8ce56",
   "metadata": {},
   "outputs": [
    {
     "name": "stdout",
     "output_type": "stream",
     "text": [
      "Token | Is it Stopword ?\n",
      "****************************************************************************\n",
      "This\t   True\n",
      "is\t   True\n",
      "my\t   True\n",
      "first\t   True\n",
      "class\t   False\n",
      "for\t   True\n",
      "NLP\t   False\n",
      "in\t   True\n",
      "India\t   False\n",
      "by\t   True\n",
      "Mr.\t   False\n",
      "Harshit\t   False\n",
      "Dawar\t   False\n",
      "!\t   False\n",
      "Today\t   False\n",
      "'s\t   True\n",
      "date\t   False\n",
      "is\t   True\n",
      "11\t   False\n",
      "-\t   False\n",
      "08\t   False\n",
      "-\t   False\n",
      "2021\t   False\n"
     ]
    }
   ],
   "source": [
    "# Printing the Significant Entities and their Recognition\n",
    "\n",
    "print(\"Token | Is it Stopword ?\")\n",
    "print(\"****************************************************************************\")\n",
    "for token in sentence:\n",
    "    print(token.text + \"\\t   \" + str(english_model_nlp.vocab[token.text].is_stop))"
   ]
  },
  {
   "cell_type": "code",
   "execution_count": null,
   "id": "2f262dc4",
   "metadata": {},
   "outputs": [],
   "source": []
  }
 ],
 "metadata": {
  "kernelspec": {
   "display_name": "Python 3 (ipykernel)",
   "language": "python",
   "name": "python3"
  },
  "language_info": {
   "codemirror_mode": {
    "name": "ipython",
    "version": 3
   },
   "file_extension": ".py",
   "mimetype": "text/x-python",
   "name": "python",
   "nbconvert_exporter": "python",
   "pygments_lexer": "ipython3",
   "version": "3.9.6"
  }
 },
 "nbformat": 4,
 "nbformat_minor": 5
}
