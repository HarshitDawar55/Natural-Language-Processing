{
 "cells": [
  {
   "cell_type": "markdown",
   "id": "f8fac0fb",
   "metadata": {},
   "source": [
    "# Removing Stopwords by `Mr. Harshit Dawar!`\n",
    "* Stopwords are those which do not contribute in the final output for Natural language. For example: it, is, ourselves, am, hi, etc."
   ]
  },
  {
   "cell_type": "code",
   "execution_count": 1,
   "id": "6ecb52fa",
   "metadata": {},
   "outputs": [],
   "source": [
    "import spacy\n",
    "english_model_nlp = spacy.load(\"en_core_web_sm\")"
   ]
  },
  {
   "cell_type": "code",
   "execution_count": 3,
   "id": "92627e90",
   "metadata": {},
   "outputs": [],
   "source": [
    "# Creating a sentence for the demo!\n",
    "sentence = english_model_nlp(\"This is my first class for NLP in India \\\n",
    "by Mr. Harshit Dawar! Today's date is 11-08-2021\") "
   ]
  },
  {
   "cell_type": "code",
   "execution_count": null,
   "id": "ecec0b25",
   "metadata": {},
   "outputs": [],
   "source": []
  }
 ],
 "metadata": {
  "kernelspec": {
   "display_name": "Python 3 (ipykernel)",
   "language": "python",
   "name": "python3"
  },
  "language_info": {
   "codemirror_mode": {
    "name": "ipython",
    "version": 3
   },
   "file_extension": ".py",
   "mimetype": "text/x-python",
   "name": "python",
   "nbconvert_exporter": "python",
   "pygments_lexer": "ipython3",
   "version": "3.9.6"
  }
 },
 "nbformat": 4,
 "nbformat_minor": 5
}
