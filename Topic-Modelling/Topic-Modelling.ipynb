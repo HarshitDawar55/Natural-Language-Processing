{
 "cells": [
  {
   "cell_type": "markdown",
   "id": "d82eb1b8",
   "metadata": {},
   "source": [
    "# Topic Modelling by `Mr. Harshit Dawar!`\n",
    "### Algorithm: LDA (Latent Dirichlet Allocation)\n",
    "\n",
    "***Steps***\n",
    "1. A random number of topics will be decided by the user to which the words from the document will be assigned.\n",
    "2. Each word from each document will be assigned to any of the random topics initially.\n",
    "3. Now, random topics from each document & words assignments to those topics in each document will be obtained. Although, initial assignment will not make any sense.\n",
    "4. Steps 2 & 3 will be repeated until the best assignments are provided using the formula given below.\n",
    "\n",
    "For each topic:  ***probability( topic \"t\" | document \"d\")*** <= Probability of topic \"t\" existing in document \"d\".\n",
    "\n",
    "For each word:  ***probability( word \"w\" | topic \"t\")*** <= Probability of word \"w\" belonging to topic \"t\".\n",
    "\n",
    "Final probability that a topic \"t\" generated word \"w\" in document \"d\": ***probability( topic \"t\" | document \"d\") * probability( word \"w\" | topic \"t\")***\n",
    "\n",
    "\n",
    "**Important Pointers**\n",
    "\n",
    "* The user has to decide the number of topics to get from the document\n",
    "* The user has to interpret the topics itself.\n",
    "\n",
    "**Few Assumptions of LDA**\n",
    "\n",
    "* Documents are probability distributions over Topics, Topics are probabilty distributions over words.\n",
    "* Documents with similar topics uses similar groups of words.\n",
    "* Topics can be founded by searching for the words that occur across the corpus in documents. "
   ]
  },
  {
   "cell_type": "code",
   "execution_count": 13,
   "id": "448e3ed9",
   "metadata": {},
   "outputs": [],
   "source": [
    "# Importing the required Libraries\n",
    "import pandas as pd\n",
    "import numpy as np\n",
    "from sklearn.decomposition import LatentDirichletAllocation\n",
    "from sklearn.feature_extraction.text import CountVectorizer"
   ]
  },
  {
   "cell_type": "code",
   "execution_count": 3,
   "id": "fc48fd07",
   "metadata": {},
   "outputs": [],
   "source": [
    "# Loading the Dataset\n",
    "data = pd.read_csv(\"data.csv\")"
   ]
  },
  {
   "cell_type": "code",
   "execution_count": 4,
   "id": "38045acd",
   "metadata": {},
   "outputs": [
    {
     "data": {
      "text/html": [
       "<div>\n",
       "<style scoped>\n",
       "    .dataframe tbody tr th:only-of-type {\n",
       "        vertical-align: middle;\n",
       "    }\n",
       "\n",
       "    .dataframe tbody tr th {\n",
       "        vertical-align: top;\n",
       "    }\n",
       "\n",
       "    .dataframe thead th {\n",
       "        text-align: right;\n",
       "    }\n",
       "</style>\n",
       "<table border=\"1\" class=\"dataframe\">\n",
       "  <thead>\n",
       "    <tr style=\"text-align: right;\">\n",
       "      <th></th>\n",
       "      <th>Article</th>\n",
       "    </tr>\n",
       "  </thead>\n",
       "  <tbody>\n",
       "    <tr>\n",
       "      <th>0</th>\n",
       "      <td>In the Washington of 2016, even when the polic...</td>\n",
       "    </tr>\n",
       "    <tr>\n",
       "      <th>1</th>\n",
       "      <td>Donald Trump has used Twitter  —   his prefe...</td>\n",
       "    </tr>\n",
       "    <tr>\n",
       "      <th>2</th>\n",
       "      <td>Donald Trump is unabashedly praising Russian...</td>\n",
       "    </tr>\n",
       "    <tr>\n",
       "      <th>3</th>\n",
       "      <td>Updated at 2:50 p. m. ET, Russian President Vl...</td>\n",
       "    </tr>\n",
       "    <tr>\n",
       "      <th>4</th>\n",
       "      <td>From photography, illustration and video, to d...</td>\n",
       "    </tr>\n",
       "  </tbody>\n",
       "</table>\n",
       "</div>"
      ],
      "text/plain": [
       "                                             Article\n",
       "0  In the Washington of 2016, even when the polic...\n",
       "1    Donald Trump has used Twitter  —   his prefe...\n",
       "2    Donald Trump is unabashedly praising Russian...\n",
       "3  Updated at 2:50 p. m. ET, Russian President Vl...\n",
       "4  From photography, illustration and video, to d..."
      ]
     },
     "execution_count": 4,
     "metadata": {},
     "output_type": "execute_result"
    }
   ],
   "source": [
    "data.head()"
   ]
  },
  {
   "cell_type": "code",
   "execution_count": 5,
   "id": "a2c05ad2",
   "metadata": {},
   "outputs": [
    {
     "data": {
      "text/plain": [
       "(11992, 1)"
      ]
     },
     "execution_count": 5,
     "metadata": {},
     "output_type": "execute_result"
    }
   ],
   "source": [
    "data.shape"
   ]
  },
  {
   "cell_type": "markdown",
   "id": "7cd7e0fc",
   "metadata": {},
   "source": [
    "## Getting the word vectorized"
   ]
  },
  {
   "cell_type": "code",
   "execution_count": 6,
   "id": "e621ce05",
   "metadata": {},
   "outputs": [],
   "source": [
    "\"\"\"\n",
    "* min_df represents min. number of documents in which a word should occur. A word with a number below this\n",
    "  will be ignored.\n",
    "* max_df represents max. word frequency of occurence of a word in the document above which all the\n",
    "  words will be ignored.\n",
    "  \n",
    "* Stopwrods of English will be removed.\n",
    "\"\"\"\n",
    "vectorizer = CountVectorizer(min_df = 2, max_df = 0.95, stop_words=\"english\")"
   ]
  },
  {
   "cell_type": "code",
   "execution_count": 8,
   "id": "170ef7b2",
   "metadata": {},
   "outputs": [],
   "source": [
    "document_word_matrix = vectorizer.fit_transform(data.Article)"
   ]
  },
  {
   "cell_type": "code",
   "execution_count": 15,
   "id": "f8b513d6",
   "metadata": {},
   "outputs": [
    {
     "data": {
      "text/plain": [
       "<11992x54777 sparse matrix of type '<class 'numpy.int64'>'\n",
       "\twith 3033388 stored elements in Compressed Sparse Row format>"
      ]
     },
     "execution_count": 15,
     "metadata": {},
     "output_type": "execute_result"
    }
   ],
   "source": [
    "document_word_matrix"
   ]
  },
  {
   "cell_type": "code",
   "execution_count": 16,
   "id": "16ba9aff",
   "metadata": {},
   "outputs": [
    {
     "data": {
      "text/plain": [
       "array([ 0,  1,  2,  3,  4,  5,  6,  7,  9, 10, 15, 19])"
      ]
     },
     "execution_count": 16,
     "metadata": {},
     "output_type": "execute_result"
    }
   ],
   "source": [
    "np.unique(document_word_matrix.toarray()[0])"
   ]
  },
  {
   "cell_type": "markdown",
   "id": "11c17205",
   "metadata": {},
   "source": [
    "## Applying LDA"
   ]
  },
  {
   "cell_type": "code",
   "execution_count": 17,
   "id": "e47a1ea3",
   "metadata": {},
   "outputs": [
    {
     "data": {
      "text/plain": [
       "LatentDirichletAllocation(n_components=9, random_state=5)"
      ]
     },
     "execution_count": 17,
     "metadata": {},
     "output_type": "execute_result"
    }
   ],
   "source": [
    "\"\"\"\n",
    "n_components: number of different topics to divide the documents into\n",
    "\"\"\"\n",
    "LDA = LatentDirichletAllocation(n_components = 9, random_state = 5)\n",
    "\n",
    "LDA.fit(document_word_matrix)"
   ]
  },
  {
   "cell_type": "code",
   "execution_count": 20,
   "id": "47f23b03",
   "metadata": {},
   "outputs": [
    {
     "data": {
      "text/plain": [
       "54777"
      ]
     },
     "execution_count": 20,
     "metadata": {},
     "output_type": "execute_result"
    }
   ],
   "source": [
    "### Getting the Corpus from the Documents\n",
    "\n",
    "len(vectorizer.get_feature_names())"
   ]
  },
  {
   "cell_type": "code",
   "execution_count": 23,
   "id": "3abc30c1",
   "metadata": {},
   "outputs": [
    {
     "data": {
      "text/plain": [
       "('bask', 'benzodiazepines', 'nas')"
      ]
     },
     "execution_count": 23,
     "metadata": {},
     "output_type": "execute_result"
    }
   ],
   "source": [
    "vectorizer.get_feature_names()[5000], vectorizer.get_feature_names()[5500], vectorizer.get_feature_names()[33000]"
   ]
  },
  {
   "cell_type": "code",
   "execution_count": 24,
   "id": "d6444f92",
   "metadata": {},
   "outputs": [
    {
     "data": {
      "text/plain": [
       "array([[2.04108203e+01, 4.93163268e+02, 1.11111111e-01, ...,\n",
       "        6.11103023e+00, 1.11675663e-01, 1.11111111e-01],\n",
       "       [2.92231210e+00, 7.68997627e+02, 1.11111111e-01, ...,\n",
       "        1.11111111e-01, 1.11119937e-01, 1.11113664e-01],\n",
       "       [1.11189038e-01, 1.75726089e+02, 1.11113075e-01, ...,\n",
       "        1.11119789e-01, 1.11036644e+00, 1.11111111e-01],\n",
       "       ...,\n",
       "       [7.29581971e+00, 1.67203972e+03, 1.11111111e-01, ...,\n",
       "        1.11138772e-01, 1.11288688e-01, 1.11111111e-01],\n",
       "       [7.94521735e+00, 4.38966163e+01, 1.11111111e-01, ...,\n",
       "        1.11111111e-01, 1.11111111e-01, 1.11111648e-01],\n",
       "       [4.56026646e+00, 3.66501790e+02, 1.11116300e-01, ...,\n",
       "        1.11111669e-01, 1.11111111e-01, 1.11111966e-01]])"
      ]
     },
     "execution_count": 24,
     "metadata": {},
     "output_type": "execute_result"
    }
   ],
   "source": [
    "### Getting the Different Topics\n",
    "LDA.components_"
   ]
  },
  {
   "cell_type": "code",
   "execution_count": 25,
   "id": "f02a6b74",
   "metadata": {},
   "outputs": [
    {
     "data": {
      "text/plain": [
       "(9, 54777)"
      ]
     },
     "execution_count": 25,
     "metadata": {},
     "output_type": "execute_result"
    }
   ],
   "source": [
    "LDA.components_.shape"
   ]
  },
  {
   "cell_type": "markdown",
   "id": "84e0d3e6",
   "metadata": {},
   "source": [
    "### Getting Word to Topic Assignment"
   ]
  },
  {
   "cell_type": "code",
   "execution_count": 26,
   "id": "98871e9f",
   "metadata": {},
   "outputs": [
    {
     "data": {
      "text/plain": [
       "array([2.04108203e+01, 4.93163268e+02, 1.11111111e-01, ...,\n",
       "       6.11103023e+00, 1.11675663e-01, 1.11111111e-01])"
      ]
     },
     "execution_count": 26,
     "metadata": {},
     "output_type": "execute_result"
    }
   ],
   "source": [
    "Topic_1 = LDA.components_[0]\n",
    "Topic_1"
   ]
  },
  {
   "cell_type": "code",
   "execution_count": 27,
   "id": "643e1d7d",
   "metadata": {},
   "outputs": [],
   "source": [
    "# Getting the top 15 words from this topic\n",
    "top_15_words_of_topic_1 = Topic_1.argsort()[-15 : ]"
   ]
  },
  {
   "cell_type": "code",
   "execution_count": 30,
   "id": "6b157f7f",
   "metadata": {},
   "outputs": [
    {
     "name": "stdout",
     "output_type": "stream",
     "text": [
      "work\n",
      "way\n",
      "home\n",
      "day\n",
      "new\n",
      "life\n",
      "world\n",
      "women\n",
      "family\n",
      "time\n",
      "years\n",
      "just\n",
      "people\n",
      "like\n",
      "says\n"
     ]
    }
   ],
   "source": [
    "\"\"\"\n",
    "index will be the word index & actual words are present in the vocabulary/corpus\n",
    "not in the Topic1, it contains just the probabilities for the words.\n",
    "\"\"\" \n",
    "for index in top_15_words_of_topic_1:\n",
    "    print(vectorizer.get_feature_names()[index])"
   ]
  },
  {
   "cell_type": "code",
   "execution_count": 38,
   "id": "ccb5a81d",
   "metadata": {},
   "outputs": [
    {
     "name": "stdout",
     "output_type": "stream",
     "text": [
      "Top 15 words for Topic: 1\n",
      "['work', 'way', 'home', 'day', 'new', 'life', 'world', 'women', 'family', 'time', 'years', 'just', 'people', 'like', 'says']\n",
      "**************************************************\n",
      "\n",
      "Top 15 words for Topic: 2\n",
      "['just', 'going', 'state', 'political', 'obama', 'donald', 'country', 'says', 'new', 'campaign', 'people', 'clinton', 'president', 'said', 'trump']\n",
      "**************************************************\n",
      "\n",
      "Top 15 words for Topic: 3\n",
      "['democrats', 'won', 'new', 'party', 'states', 'democratic', 'win', 'race', 'said', 'vote', 'percent', 'clinton', 'voters', 'sanders', 'state']\n",
      "**************************************************\n",
      "\n",
      "Top 15 words for Topic: 4\n",
      "['years', 'life', 've', 'don', 'says', 'music', 'way', 'really', 'new', 'know', 'time', 'think', 'people', 'just', 'like']\n",
      "**************************************************\n",
      "\n",
      "Top 15 words for Topic: 5\n",
      "['hospital', 'don', 'disease', 'just', 'women', 'drug', 'like', 'police', 'medical', 'care', 'patients', 'said', 'health', 'people', 'says']\n",
      "**************************************************\n",
      "\n",
      "Top 15 words for Topic: 6\n",
      "['npr', 'killed', 'military', 'attack', 'according', 'told', 'country', 'war', 'city', 'reports', 'government', 'police', 'people', 'says', 'said']\n",
      "**************************************************\n",
      "\n",
      "Top 15 words for Topic: 7\n",
      "['year', 'water', 'years', 'university', 'study', 'just', 'food', 'school', 'new', 'students', 'health', 'percent', 'like', 'people', 'says']\n",
      "**************************************************\n",
      "\n",
      "Top 15 words for Topic: 8\n",
      "['republicans', 'congress', 'comey', 'intelligence', 'russian', 'administration', 'committee', 'senate', 'white', 'russia', 'obama', 'house', 'said', 'president', 'trump']\n",
      "**************************************************\n",
      "\n",
      "Top 15 words for Topic: 9\n",
      "['government', 'order', 'department', 'judge', 'new', 'news', 'company', 'justice', 'state', 'federal', 'case', 'says', 'law', 'said', 'court']\n",
      "**************************************************\n",
      "\n"
     ]
    }
   ],
   "source": [
    "for index, topic in enumerate(LDA.components_):\n",
    "    print(\"Top 15 words for Topic:\", index + 1)\n",
    "    print(list(vectorizer.get_feature_names()[word_index] for word_index in topic.argsort()[-15 : ]))\n",
    "    print(\"*\" * 50)\n",
    "    print()"
   ]
  },
  {
   "cell_type": "markdown",
   "id": "c4088e3a",
   "metadata": {},
   "source": [
    "### Getting Topic to Document Assignment"
   ]
  },
  {
   "cell_type": "code",
   "execution_count": 39,
   "id": "9cbc652f",
   "metadata": {},
   "outputs": [],
   "source": [
    "topic_attachments_to_documents = LDA.transform(document_word_matrix)"
   ]
  },
  {
   "cell_type": "code",
   "execution_count": 40,
   "id": "2a17ce79",
   "metadata": {},
   "outputs": [
    {
     "data": {
      "text/plain": [
       "array([[1.74816323e-04, 1.40156284e-01, 1.74819014e-04, ...,\n",
       "        1.74830177e-04, 8.11023247e-01, 7.23389538e-03],\n",
       "       [3.42081374e-04, 2.76590295e-01, 3.42049311e-04, ...,\n",
       "        3.42013870e-04, 5.63406622e-01, 3.42058426e-04],\n",
       "       [2.54964364e-04, 1.13054360e-01, 2.55019594e-04, ...,\n",
       "        2.54921261e-04, 8.70353776e-01, 2.54962856e-04],\n",
       "       ...,\n",
       "       [4.46646671e-01, 3.08857580e-04, 3.25828615e-02, ...,\n",
       "        2.40554503e-02, 3.08840917e-04, 3.08926005e-04],\n",
       "       [3.35943737e-04, 3.88437787e-01, 3.27103262e-01, ...,\n",
       "        3.35844133e-04, 2.29261164e-01, 3.35892474e-04],\n",
       "       [1.61390923e-01, 2.56396867e-01, 6.35280896e-02, ...,\n",
       "        5.62936234e-02, 1.97113047e-04, 1.97120171e-04]])"
      ]
     },
     "execution_count": 40,
     "metadata": {},
     "output_type": "execute_result"
    }
   ],
   "source": [
    "# Contains probabilities for each document to belong to a particular topic!\n",
    "topic_attachments_to_documents"
   ]
  },
  {
   "cell_type": "code",
   "execution_count": 41,
   "id": "f07ae80e",
   "metadata": {},
   "outputs": [
    {
     "data": {
      "text/plain": [
       "(11992, 9)"
      ]
     },
     "execution_count": 41,
     "metadata": {},
     "output_type": "execute_result"
    }
   ],
   "source": [
    "topic_attachments_to_documents.shape"
   ]
  },
  {
   "cell_type": "markdown",
   "id": "ef9c77da",
   "metadata": {},
   "source": [
    "### Assigning Labels to the Topics"
   ]
  },
  {
   "cell_type": "code",
   "execution_count": 42,
   "id": "d77508ca",
   "metadata": {},
   "outputs": [],
   "source": [
    "# Creating a new column for the topics for each document in the dataset!\n",
    "data[\"Topic\"] = topic_attachments_to_documents.argmax(axis = 1)"
   ]
  },
  {
   "cell_type": "code",
   "execution_count": 44,
   "id": "fab914bd",
   "metadata": {},
   "outputs": [],
   "source": [
    "\"\"\"\n",
    "Increasing the topic by number as I am taking topic numbering from 1, not from 0.\n",
    "This will help to compare the words present in the topic that are displayed above!\n",
    "\"\"\"\n",
    "data.Topic = data.Topic.apply(lambda x: x + 1)"
   ]
  },
  {
   "cell_type": "code",
   "execution_count": 58,
   "id": "07bc3149",
   "metadata": {},
   "outputs": [
    {
     "data": {
      "text/html": [
       "<div>\n",
       "<style scoped>\n",
       "    .dataframe tbody tr th:only-of-type {\n",
       "        vertical-align: middle;\n",
       "    }\n",
       "\n",
       "    .dataframe tbody tr th {\n",
       "        vertical-align: top;\n",
       "    }\n",
       "\n",
       "    .dataframe thead th {\n",
       "        text-align: right;\n",
       "    }\n",
       "</style>\n",
       "<table border=\"1\" class=\"dataframe\">\n",
       "  <thead>\n",
       "    <tr style=\"text-align: right;\">\n",
       "      <th></th>\n",
       "      <th>Article</th>\n",
       "      <th>Topic</th>\n",
       "    </tr>\n",
       "  </thead>\n",
       "  <tbody>\n",
       "    <tr>\n",
       "      <th>0</th>\n",
       "      <td>In the Washington of 2016, even when the polic...</td>\n",
       "      <td>8</td>\n",
       "    </tr>\n",
       "    <tr>\n",
       "      <th>1</th>\n",
       "      <td>Donald Trump has used Twitter  —   his prefe...</td>\n",
       "      <td>8</td>\n",
       "    </tr>\n",
       "    <tr>\n",
       "      <th>2</th>\n",
       "      <td>Donald Trump is unabashedly praising Russian...</td>\n",
       "      <td>8</td>\n",
       "    </tr>\n",
       "    <tr>\n",
       "      <th>3</th>\n",
       "      <td>Updated at 2:50 p. m. ET, Russian President Vl...</td>\n",
       "      <td>8</td>\n",
       "    </tr>\n",
       "    <tr>\n",
       "      <th>4</th>\n",
       "      <td>From photography, illustration and video, to d...</td>\n",
       "      <td>7</td>\n",
       "    </tr>\n",
       "  </tbody>\n",
       "</table>\n",
       "</div>"
      ],
      "text/plain": [
       "                                             Article  Topic\n",
       "0  In the Washington of 2016, even when the polic...      8\n",
       "1    Donald Trump has used Twitter  —   his prefe...      8\n",
       "2    Donald Trump is unabashedly praising Russian...      8\n",
       "3  Updated at 2:50 p. m. ET, Russian President Vl...      8\n",
       "4  From photography, illustration and video, to d...      7"
      ]
     },
     "execution_count": 58,
     "metadata": {},
     "output_type": "execute_result"
    }
   ],
   "source": [
    "data.head()"
   ]
  },
  {
   "cell_type": "code",
   "execution_count": 60,
   "id": "9a06fe2d",
   "metadata": {},
   "outputs": [],
   "source": [
    "## Giving Topic Labels\n",
    "topic_labels = {1 : \"Family\",\n",
    "                2 : \"politics\",\n",
    "                3 : \"State Politics\",\n",
    "                4 : \"Music\",\n",
    "                5 : \"Pharmacy/Drugs\",\n",
    "                6 : \"War\",\n",
    "                7 : \"Education\",\n",
    "                8 : \"Presidential Management\",\n",
    "                9 : \"Justice & Court\"}\n",
    "\n",
    "data[\"Topic Labels\"] = data.Topic.map(topic_labels)"
   ]
  },
  {
   "cell_type": "code",
   "execution_count": 63,
   "id": "e576b13e",
   "metadata": {},
   "outputs": [
    {
     "data": {
      "text/html": [
       "<div>\n",
       "<style scoped>\n",
       "    .dataframe tbody tr th:only-of-type {\n",
       "        vertical-align: middle;\n",
       "    }\n",
       "\n",
       "    .dataframe tbody tr th {\n",
       "        vertical-align: top;\n",
       "    }\n",
       "\n",
       "    .dataframe thead th {\n",
       "        text-align: right;\n",
       "    }\n",
       "</style>\n",
       "<table border=\"1\" class=\"dataframe\">\n",
       "  <thead>\n",
       "    <tr style=\"text-align: right;\">\n",
       "      <th></th>\n",
       "      <th>Article</th>\n",
       "      <th>Topic</th>\n",
       "      <th>Topic Labels</th>\n",
       "    </tr>\n",
       "  </thead>\n",
       "  <tbody>\n",
       "    <tr>\n",
       "      <th>0</th>\n",
       "      <td>In the Washington of 2016, even when the polic...</td>\n",
       "      <td>8</td>\n",
       "      <td>Presidential Management</td>\n",
       "    </tr>\n",
       "    <tr>\n",
       "      <th>1</th>\n",
       "      <td>Donald Trump has used Twitter  —   his prefe...</td>\n",
       "      <td>8</td>\n",
       "      <td>Presidential Management</td>\n",
       "    </tr>\n",
       "    <tr>\n",
       "      <th>2</th>\n",
       "      <td>Donald Trump is unabashedly praising Russian...</td>\n",
       "      <td>8</td>\n",
       "      <td>Presidential Management</td>\n",
       "    </tr>\n",
       "    <tr>\n",
       "      <th>3</th>\n",
       "      <td>Updated at 2:50 p. m. ET, Russian President Vl...</td>\n",
       "      <td>8</td>\n",
       "      <td>Presidential Management</td>\n",
       "    </tr>\n",
       "    <tr>\n",
       "      <th>4</th>\n",
       "      <td>From photography, illustration and video, to d...</td>\n",
       "      <td>7</td>\n",
       "      <td>Education</td>\n",
       "    </tr>\n",
       "    <tr>\n",
       "      <th>5</th>\n",
       "      <td>I did not want to join yoga class. I hated tho...</td>\n",
       "      <td>5</td>\n",
       "      <td>Pharmacy/Drugs</td>\n",
       "    </tr>\n",
       "    <tr>\n",
       "      <th>6</th>\n",
       "      <td>With a   who has publicly supported the debunk...</td>\n",
       "      <td>5</td>\n",
       "      <td>Pharmacy/Drugs</td>\n",
       "    </tr>\n",
       "    <tr>\n",
       "      <th>7</th>\n",
       "      <td>I was standing by the airport exit, debating w...</td>\n",
       "      <td>1</td>\n",
       "      <td>Family</td>\n",
       "    </tr>\n",
       "    <tr>\n",
       "      <th>8</th>\n",
       "      <td>If movies were trying to be more realistic, pe...</td>\n",
       "      <td>7</td>\n",
       "      <td>Education</td>\n",
       "    </tr>\n",
       "    <tr>\n",
       "      <th>9</th>\n",
       "      <td>Eighteen years ago, on New Year’s Eve, David F...</td>\n",
       "      <td>1</td>\n",
       "      <td>Family</td>\n",
       "    </tr>\n",
       "    <tr>\n",
       "      <th>10</th>\n",
       "      <td>For years now, some of the best, wildest, most...</td>\n",
       "      <td>4</td>\n",
       "      <td>Music</td>\n",
       "    </tr>\n",
       "    <tr>\n",
       "      <th>11</th>\n",
       "      <td>For years now, some of the best, wildest, most...</td>\n",
       "      <td>4</td>\n",
       "      <td>Music</td>\n",
       "    </tr>\n",
       "    <tr>\n",
       "      <th>12</th>\n",
       "      <td>The Colorado River is like a giant bank accoun...</td>\n",
       "      <td>7</td>\n",
       "      <td>Education</td>\n",
       "    </tr>\n",
       "    <tr>\n",
       "      <th>13</th>\n",
       "      <td>For the last installment of NPR’s holiday reci...</td>\n",
       "      <td>7</td>\n",
       "      <td>Education</td>\n",
       "    </tr>\n",
       "    <tr>\n",
       "      <th>14</th>\n",
       "      <td>Being overweight can raise your blood pressure...</td>\n",
       "      <td>7</td>\n",
       "      <td>Education</td>\n",
       "    </tr>\n",
       "    <tr>\n",
       "      <th>15</th>\n",
       "      <td>Who’s the YouTube star of 2016? Adele singing ...</td>\n",
       "      <td>4</td>\n",
       "      <td>Music</td>\n",
       "    </tr>\n",
       "    <tr>\n",
       "      <th>16</th>\n",
       "      <td>Here’s a quick roundup of some of the   you ma...</td>\n",
       "      <td>1</td>\n",
       "      <td>Family</td>\n",
       "    </tr>\n",
       "    <tr>\n",
       "      <th>17</th>\n",
       "      <td>Ben Johnston doesn’t follow the rules of music...</td>\n",
       "      <td>4</td>\n",
       "      <td>Music</td>\n",
       "    </tr>\n",
       "    <tr>\n",
       "      <th>18</th>\n",
       "      <td>David Bowie, Prince and George Michael are all...</td>\n",
       "      <td>4</td>\n",
       "      <td>Music</td>\n",
       "    </tr>\n",
       "    <tr>\n",
       "      <th>19</th>\n",
       "      <td>In November, the typically straitlaced Office ...</td>\n",
       "      <td>8</td>\n",
       "      <td>Presidential Management</td>\n",
       "    </tr>\n",
       "    <tr>\n",
       "      <th>20</th>\n",
       "      <td>This is the time of year when everybody is mak...</td>\n",
       "      <td>4</td>\n",
       "      <td>Music</td>\n",
       "    </tr>\n",
       "    <tr>\n",
       "      <th>21</th>\n",
       "      <td>Terrorist attacks, hurricanes, a divisive U. S...</td>\n",
       "      <td>1</td>\n",
       "      <td>Family</td>\n",
       "    </tr>\n",
       "    <tr>\n",
       "      <th>22</th>\n",
       "      <td>We all experience stress at work, no matter th...</td>\n",
       "      <td>7</td>\n",
       "      <td>Education</td>\n",
       "    </tr>\n",
       "    <tr>\n",
       "      <th>23</th>\n",
       "      <td>When John Fahey recorded The New Possibility i...</td>\n",
       "      <td>4</td>\n",
       "      <td>Music</td>\n",
       "    </tr>\n",
       "    <tr>\n",
       "      <th>24</th>\n",
       "      <td>This year was one of   hacks, exploding smartp...</td>\n",
       "      <td>4</td>\n",
       "      <td>Music</td>\n",
       "    </tr>\n",
       "  </tbody>\n",
       "</table>\n",
       "</div>"
      ],
      "text/plain": [
       "                                              Article  Topic  \\\n",
       "0   In the Washington of 2016, even when the polic...      8   \n",
       "1     Donald Trump has used Twitter  —   his prefe...      8   \n",
       "2     Donald Trump is unabashedly praising Russian...      8   \n",
       "3   Updated at 2:50 p. m. ET, Russian President Vl...      8   \n",
       "4   From photography, illustration and video, to d...      7   \n",
       "5   I did not want to join yoga class. I hated tho...      5   \n",
       "6   With a   who has publicly supported the debunk...      5   \n",
       "7   I was standing by the airport exit, debating w...      1   \n",
       "8   If movies were trying to be more realistic, pe...      7   \n",
       "9   Eighteen years ago, on New Year’s Eve, David F...      1   \n",
       "10  For years now, some of the best, wildest, most...      4   \n",
       "11  For years now, some of the best, wildest, most...      4   \n",
       "12  The Colorado River is like a giant bank accoun...      7   \n",
       "13  For the last installment of NPR’s holiday reci...      7   \n",
       "14  Being overweight can raise your blood pressure...      7   \n",
       "15  Who’s the YouTube star of 2016? Adele singing ...      4   \n",
       "16  Here’s a quick roundup of some of the   you ma...      1   \n",
       "17  Ben Johnston doesn’t follow the rules of music...      4   \n",
       "18  David Bowie, Prince and George Michael are all...      4   \n",
       "19  In November, the typically straitlaced Office ...      8   \n",
       "20  This is the time of year when everybody is mak...      4   \n",
       "21  Terrorist attacks, hurricanes, a divisive U. S...      1   \n",
       "22  We all experience stress at work, no matter th...      7   \n",
       "23  When John Fahey recorded The New Possibility i...      4   \n",
       "24  This year was one of   hacks, exploding smartp...      4   \n",
       "\n",
       "               Topic Labels  \n",
       "0   Presidential Management  \n",
       "1   Presidential Management  \n",
       "2   Presidential Management  \n",
       "3   Presidential Management  \n",
       "4                 Education  \n",
       "5            Pharmacy/Drugs  \n",
       "6            Pharmacy/Drugs  \n",
       "7                    Family  \n",
       "8                 Education  \n",
       "9                    Family  \n",
       "10                    Music  \n",
       "11                    Music  \n",
       "12                Education  \n",
       "13                Education  \n",
       "14                Education  \n",
       "15                    Music  \n",
       "16                   Family  \n",
       "17                    Music  \n",
       "18                    Music  \n",
       "19  Presidential Management  \n",
       "20                    Music  \n",
       "21                   Family  \n",
       "22                Education  \n",
       "23                    Music  \n",
       "24                    Music  "
      ]
     },
     "execution_count": 63,
     "metadata": {},
     "output_type": "execute_result"
    }
   ],
   "source": [
    "data.head(25)"
   ]
  },
  {
   "cell_type": "markdown",
   "id": "9160dc1e",
   "metadata": {},
   "source": [
    "## Using Non-Negatice Matrix Factorization(NMF) Algorithm to perform Topic Modelling"
   ]
  },
  {
   "cell_type": "code",
   "execution_count": 64,
   "id": "c3283de9",
   "metadata": {},
   "outputs": [],
   "source": [
    "from sklearn.decomposition import NMF\n",
    "from sklearn.feature_extraction.text import TfidfVectorizer"
   ]
  },
  {
   "cell_type": "code",
   "execution_count": 65,
   "id": "667112a2",
   "metadata": {},
   "outputs": [],
   "source": [
    "# Geenrating TF-IDF Values for the data as this NMF Algorithm is applied on the data with TF-IDF Values only.\n",
    "tfidf_vec = TfidfVectorizer(max_df = 0.95, min_df = 2, stop_words = \"english\")\n",
    "tfidf_data = tfidf_vec.fit_transform(data.Article)"
   ]
  },
  {
   "cell_type": "code",
   "execution_count": 66,
   "id": "6f779ad9",
   "metadata": {},
   "outputs": [
    {
     "data": {
      "text/plain": [
       "<11992x54777 sparse matrix of type '<class 'numpy.float64'>'\n",
       "\twith 3033388 stored elements in Compressed Sparse Row format>"
      ]
     },
     "execution_count": 66,
     "metadata": {},
     "output_type": "execute_result"
    }
   ],
   "source": [
    "tfidf_data"
   ]
  },
  {
   "cell_type": "code",
   "execution_count": 68,
   "id": "7640ecc6",
   "metadata": {},
   "outputs": [
    {
     "data": {
      "text/plain": [
       "array([0., 0., 0., ..., 0., 0., 0.])"
      ]
     },
     "execution_count": 68,
     "metadata": {},
     "output_type": "execute_result"
    }
   ],
   "source": [
    "tfidf_data.toarray()[0]"
   ]
  },
  {
   "cell_type": "code",
   "execution_count": 69,
   "id": "cc37254e",
   "metadata": {},
   "outputs": [],
   "source": [
    "# Creating the NMF Model\n",
    "nmf = NMF(n_components = 7, random_state = 5)"
   ]
  },
  {
   "cell_type": "code",
   "execution_count": 70,
   "id": "9956b2f2",
   "metadata": {},
   "outputs": [
    {
     "name": "stderr",
     "output_type": "stream",
     "text": [
      "/Users/harshitdawar/opt/anaconda3/envs/NLP/lib/python3.9/site-packages/sklearn/decomposition/_nmf.py:312: FutureWarning: The 'init' value, when 'init=None' and n_components is less than n_samples and n_features, will be changed from 'nndsvd' to 'nndsvda' in 1.1 (renaming of 0.26).\n",
      "  warnings.warn((\"The 'init' value, when 'init=None' and \"\n"
     ]
    },
    {
     "data": {
      "text/plain": [
       "NMF(n_components=7, random_state=5)"
      ]
     },
     "execution_count": 70,
     "metadata": {},
     "output_type": "execute_result"
    }
   ],
   "source": [
    "nmf.fit(tfidf_data)"
   ]
  },
  {
   "cell_type": "code",
   "execution_count": 72,
   "id": "d5a7c55a",
   "metadata": {},
   "outputs": [
    {
     "data": {
      "text/plain": [
       "('bask', 'benzodiazepines')"
      ]
     },
     "execution_count": 72,
     "metadata": {},
     "output_type": "execute_result"
    }
   ],
   "source": [
    "tfidf_vec.get_feature_names()[5000], tfidf_vec.get_feature_names()[5500]"
   ]
  },
  {
   "cell_type": "code",
   "execution_count": 73,
   "id": "c824fa7e",
   "metadata": {},
   "outputs": [
    {
     "name": "stdout",
     "output_type": "stream",
     "text": [
      "Top 15 words for Topic: 1\n",
      "['new', 'research', 'like', 'patients', 'health', 'disease', 'percent', 'women', 'virus', 'study', 'water', 'food', 'people', 'zika', 'says']\n",
      "**************************************************\n",
      "\n",
      "Top 15 words for Topic: 2\n",
      "['gop', 'pence', 'presidential', 'russia', 'administration', 'election', 'republican', 'obama', 'white', 'house', 'donald', 'campaign', 'said', 'president', 'trump']\n",
      "**************************************************\n",
      "\n",
      "Top 15 words for Topic: 3\n",
      "['senate', 'house', 'people', 'act', 'law', 'tax', 'plan', 'republicans', 'affordable', 'obamacare', 'coverage', 'medicaid', 'insurance', 'care', 'health']\n",
      "**************************************************\n",
      "\n",
      "Top 15 words for Topic: 4\n",
      "['officers', 'syria', 'security', 'department', 'law', 'isis', 'russia', 'government', 'state', 'attack', 'president', 'reports', 'court', 'said', 'police']\n",
      "**************************************************\n",
      "\n",
      "Top 15 words for Topic: 5\n",
      "['primary', 'cruz', 'election', 'democrats', 'percent', 'party', 'delegates', 'vote', 'state', 'democratic', 'hillary', 'campaign', 'voters', 'sanders', 'clinton']\n",
      "**************************************************\n",
      "\n",
      "Top 15 words for Topic: 6\n",
      "['love', 've', 'don', 'album', 'way', 'time', 'song', 'life', 'really', 'know', 'people', 'think', 'just', 'music', 'like']\n",
      "**************************************************\n",
      "\n",
      "Top 15 words for Topic: 7\n",
      "['teacher', 'state', 'high', 'says', 'parents', 'devos', 'children', 'college', 'kids', 'teachers', 'student', 'education', 'schools', 'school', 'students']\n",
      "**************************************************\n",
      "\n"
     ]
    }
   ],
   "source": [
    "for index, topic in enumerate(nmf.components_):\n",
    "    print(\"Top 15 words for Topic:\", index + 1)\n",
    "    print(list(tfidf_vec.get_feature_names()[word_index] for word_index in topic.argsort()[-15 : ]))\n",
    "    print(\"*\" * 50)\n",
    "    print()"
   ]
  },
  {
   "cell_type": "code",
   "execution_count": 74,
   "id": "64e158c3",
   "metadata": {},
   "outputs": [],
   "source": [
    "topic_attachments_tfidf = nmf.transform(tfidf_data)"
   ]
  },
  {
   "cell_type": "code",
   "execution_count": 78,
   "id": "bfa6176b",
   "metadata": {},
   "outputs": [],
   "source": [
    "data[\"TFIDF TOPIC\"] = topic_attachments_tfidf.argmax(axis = 1)"
   ]
  },
  {
   "cell_type": "code",
   "execution_count": 83,
   "id": "eb096f16",
   "metadata": {},
   "outputs": [],
   "source": [
    "data[\"TFIDF TOPIC\"] = data[\"TFIDF TOPIC\"].apply(lambda x: x + 1)"
   ]
  },
  {
   "cell_type": "code",
   "execution_count": 84,
   "id": "2f1b2e40",
   "metadata": {},
   "outputs": [
    {
     "data": {
      "text/html": [
       "<div>\n",
       "<style scoped>\n",
       "    .dataframe tbody tr th:only-of-type {\n",
       "        vertical-align: middle;\n",
       "    }\n",
       "\n",
       "    .dataframe tbody tr th {\n",
       "        vertical-align: top;\n",
       "    }\n",
       "\n",
       "    .dataframe thead th {\n",
       "        text-align: right;\n",
       "    }\n",
       "</style>\n",
       "<table border=\"1\" class=\"dataframe\">\n",
       "  <thead>\n",
       "    <tr style=\"text-align: right;\">\n",
       "      <th></th>\n",
       "      <th>Article</th>\n",
       "      <th>Topic</th>\n",
       "      <th>Topic Labels</th>\n",
       "      <th>TFIDF TOPIC</th>\n",
       "      <th>Topic Labels TFIDF</th>\n",
       "    </tr>\n",
       "  </thead>\n",
       "  <tbody>\n",
       "    <tr>\n",
       "      <th>0</th>\n",
       "      <td>In the Washington of 2016, even when the polic...</td>\n",
       "      <td>8</td>\n",
       "      <td>Presidential Management</td>\n",
       "      <td>2</td>\n",
       "      <td>Pharmacy/Drugs</td>\n",
       "    </tr>\n",
       "    <tr>\n",
       "      <th>1</th>\n",
       "      <td>Donald Trump has used Twitter  —   his prefe...</td>\n",
       "      <td>8</td>\n",
       "      <td>Presidential Management</td>\n",
       "      <td>2</td>\n",
       "      <td>Pharmacy/Drugs</td>\n",
       "    </tr>\n",
       "    <tr>\n",
       "      <th>2</th>\n",
       "      <td>Donald Trump is unabashedly praising Russian...</td>\n",
       "      <td>8</td>\n",
       "      <td>Presidential Management</td>\n",
       "      <td>2</td>\n",
       "      <td>Pharmacy/Drugs</td>\n",
       "    </tr>\n",
       "    <tr>\n",
       "      <th>3</th>\n",
       "      <td>Updated at 2:50 p. m. ET, Russian President Vl...</td>\n",
       "      <td>8</td>\n",
       "      <td>Presidential Management</td>\n",
       "      <td>4</td>\n",
       "      <td>Law &amp; Insurance</td>\n",
       "    </tr>\n",
       "    <tr>\n",
       "      <th>4</th>\n",
       "      <td>From photography, illustration and video, to d...</td>\n",
       "      <td>7</td>\n",
       "      <td>Education</td>\n",
       "      <td>7</td>\n",
       "      <td>Music</td>\n",
       "    </tr>\n",
       "    <tr>\n",
       "      <th>...</th>\n",
       "      <td>...</td>\n",
       "      <td>...</td>\n",
       "      <td>...</td>\n",
       "      <td>...</td>\n",
       "      <td>...</td>\n",
       "    </tr>\n",
       "    <tr>\n",
       "      <th>11987</th>\n",
       "      <td>The number of law enforcement officers shot an...</td>\n",
       "      <td>5</td>\n",
       "      <td>Pharmacy/Drugs</td>\n",
       "      <td>4</td>\n",
       "      <td>Law &amp; Insurance</td>\n",
       "    </tr>\n",
       "    <tr>\n",
       "      <th>11988</th>\n",
       "      <td>Trump is busy these days with victory tours,...</td>\n",
       "      <td>2</td>\n",
       "      <td>politics</td>\n",
       "      <td>2</td>\n",
       "      <td>Pharmacy/Drugs</td>\n",
       "    </tr>\n",
       "    <tr>\n",
       "      <th>11989</th>\n",
       "      <td>It’s always interesting for the Goats and Soda...</td>\n",
       "      <td>1</td>\n",
       "      <td>Family</td>\n",
       "      <td>1</td>\n",
       "      <td>NaN</td>\n",
       "    </tr>\n",
       "    <tr>\n",
       "      <th>11990</th>\n",
       "      <td>The election of Donald Trump was a surprise to...</td>\n",
       "      <td>2</td>\n",
       "      <td>politics</td>\n",
       "      <td>5</td>\n",
       "      <td>Jurisdiction</td>\n",
       "    </tr>\n",
       "    <tr>\n",
       "      <th>11991</th>\n",
       "      <td>Voters in the English city of Sunderland did s...</td>\n",
       "      <td>6</td>\n",
       "      <td>War</td>\n",
       "      <td>4</td>\n",
       "      <td>Law &amp; Insurance</td>\n",
       "    </tr>\n",
       "  </tbody>\n",
       "</table>\n",
       "<p>11992 rows × 5 columns</p>\n",
       "</div>"
      ],
      "text/plain": [
       "                                                 Article  Topic  \\\n",
       "0      In the Washington of 2016, even when the polic...      8   \n",
       "1        Donald Trump has used Twitter  —   his prefe...      8   \n",
       "2        Donald Trump is unabashedly praising Russian...      8   \n",
       "3      Updated at 2:50 p. m. ET, Russian President Vl...      8   \n",
       "4      From photography, illustration and video, to d...      7   \n",
       "...                                                  ...    ...   \n",
       "11987  The number of law enforcement officers shot an...      5   \n",
       "11988    Trump is busy these days with victory tours,...      2   \n",
       "11989  It’s always interesting for the Goats and Soda...      1   \n",
       "11990  The election of Donald Trump was a surprise to...      2   \n",
       "11991  Voters in the English city of Sunderland did s...      6   \n",
       "\n",
       "                  Topic Labels  TFIDF TOPIC Topic Labels TFIDF  \n",
       "0      Presidential Management            2     Pharmacy/Drugs  \n",
       "1      Presidential Management            2     Pharmacy/Drugs  \n",
       "2      Presidential Management            2     Pharmacy/Drugs  \n",
       "3      Presidential Management            4    Law & Insurance  \n",
       "4                    Education            7              Music  \n",
       "...                        ...          ...                ...  \n",
       "11987           Pharmacy/Drugs            4    Law & Insurance  \n",
       "11988                 politics            2     Pharmacy/Drugs  \n",
       "11989                   Family            1                NaN  \n",
       "11990                 politics            5       Jurisdiction  \n",
       "11991                      War            4    Law & Insurance  \n",
       "\n",
       "[11992 rows x 5 columns]"
      ]
     },
     "execution_count": 84,
     "metadata": {},
     "output_type": "execute_result"
    }
   ],
   "source": [
    "data"
   ]
  },
  {
   "cell_type": "code",
   "execution_count": 85,
   "id": "69ca2c41",
   "metadata": {},
   "outputs": [],
   "source": [
    "## Giving Topic Labels\n",
    "topic_labels_tfidf = {1 : \"Pharmacy/Drugs\",\n",
    "                2 : \"Politics\",\n",
    "                3 : \"Law & Insurance\",\n",
    "                4 : \"Jurisdiction\",\n",
    "                5 : \"Democracy\",\n",
    "                6 : \"Music\",\n",
    "                7 : \"Education\"}\n",
    "\n",
    "data[\"Topic Labels TFIDF\"] = data[\"TFIDF TOPIC\"].map(topic_labels_tfidf)"
   ]
  },
  {
   "cell_type": "code",
   "execution_count": 86,
   "id": "86758d23",
   "metadata": {},
   "outputs": [
    {
     "data": {
      "text/html": [
       "<div>\n",
       "<style scoped>\n",
       "    .dataframe tbody tr th:only-of-type {\n",
       "        vertical-align: middle;\n",
       "    }\n",
       "\n",
       "    .dataframe tbody tr th {\n",
       "        vertical-align: top;\n",
       "    }\n",
       "\n",
       "    .dataframe thead th {\n",
       "        text-align: right;\n",
       "    }\n",
       "</style>\n",
       "<table border=\"1\" class=\"dataframe\">\n",
       "  <thead>\n",
       "    <tr style=\"text-align: right;\">\n",
       "      <th></th>\n",
       "      <th>Article</th>\n",
       "      <th>Topic</th>\n",
       "      <th>Topic Labels</th>\n",
       "      <th>TFIDF TOPIC</th>\n",
       "      <th>Topic Labels TFIDF</th>\n",
       "    </tr>\n",
       "  </thead>\n",
       "  <tbody>\n",
       "    <tr>\n",
       "      <th>0</th>\n",
       "      <td>In the Washington of 2016, even when the polic...</td>\n",
       "      <td>8</td>\n",
       "      <td>Presidential Management</td>\n",
       "      <td>2</td>\n",
       "      <td>Politics</td>\n",
       "    </tr>\n",
       "    <tr>\n",
       "      <th>1</th>\n",
       "      <td>Donald Trump has used Twitter  —   his prefe...</td>\n",
       "      <td>8</td>\n",
       "      <td>Presidential Management</td>\n",
       "      <td>2</td>\n",
       "      <td>Politics</td>\n",
       "    </tr>\n",
       "    <tr>\n",
       "      <th>2</th>\n",
       "      <td>Donald Trump is unabashedly praising Russian...</td>\n",
       "      <td>8</td>\n",
       "      <td>Presidential Management</td>\n",
       "      <td>2</td>\n",
       "      <td>Politics</td>\n",
       "    </tr>\n",
       "    <tr>\n",
       "      <th>3</th>\n",
       "      <td>Updated at 2:50 p. m. ET, Russian President Vl...</td>\n",
       "      <td>8</td>\n",
       "      <td>Presidential Management</td>\n",
       "      <td>4</td>\n",
       "      <td>Jurisdiction</td>\n",
       "    </tr>\n",
       "    <tr>\n",
       "      <th>4</th>\n",
       "      <td>From photography, illustration and video, to d...</td>\n",
       "      <td>7</td>\n",
       "      <td>Education</td>\n",
       "      <td>7</td>\n",
       "      <td>Education</td>\n",
       "    </tr>\n",
       "    <tr>\n",
       "      <th>5</th>\n",
       "      <td>I did not want to join yoga class. I hated tho...</td>\n",
       "      <td>5</td>\n",
       "      <td>Pharmacy/Drugs</td>\n",
       "      <td>6</td>\n",
       "      <td>Music</td>\n",
       "    </tr>\n",
       "    <tr>\n",
       "      <th>6</th>\n",
       "      <td>With a   who has publicly supported the debunk...</td>\n",
       "      <td>5</td>\n",
       "      <td>Pharmacy/Drugs</td>\n",
       "      <td>1</td>\n",
       "      <td>Pharmacy/Drugs</td>\n",
       "    </tr>\n",
       "    <tr>\n",
       "      <th>7</th>\n",
       "      <td>I was standing by the airport exit, debating w...</td>\n",
       "      <td>1</td>\n",
       "      <td>Family</td>\n",
       "      <td>1</td>\n",
       "      <td>Pharmacy/Drugs</td>\n",
       "    </tr>\n",
       "    <tr>\n",
       "      <th>8</th>\n",
       "      <td>If movies were trying to be more realistic, pe...</td>\n",
       "      <td>7</td>\n",
       "      <td>Education</td>\n",
       "      <td>1</td>\n",
       "      <td>Pharmacy/Drugs</td>\n",
       "    </tr>\n",
       "    <tr>\n",
       "      <th>9</th>\n",
       "      <td>Eighteen years ago, on New Year’s Eve, David F...</td>\n",
       "      <td>1</td>\n",
       "      <td>Family</td>\n",
       "      <td>6</td>\n",
       "      <td>Music</td>\n",
       "    </tr>\n",
       "    <tr>\n",
       "      <th>10</th>\n",
       "      <td>For years now, some of the best, wildest, most...</td>\n",
       "      <td>4</td>\n",
       "      <td>Music</td>\n",
       "      <td>6</td>\n",
       "      <td>Music</td>\n",
       "    </tr>\n",
       "    <tr>\n",
       "      <th>11</th>\n",
       "      <td>For years now, some of the best, wildest, most...</td>\n",
       "      <td>4</td>\n",
       "      <td>Music</td>\n",
       "      <td>6</td>\n",
       "      <td>Music</td>\n",
       "    </tr>\n",
       "    <tr>\n",
       "      <th>12</th>\n",
       "      <td>The Colorado River is like a giant bank accoun...</td>\n",
       "      <td>7</td>\n",
       "      <td>Education</td>\n",
       "      <td>1</td>\n",
       "      <td>Pharmacy/Drugs</td>\n",
       "    </tr>\n",
       "    <tr>\n",
       "      <th>13</th>\n",
       "      <td>For the last installment of NPR’s holiday reci...</td>\n",
       "      <td>7</td>\n",
       "      <td>Education</td>\n",
       "      <td>6</td>\n",
       "      <td>Music</td>\n",
       "    </tr>\n",
       "    <tr>\n",
       "      <th>14</th>\n",
       "      <td>Being overweight can raise your blood pressure...</td>\n",
       "      <td>7</td>\n",
       "      <td>Education</td>\n",
       "      <td>1</td>\n",
       "      <td>Pharmacy/Drugs</td>\n",
       "    </tr>\n",
       "    <tr>\n",
       "      <th>15</th>\n",
       "      <td>Who’s the YouTube star of 2016? Adele singing ...</td>\n",
       "      <td>4</td>\n",
       "      <td>Music</td>\n",
       "      <td>6</td>\n",
       "      <td>Music</td>\n",
       "    </tr>\n",
       "    <tr>\n",
       "      <th>16</th>\n",
       "      <td>Here’s a quick roundup of some of the   you ma...</td>\n",
       "      <td>1</td>\n",
       "      <td>Family</td>\n",
       "      <td>4</td>\n",
       "      <td>Jurisdiction</td>\n",
       "    </tr>\n",
       "    <tr>\n",
       "      <th>17</th>\n",
       "      <td>Ben Johnston doesn’t follow the rules of music...</td>\n",
       "      <td>4</td>\n",
       "      <td>Music</td>\n",
       "      <td>6</td>\n",
       "      <td>Music</td>\n",
       "    </tr>\n",
       "    <tr>\n",
       "      <th>18</th>\n",
       "      <td>David Bowie, Prince and George Michael are all...</td>\n",
       "      <td>4</td>\n",
       "      <td>Music</td>\n",
       "      <td>6</td>\n",
       "      <td>Music</td>\n",
       "    </tr>\n",
       "    <tr>\n",
       "      <th>19</th>\n",
       "      <td>In November, the typically straitlaced Office ...</td>\n",
       "      <td>8</td>\n",
       "      <td>Presidential Management</td>\n",
       "      <td>2</td>\n",
       "      <td>Politics</td>\n",
       "    </tr>\n",
       "    <tr>\n",
       "      <th>20</th>\n",
       "      <td>This is the time of year when everybody is mak...</td>\n",
       "      <td>4</td>\n",
       "      <td>Music</td>\n",
       "      <td>6</td>\n",
       "      <td>Music</td>\n",
       "    </tr>\n",
       "    <tr>\n",
       "      <th>21</th>\n",
       "      <td>Terrorist attacks, hurricanes, a divisive U. S...</td>\n",
       "      <td>1</td>\n",
       "      <td>Family</td>\n",
       "      <td>6</td>\n",
       "      <td>Music</td>\n",
       "    </tr>\n",
       "    <tr>\n",
       "      <th>22</th>\n",
       "      <td>We all experience stress at work, no matter th...</td>\n",
       "      <td>7</td>\n",
       "      <td>Education</td>\n",
       "      <td>7</td>\n",
       "      <td>Education</td>\n",
       "    </tr>\n",
       "    <tr>\n",
       "      <th>23</th>\n",
       "      <td>When John Fahey recorded The New Possibility i...</td>\n",
       "      <td>4</td>\n",
       "      <td>Music</td>\n",
       "      <td>6</td>\n",
       "      <td>Music</td>\n",
       "    </tr>\n",
       "    <tr>\n",
       "      <th>24</th>\n",
       "      <td>This year was one of   hacks, exploding smartp...</td>\n",
       "      <td>4</td>\n",
       "      <td>Music</td>\n",
       "      <td>6</td>\n",
       "      <td>Music</td>\n",
       "    </tr>\n",
       "  </tbody>\n",
       "</table>\n",
       "</div>"
      ],
      "text/plain": [
       "                                              Article  Topic  \\\n",
       "0   In the Washington of 2016, even when the polic...      8   \n",
       "1     Donald Trump has used Twitter  —   his prefe...      8   \n",
       "2     Donald Trump is unabashedly praising Russian...      8   \n",
       "3   Updated at 2:50 p. m. ET, Russian President Vl...      8   \n",
       "4   From photography, illustration and video, to d...      7   \n",
       "5   I did not want to join yoga class. I hated tho...      5   \n",
       "6   With a   who has publicly supported the debunk...      5   \n",
       "7   I was standing by the airport exit, debating w...      1   \n",
       "8   If movies were trying to be more realistic, pe...      7   \n",
       "9   Eighteen years ago, on New Year’s Eve, David F...      1   \n",
       "10  For years now, some of the best, wildest, most...      4   \n",
       "11  For years now, some of the best, wildest, most...      4   \n",
       "12  The Colorado River is like a giant bank accoun...      7   \n",
       "13  For the last installment of NPR’s holiday reci...      7   \n",
       "14  Being overweight can raise your blood pressure...      7   \n",
       "15  Who’s the YouTube star of 2016? Adele singing ...      4   \n",
       "16  Here’s a quick roundup of some of the   you ma...      1   \n",
       "17  Ben Johnston doesn’t follow the rules of music...      4   \n",
       "18  David Bowie, Prince and George Michael are all...      4   \n",
       "19  In November, the typically straitlaced Office ...      8   \n",
       "20  This is the time of year when everybody is mak...      4   \n",
       "21  Terrorist attacks, hurricanes, a divisive U. S...      1   \n",
       "22  We all experience stress at work, no matter th...      7   \n",
       "23  When John Fahey recorded The New Possibility i...      4   \n",
       "24  This year was one of   hacks, exploding smartp...      4   \n",
       "\n",
       "               Topic Labels  TFIDF TOPIC Topic Labels TFIDF  \n",
       "0   Presidential Management            2           Politics  \n",
       "1   Presidential Management            2           Politics  \n",
       "2   Presidential Management            2           Politics  \n",
       "3   Presidential Management            4       Jurisdiction  \n",
       "4                 Education            7          Education  \n",
       "5            Pharmacy/Drugs            6              Music  \n",
       "6            Pharmacy/Drugs            1     Pharmacy/Drugs  \n",
       "7                    Family            1     Pharmacy/Drugs  \n",
       "8                 Education            1     Pharmacy/Drugs  \n",
       "9                    Family            6              Music  \n",
       "10                    Music            6              Music  \n",
       "11                    Music            6              Music  \n",
       "12                Education            1     Pharmacy/Drugs  \n",
       "13                Education            6              Music  \n",
       "14                Education            1     Pharmacy/Drugs  \n",
       "15                    Music            6              Music  \n",
       "16                   Family            4       Jurisdiction  \n",
       "17                    Music            6              Music  \n",
       "18                    Music            6              Music  \n",
       "19  Presidential Management            2           Politics  \n",
       "20                    Music            6              Music  \n",
       "21                   Family            6              Music  \n",
       "22                Education            7          Education  \n",
       "23                    Music            6              Music  \n",
       "24                    Music            6              Music  "
      ]
     },
     "execution_count": 86,
     "metadata": {},
     "output_type": "execute_result"
    }
   ],
   "source": [
    "data.head(25)"
   ]
  },
  {
   "cell_type": "code",
   "execution_count": null,
   "id": "7d14a93b",
   "metadata": {},
   "outputs": [],
   "source": []
  }
 ],
 "metadata": {
  "kernelspec": {
   "display_name": "Python 3 (ipykernel)",
   "language": "python",
   "name": "python3"
  },
  "language_info": {
   "codemirror_mode": {
    "name": "ipython",
    "version": 3
   },
   "file_extension": ".py",
   "mimetype": "text/x-python",
   "name": "python",
   "nbconvert_exporter": "python",
   "pygments_lexer": "ipython3",
   "version": "3.9.6"
  }
 },
 "nbformat": 4,
 "nbformat_minor": 5
}
