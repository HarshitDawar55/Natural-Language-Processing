{
 "cells": [
  {
   "cell_type": "markdown",
   "id": "55110db4",
   "metadata": {},
   "source": [
    "# Topic Modelling by `Mr. Harshit Dawar!`\n",
    "### Algorithm: LDA (Latent Dirichlet Allocation)\n",
    "\n",
    "***Steps***\n",
    "1. A random number of topics will be decided by the user to which the words from the document will be assigned.\n",
    "2. Each word from each document will be assigned to any of the random topics initially.\n",
    "3. Now, random topics from each document & words assignments to those topics in each document will be obtained. Although, initial assignment will not make any sense.\n",
    "4. Steps 2 & 3 will be repeated until the best assignments are provided using the formula given below.\n",
    "\n",
    "For each topic:  ***probability( topic \"t\" | document \"d\")*** <= Probability of topic \"t\" existing in document \"d\".\n",
    "\n",
    "For each word:  ***probability( word \"w\" | topic \"t\")*** <= Probability of word \"w\" belonging to topic \"t\".\n",
    "\n",
    "Final probability that a topic \"t\" generated word \"w\" in document \"d\": ***probability( topic \"t\" | document \"d\") * probability( word \"w\" | topic \"t\")***\n",
    "\n",
    "\n",
    "**Important Pointers**\n",
    "\n",
    "* The user has to decide the number of topics to get from the document\n",
    "* The user has to interpret the topics itself.\n",
    "\n",
    "**Few Assumptions of LDA**\n",
    "\n",
    "* Documents are probability distributions over Topics, Topics are probabilty distributions over words.\n",
    "* Documents with similar topics uses similar groups of words.\n",
    "* Topics can be founded by searching for the words that occur across the corpus in documents. "
   ]
  },
  {
   "cell_type": "code",
   "execution_count": 13,
   "id": "93766392",
   "metadata": {},
   "outputs": [],
   "source": [
    "# Importing the required Libraries\n",
    "import pandas as pd\n",
    "import numpy as np\n",
    "from sklearn.decomposition import LatentDirichletAllocation\n",
    "from sklearn.feature_extraction.text import CountVectorizer"
   ]
  },
  {
   "cell_type": "code",
   "execution_count": 3,
   "id": "d9459ee5",
   "metadata": {},
   "outputs": [],
   "source": [
    "# Loading the Dataset\n",
    "data = pd.read_csv(\"data.csv\")"
   ]
  },
  {
   "cell_type": "code",
   "execution_count": 4,
   "id": "152f69ed",
   "metadata": {},
   "outputs": [
    {
     "data": {
      "text/html": [
       "<div>\n",
       "<style scoped>\n",
       "    .dataframe tbody tr th:only-of-type {\n",
       "        vertical-align: middle;\n",
       "    }\n",
       "\n",
       "    .dataframe tbody tr th {\n",
       "        vertical-align: top;\n",
       "    }\n",
       "\n",
       "    .dataframe thead th {\n",
       "        text-align: right;\n",
       "    }\n",
       "</style>\n",
       "<table border=\"1\" class=\"dataframe\">\n",
       "  <thead>\n",
       "    <tr style=\"text-align: right;\">\n",
       "      <th></th>\n",
       "      <th>Article</th>\n",
       "    </tr>\n",
       "  </thead>\n",
       "  <tbody>\n",
       "    <tr>\n",
       "      <th>0</th>\n",
       "      <td>In the Washington of 2016, even when the polic...</td>\n",
       "    </tr>\n",
       "    <tr>\n",
       "      <th>1</th>\n",
       "      <td>Donald Trump has used Twitter  —   his prefe...</td>\n",
       "    </tr>\n",
       "    <tr>\n",
       "      <th>2</th>\n",
       "      <td>Donald Trump is unabashedly praising Russian...</td>\n",
       "    </tr>\n",
       "    <tr>\n",
       "      <th>3</th>\n",
       "      <td>Updated at 2:50 p. m. ET, Russian President Vl...</td>\n",
       "    </tr>\n",
       "    <tr>\n",
       "      <th>4</th>\n",
       "      <td>From photography, illustration and video, to d...</td>\n",
       "    </tr>\n",
       "  </tbody>\n",
       "</table>\n",
       "</div>"
      ],
      "text/plain": [
       "                                             Article\n",
       "0  In the Washington of 2016, even when the polic...\n",
       "1    Donald Trump has used Twitter  —   his prefe...\n",
       "2    Donald Trump is unabashedly praising Russian...\n",
       "3  Updated at 2:50 p. m. ET, Russian President Vl...\n",
       "4  From photography, illustration and video, to d..."
      ]
     },
     "execution_count": 4,
     "metadata": {},
     "output_type": "execute_result"
    }
   ],
   "source": [
    "data.head()"
   ]
  },
  {
   "cell_type": "code",
   "execution_count": 5,
   "id": "4fc79af6",
   "metadata": {},
   "outputs": [
    {
     "data": {
      "text/plain": [
       "(11992, 1)"
      ]
     },
     "execution_count": 5,
     "metadata": {},
     "output_type": "execute_result"
    }
   ],
   "source": [
    "data.shape"
   ]
  },
  {
   "cell_type": "markdown",
   "id": "373e3585",
   "metadata": {},
   "source": [
    "## Getting the word vectorized"
   ]
  },
  {
   "cell_type": "code",
   "execution_count": 6,
   "id": "a2d33852",
   "metadata": {},
   "outputs": [],
   "source": [
    "\"\"\"\n",
    "* min_df represents min. number of documents in which a word should occur. A word with a number below this\n",
    "  will be ignored.\n",
    "* max_df represents max. word frequency of occurence of a word in the document above which all the\n",
    "  words will be ignored.\n",
    "  \n",
    "* Stopwrods of English will be removed.\n",
    "\"\"\"\n",
    "vectorizer = CountVectorizer(min_df = 2, max_df = 0.95, stop_words=\"english\")"
   ]
  },
  {
   "cell_type": "code",
   "execution_count": 8,
   "id": "6cd0f0d5",
   "metadata": {},
   "outputs": [],
   "source": [
    "document_word_matrix = vectorizer.fit_transform(data.Article)"
   ]
  },
  {
   "cell_type": "code",
   "execution_count": 15,
   "id": "e615491a",
   "metadata": {},
   "outputs": [
    {
     "data": {
      "text/plain": [
       "<11992x54777 sparse matrix of type '<class 'numpy.int64'>'\n",
       "\twith 3033388 stored elements in Compressed Sparse Row format>"
      ]
     },
     "execution_count": 15,
     "metadata": {},
     "output_type": "execute_result"
    }
   ],
   "source": [
    "document_word_matrix"
   ]
  },
  {
   "cell_type": "code",
   "execution_count": 16,
   "id": "98fed624",
   "metadata": {},
   "outputs": [
    {
     "data": {
      "text/plain": [
       "array([ 0,  1,  2,  3,  4,  5,  6,  7,  9, 10, 15, 19])"
      ]
     },
     "execution_count": 16,
     "metadata": {},
     "output_type": "execute_result"
    }
   ],
   "source": [
    "np.unique(document_word_matrix.toarray()[0])"
   ]
  },
  {
   "cell_type": "markdown",
   "id": "19ffeebf",
   "metadata": {},
   "source": [
    "## Applying LDA"
   ]
  },
  {
   "cell_type": "code",
   "execution_count": 17,
   "id": "01f018d6",
   "metadata": {},
   "outputs": [
    {
     "data": {
      "text/plain": [
       "LatentDirichletAllocation(n_components=9, random_state=5)"
      ]
     },
     "execution_count": 17,
     "metadata": {},
     "output_type": "execute_result"
    }
   ],
   "source": [
    "\"\"\"\n",
    "n_components: number of different topics to divide the documents into\n",
    "\"\"\"\n",
    "LDA = LatentDirichletAllocation(n_components = 9, random_state = 5)\n",
    "\n",
    "LDA.fit(document_word_matrix)"
   ]
  },
  {
   "cell_type": "code",
   "execution_count": 20,
   "id": "65b2fcde",
   "metadata": {},
   "outputs": [
    {
     "data": {
      "text/plain": [
       "54777"
      ]
     },
     "execution_count": 20,
     "metadata": {},
     "output_type": "execute_result"
    }
   ],
   "source": [
    "### Getting the Corpus from the Documents\n",
    "\n",
    "len(vectorizer.get_feature_names())"
   ]
  },
  {
   "cell_type": "code",
   "execution_count": 23,
   "id": "1034ca8f",
   "metadata": {},
   "outputs": [
    {
     "data": {
      "text/plain": [
       "('bask', 'benzodiazepines', 'nas')"
      ]
     },
     "execution_count": 23,
     "metadata": {},
     "output_type": "execute_result"
    }
   ],
   "source": [
    "vectorizer.get_feature_names()[5000], vectorizer.get_feature_names()[5500], vectorizer.get_feature_names()[33000]"
   ]
  },
  {
   "cell_type": "code",
   "execution_count": 24,
   "id": "6b4fe2ab",
   "metadata": {},
   "outputs": [
    {
     "data": {
      "text/plain": [
       "array([[2.04108203e+01, 4.93163268e+02, 1.11111111e-01, ...,\n",
       "        6.11103023e+00, 1.11675663e-01, 1.11111111e-01],\n",
       "       [2.92231210e+00, 7.68997627e+02, 1.11111111e-01, ...,\n",
       "        1.11111111e-01, 1.11119937e-01, 1.11113664e-01],\n",
       "       [1.11189038e-01, 1.75726089e+02, 1.11113075e-01, ...,\n",
       "        1.11119789e-01, 1.11036644e+00, 1.11111111e-01],\n",
       "       ...,\n",
       "       [7.29581971e+00, 1.67203972e+03, 1.11111111e-01, ...,\n",
       "        1.11138772e-01, 1.11288688e-01, 1.11111111e-01],\n",
       "       [7.94521735e+00, 4.38966163e+01, 1.11111111e-01, ...,\n",
       "        1.11111111e-01, 1.11111111e-01, 1.11111648e-01],\n",
       "       [4.56026646e+00, 3.66501790e+02, 1.11116300e-01, ...,\n",
       "        1.11111669e-01, 1.11111111e-01, 1.11111966e-01]])"
      ]
     },
     "execution_count": 24,
     "metadata": {},
     "output_type": "execute_result"
    }
   ],
   "source": [
    "### Getting the Different Topics\n",
    "LDA.components_"
   ]
  },
  {
   "cell_type": "code",
   "execution_count": 25,
   "id": "9880b97a",
   "metadata": {},
   "outputs": [
    {
     "data": {
      "text/plain": [
       "(9, 54777)"
      ]
     },
     "execution_count": 25,
     "metadata": {},
     "output_type": "execute_result"
    }
   ],
   "source": [
    "LDA.components_.shape"
   ]
  },
  {
   "cell_type": "code",
   "execution_count": 26,
   "id": "728ba1a2",
   "metadata": {},
   "outputs": [
    {
     "data": {
      "text/plain": [
       "array([2.04108203e+01, 4.93163268e+02, 1.11111111e-01, ...,\n",
       "       6.11103023e+00, 1.11675663e-01, 1.11111111e-01])"
      ]
     },
     "execution_count": 26,
     "metadata": {},
     "output_type": "execute_result"
    }
   ],
   "source": [
    "Topic_1 = LDA.components_[0]\n",
    "Topic_1"
   ]
  },
  {
   "cell_type": "code",
   "execution_count": 27,
   "id": "f6a9dba9",
   "metadata": {},
   "outputs": [],
   "source": [
    "# Getting the top 15 words from this topic\n",
    "top_15_words_of_topic_1 = Topic_1.argsort()[-15 : ]"
   ]
  },
  {
   "cell_type": "code",
   "execution_count": 30,
   "id": "9e96a5eb",
   "metadata": {},
   "outputs": [
    {
     "name": "stdout",
     "output_type": "stream",
     "text": [
      "work\n",
      "way\n",
      "home\n",
      "day\n",
      "new\n",
      "life\n",
      "world\n",
      "women\n",
      "family\n",
      "time\n",
      "years\n",
      "just\n",
      "people\n",
      "like\n",
      "says\n"
     ]
    }
   ],
   "source": [
    "\"\"\"\n",
    "index will be the word index & actual words are present in the vocabulary/corpus\n",
    "not in the Topic1, it contains just the probabilities for the words.\n",
    "\"\"\" \n",
    "for index in top_15_words_of_topic_1:\n",
    "    print(vectorizer.get_feature_names()[index])"
   ]
  },
  {
   "cell_type": "code",
   "execution_count": 38,
   "id": "f595911b",
   "metadata": {},
   "outputs": [
    {
     "name": "stdout",
     "output_type": "stream",
     "text": [
      "Top 15 words for Topic: 1\n",
      "['work', 'way', 'home', 'day', 'new', 'life', 'world', 'women', 'family', 'time', 'years', 'just', 'people', 'like', 'says']\n",
      "**************************************************\n",
      "\n",
      "Top 15 words for Topic: 2\n",
      "['just', 'going', 'state', 'political', 'obama', 'donald', 'country', 'says', 'new', 'campaign', 'people', 'clinton', 'president', 'said', 'trump']\n",
      "**************************************************\n",
      "\n",
      "Top 15 words for Topic: 3\n",
      "['democrats', 'won', 'new', 'party', 'states', 'democratic', 'win', 'race', 'said', 'vote', 'percent', 'clinton', 'voters', 'sanders', 'state']\n",
      "**************************************************\n",
      "\n",
      "Top 15 words for Topic: 4\n",
      "['years', 'life', 've', 'don', 'says', 'music', 'way', 'really', 'new', 'know', 'time', 'think', 'people', 'just', 'like']\n",
      "**************************************************\n",
      "\n",
      "Top 15 words for Topic: 5\n",
      "['hospital', 'don', 'disease', 'just', 'women', 'drug', 'like', 'police', 'medical', 'care', 'patients', 'said', 'health', 'people', 'says']\n",
      "**************************************************\n",
      "\n",
      "Top 15 words for Topic: 6\n",
      "['npr', 'killed', 'military', 'attack', 'according', 'told', 'country', 'war', 'city', 'reports', 'government', 'police', 'people', 'says', 'said']\n",
      "**************************************************\n",
      "\n",
      "Top 15 words for Topic: 7\n",
      "['year', 'water', 'years', 'university', 'study', 'just', 'food', 'school', 'new', 'students', 'health', 'percent', 'like', 'people', 'says']\n",
      "**************************************************\n",
      "\n",
      "Top 15 words for Topic: 8\n",
      "['republicans', 'congress', 'comey', 'intelligence', 'russian', 'administration', 'committee', 'senate', 'white', 'russia', 'obama', 'house', 'said', 'president', 'trump']\n",
      "**************************************************\n",
      "\n",
      "Top 15 words for Topic: 9\n",
      "['government', 'order', 'department', 'judge', 'new', 'news', 'company', 'justice', 'state', 'federal', 'case', 'says', 'law', 'said', 'court']\n",
      "**************************************************\n",
      "\n"
     ]
    }
   ],
   "source": [
    "for index, topic in enumerate(LDA.components_):\n",
    "    print(\"Top 15 words for Topic:\", index + 1)\n",
    "    print(list(vectorizer.get_feature_names()[word_index] for word_index in topic.argsort()[-15 : ]))\n",
    "    print(\"*\" * 50)\n",
    "    print()"
   ]
  },
  {
   "cell_type": "code",
   "execution_count": null,
   "id": "d507c627",
   "metadata": {},
   "outputs": [],
   "source": []
  }
 ],
 "metadata": {
  "kernelspec": {
   "display_name": "Python 3 (ipykernel)",
   "language": "python",
   "name": "python3"
  },
  "language_info": {
   "codemirror_mode": {
    "name": "ipython",
    "version": 3
   },
   "file_extension": ".py",
   "mimetype": "text/x-python",
   "name": "python",
   "nbconvert_exporter": "python",
   "pygments_lexer": "ipython3",
   "version": "3.9.6"
  }
 },
 "nbformat": 4,
 "nbformat_minor": 5
}
