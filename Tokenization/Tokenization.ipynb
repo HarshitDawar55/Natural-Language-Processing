{
 "cells": [
  {
   "cell_type": "markdown",
   "id": "bbec0051",
   "metadata": {},
   "source": [
    "# Tokenization Introduction by `Mr. Harshit Dawar!`\n",
    "* It is just the process of just dividing the sentence into words!"
   ]
  },
  {
   "cell_type": "code",
   "execution_count": 1,
   "id": "8a8ebdf6",
   "metadata": {},
   "outputs": [],
   "source": [
    "import spacy\n",
    "english_model_nlp = spacy.load(\"en_core_web_sm\")"
   ]
  },
  {
   "cell_type": "code",
   "execution_count": 2,
   "id": "6335a221",
   "metadata": {},
   "outputs": [],
   "source": [
    "# Creating a sentence for the demo!\n",
    "sentence = english_model_nlp(\"This is my first class for NLP in India \\\n",
    "by Mr. Harshit Dawar!\")"
   ]
  },
  {
   "cell_type": "code",
   "execution_count": 3,
   "id": "bb167a21",
   "metadata": {},
   "outputs": [
    {
     "name": "stdout",
     "output_type": "stream",
     "text": [
      "This\n",
      "is\n",
      "my\n",
      "first\n",
      "class\n",
      "for\n",
      "NLP\n",
      "in\n",
      "India\n",
      "by\n",
      "Mr.\n",
      "Harshit\n",
      "Dawar\n",
      "!\n"
     ]
    }
   ],
   "source": [
    "for token in sentence:\n",
    "    print(token)"
   ]
  },
  {
   "cell_type": "code",
   "execution_count": null,
   "id": "8746f1fa",
   "metadata": {},
   "outputs": [],
   "source": []
  }
 ],
 "metadata": {
  "kernelspec": {
   "display_name": "Python 3 (ipykernel)",
   "language": "python",
   "name": "python3"
  },
  "language_info": {
   "codemirror_mode": {
    "name": "ipython",
    "version": 3
   },
   "file_extension": ".py",
   "mimetype": "text/x-python",
   "name": "python",
   "nbconvert_exporter": "python",
   "pygments_lexer": "ipython3",
   "version": "3.9.6"
  }
 },
 "nbformat": 4,
 "nbformat_minor": 5
}
