{
 "cells": [
  {
   "cell_type": "markdown",
   "id": "293e7abc",
   "metadata": {},
   "source": [
    "# Bag Of Words by `Mr. Harshit Dawar!`\n",
    "* It is a technique to transform the words into differnet numbers, then make the sentences into the matrix form having the word count for each word in it. "
   ]
  },
  {
   "cell_type": "code",
   "execution_count": 1,
   "id": "b3517499",
   "metadata": {},
   "outputs": [],
   "source": [
    "# Importing the required Libraries\n",
    "\n",
    "import goose3     # For fetching the text from the URL\n",
    "from sklearn.feature_extraction.text import CountVectorizer"
   ]
  },
  {
   "cell_type": "code",
   "execution_count": null,
   "id": "8ffed1fd",
   "metadata": {},
   "outputs": [],
   "source": []
  }
 ],
 "metadata": {
  "kernelspec": {
   "display_name": "Python 3 (ipykernel)",
   "language": "python",
   "name": "python3"
  },
  "language_info": {
   "codemirror_mode": {
    "name": "ipython",
    "version": 3
   },
   "file_extension": ".py",
   "mimetype": "text/x-python",
   "name": "python",
   "nbconvert_exporter": "python",
   "pygments_lexer": "ipython3",
   "version": "3.9.6"
  }
 },
 "nbformat": 4,
 "nbformat_minor": 5
}
