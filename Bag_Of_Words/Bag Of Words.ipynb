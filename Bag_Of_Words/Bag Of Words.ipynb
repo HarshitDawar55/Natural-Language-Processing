{
 "cells": [
  {
   "cell_type": "markdown",
   "id": "987d5464",
   "metadata": {},
   "source": [
    "# Bag Of Words by `Mr. Harshit Dawar!`\n",
    "* It is a technique to transform the words into differnet numbers, then make the sentences into the matrix form having the word count for each word in it. "
   ]
  },
  {
   "cell_type": "code",
   "execution_count": 11,
   "id": "7af50591",
   "metadata": {},
   "outputs": [],
   "source": [
    "# Importing the required Libraries\n",
    "\n",
    "import goose3     # For fetching the text from the URL\n",
    "from sklearn.feature_extraction.text import CountVectorizer\n",
    "import nltk"
   ]
  },
  {
   "cell_type": "code",
   "execution_count": 6,
   "id": "1cec0991",
   "metadata": {},
   "outputs": [],
   "source": [
    "goose = goose3.Goose()\n",
    "\n",
    "# Extracting data from the wikopedia article on NLP!\n",
    "data = goose.extract(\"https://en.wikipedia.org/wiki/Natural_language_processing\")"
   ]
  },
  {
   "cell_type": "code",
   "execution_count": 7,
   "id": "7bda8217",
   "metadata": {},
   "outputs": [],
   "source": [
    "# Getting the text data by extracting it from the data Variable!\n",
    "data = data.cleaned_text"
   ]
  },
  {
   "cell_type": "code",
   "execution_count": 8,
   "id": "3e69c39c",
   "metadata": {},
   "outputs": [
    {
     "data": {
      "text/plain": [
       "'Natural languag'"
      ]
     },
     "execution_count": 8,
     "metadata": {},
     "output_type": "execute_result"
    }
   ],
   "source": [
    "data[:15]"
   ]
  },
  {
   "cell_type": "markdown",
   "id": "1fc2e8b4",
   "metadata": {},
   "source": [
    "## Generating sentences from the data"
   ]
  },
  {
   "cell_type": "code",
   "execution_count": 12,
   "id": "6c77e864",
   "metadata": {},
   "outputs": [],
   "source": [
    "sentences = [sentence for sentence in nltk.sent_tokenize(data)]"
   ]
  },
  {
   "cell_type": "code",
   "execution_count": 13,
   "id": "8e0c9954",
   "metadata": {},
   "outputs": [],
   "source": [
    "Word_Vectorizer = CountVectorizer()\n",
    "Vectorized_Data = Word_Vectorizer.fit_transform(sentences)"
   ]
  },
  {
   "cell_type": "code",
   "execution_count": 15,
   "id": "f6ef1ef1",
   "metadata": {},
   "outputs": [
    {
     "data": {
      "text/plain": [
       "array([[0, 0, 0, ..., 0, 0, 0],\n",
       "       [0, 0, 0, ..., 0, 0, 0],\n",
       "       [0, 0, 0, ..., 0, 0, 0],\n",
       "       ...,\n",
       "       [0, 0, 0, ..., 0, 0, 0],\n",
       "       [0, 0, 0, ..., 0, 0, 0],\n",
       "       [0, 0, 0, ..., 0, 0, 0]])"
      ]
     },
     "execution_count": 15,
     "metadata": {},
     "output_type": "execute_result"
    }
   ],
   "source": [
    "Vectorized_Data.toarray()"
   ]
  },
  {
   "cell_type": "code",
   "execution_count": null,
   "id": "ab9d2217",
   "metadata": {},
   "outputs": [],
   "source": []
  }
 ],
 "metadata": {
  "kernelspec": {
   "display_name": "Python 3 (ipykernel)",
   "language": "python",
   "name": "python3"
  },
  "language_info": {
   "codemirror_mode": {
    "name": "ipython",
    "version": 3
   },
   "file_extension": ".py",
   "mimetype": "text/x-python",
   "name": "python",
   "nbconvert_exporter": "python",
   "pygments_lexer": "ipython3",
   "version": "3.9.6"
  }
 },
 "nbformat": 4,
 "nbformat_minor": 5
}
