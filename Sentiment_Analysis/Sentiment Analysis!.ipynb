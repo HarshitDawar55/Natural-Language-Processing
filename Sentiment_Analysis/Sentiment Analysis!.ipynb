{
 "cells": [
  {
   "cell_type": "markdown",
   "id": "e4e947fd",
   "metadata": {},
   "source": [
    "# Sentiment Analysis by `Mr. Harshit Dawar!`\n",
    "\n",
    "* It is a way to identify the sentiments of the persons using the comments/reviews of the users.\n",
    "* It can be performed using multiple libraries, but obviously the basic logic remains the same as always.\n",
    "* In this practical, Twitter Dataset of 1.6 Million Tweets is used to perform the sentiment analysis using the review/tweet."
   ]
  },
  {
   "cell_type": "code",
   "execution_count": null,
   "id": "4fddcb65",
   "metadata": {},
   "outputs": [],
   "source": []
  }
 ],
 "metadata": {
  "kernelspec": {
   "display_name": "Python 3 (ipykernel)",
   "language": "python",
   "name": "python3"
  },
  "language_info": {
   "codemirror_mode": {
    "name": "ipython",
    "version": 3
   },
   "file_extension": ".py",
   "mimetype": "text/x-python",
   "name": "python",
   "nbconvert_exporter": "python",
   "pygments_lexer": "ipython3",
   "version": "3.9.6"
  }
 },
 "nbformat": 4,
 "nbformat_minor": 5
}
