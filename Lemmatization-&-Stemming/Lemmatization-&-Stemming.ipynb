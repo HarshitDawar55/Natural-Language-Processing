{
 "cells": [
  {
   "cell_type": "markdown",
   "id": "15e07688",
   "metadata": {},
   "source": [
    "# Lemmatization & Stemming by `Mr. Harshit Dawar!`\n",
    "* Lemmatizaton uses a complex morphological analysis to give the base word!\n",
    "* Stemming gives the root word!\n",
    "\n",
    "* ***Therefore, Lemmatization is preferred!***"
   ]
  },
  {
   "cell_type": "code",
   "execution_count": 3,
   "id": "d5ba2e33",
   "metadata": {},
   "outputs": [],
   "source": [
    "import spacy\n",
    "import nltk         # NLTK = Natural Language ToolKit"
   ]
  },
  {
   "cell_type": "code",
   "execution_count": 9,
   "id": "4fc22b35",
   "metadata": {
    "scrolled": true
   },
   "outputs": [
    {
     "name": "stdout",
     "output_type": "stream",
     "text": [
      "Token | Stem | Lemma\n",
      "****************************************************************************\n",
      "This\tthi\tthis\n",
      "is\tis\tbe\n",
      "my\tmy\t-PRON-\n",
      "first\tfirst\tfirst\n",
      "class\tclass\tclass\n",
      "for\tfor\tfor\n",
      "NLP\tnlp\tNLP\n",
      "in\tin\tin\n",
      "India\tind\tIndia\n",
      "by\tby\tby\n",
      "Mr.\tmr.\tMr.\n",
      "Harshit\tharshit\tHarshit\n",
      "Dawar\tdaw\tDawar\n",
      "!\t!\t!\n"
     ]
    }
   ],
   "source": [
    "english_model_nlp = spacy.load(\"en_core_web_sm\")\n",
    "\n",
    "# Printing Lemma & Stem of each token with the token\n",
    "sentence = english_model_nlp(\"This is my first class for NLP in India by Mr. Harshit Dawar!\") \n",
    "stemmer = nltk.stem.LancasterStemmer()\n",
    "\n",
    "print(\"Token | Stem | Lemma\")\n",
    "print(\"****************************************************************************\")\n",
    "for token in sentence:\n",
    "    print(token.text + \"\\t\" + str(stemmer.stem(token.text)) + \"\\t\" + token.lemma_)"
   ]
  },
  {
   "cell_type": "code",
   "execution_count": 10,
   "id": "f6754d32",
   "metadata": {},
   "outputs": [
    {
     "name": "stdout",
     "output_type": "stream",
     "text": [
      "Token | Stem | Lemma\n",
      "****************************************************************************\n",
      "This\tthi\tthis\n",
      "is\tis\tbe\n",
      "my\tmy\t-PRON-\n",
      "first\tfirst\tfirst\n",
      "class\tclass\tclass\n",
      "for\tfor\tfor\n",
      "NLP\tnlp\tNLP\n",
      "in\tin\tin\n",
      "India\tindia\tIndia\n",
      "by\tby\tby\n",
      "Mr.\tmr.\tMr.\n",
      "Harshit\tharshit\tHarshit\n",
      "Dawar\tdawar\tDawar\n",
      "!\t!\t!\n"
     ]
    }
   ],
   "source": [
    "# Printing Lemma & Stem of each token with the token\n",
    "sentence = english_model_nlp(\"This is my first class for NLP in India by Mr. Harshit Dawar!\") \n",
    "stemmer = nltk.stem.PorterStemmer()\n",
    "\n",
    "print(\"Token | Stem | Lemma\")\n",
    "print(\"****************************************************************************\")\n",
    "for token in sentence:\n",
    "    print(token.text + \"\\t\" + str(stemmer.stem(token.text)) + \"\\t\" + token.lemma_)"
   ]
  },
  {
   "cell_type": "code",
   "execution_count": 11,
   "id": "f82d0b14",
   "metadata": {},
   "outputs": [
    {
     "name": "stdout",
     "output_type": "stream",
     "text": [
      "Token | Stem | Lemma\n",
      "****************************************************************************\n",
      "This\tThis\tthis\n",
      "is\tis\tbe\n",
      "my\tmy\t-PRON-\n",
      "first\tfirst\tfirst\n",
      "class\tclass\tclass\n",
      "for\tfor\tfor\n",
      "NLP\tNLP\tNLP\n",
      "in\tin\tin\n",
      "India\tIndia\tIndia\n",
      "by\tby\tby\n",
      "Mr.\tMr.\tMr.\n",
      "Harshit\tHarshit\tHarshit\n",
      "Dawar\tDawar\tDawar\n",
      "!\t!\t!\n"
     ]
    }
   ],
   "source": [
    "# Printing Lemma & Stem of each token with the token\n",
    "sentence = english_model_nlp(\"This is my first class for NLP in India by Mr. Harshit Dawar!\") \n",
    "stemmer = nltk.stem.ISRIStemmer()\n",
    "\n",
    "print(\"Token | Stem | Lemma\")\n",
    "print(\"****************************************************************************\")\n",
    "for token in sentence:\n",
    "    print(token.text + \"\\t\" + str(stemmer.stem(token.text)) + \"\\t\" + token.lemma_)"
   ]
  },
  {
   "cell_type": "markdown",
   "id": "286739af",
   "metadata": {},
   "source": [
    "# Congratulations, you have learned about lemmatization & Stemming using multiple ways!"
   ]
  }
 ],
 "metadata": {
  "kernelspec": {
   "display_name": "Python 3 (ipykernel)",
   "language": "python",
   "name": "python3"
  },
  "language_info": {
   "codemirror_mode": {
    "name": "ipython",
    "version": 3
   },
   "file_extension": ".py",
   "mimetype": "text/x-python",
   "name": "python",
   "nbconvert_exporter": "python",
   "pygments_lexer": "ipython3",
   "version": "3.9.6"
  }
 },
 "nbformat": 4,
 "nbformat_minor": 5
}
