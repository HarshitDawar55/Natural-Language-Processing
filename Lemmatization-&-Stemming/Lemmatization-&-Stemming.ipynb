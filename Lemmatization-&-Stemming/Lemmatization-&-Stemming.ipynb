{
 "cells": [
  {
   "cell_type": "markdown",
   "id": "f795f66b",
   "metadata": {},
   "source": [
    "# Lemmatization & Stemming by `Mr. Harshit Dawar!`\n",
    "* Lemmatizaton uses a complex morphological analysis to give the base word!\n",
    "* Stemming gives the root word!\n",
    "\n",
    "* ***Therefore, Lemmatization is preferred!***"
   ]
  },
  {
   "cell_type": "code",
   "execution_count": null,
   "id": "c7be435c",
   "metadata": {},
   "outputs": [],
   "source": []
  }
 ],
 "metadata": {
  "kernelspec": {
   "display_name": "Python 3 (ipykernel)",
   "language": "python",
   "name": "python3"
  },
  "language_info": {
   "codemirror_mode": {
    "name": "ipython",
    "version": 3
   },
   "file_extension": ".py",
   "mimetype": "text/x-python",
   "name": "python",
   "nbconvert_exporter": "python",
   "pygments_lexer": "ipython3",
   "version": "3.9.6"
  }
 },
 "nbformat": 4,
 "nbformat_minor": 5
}
