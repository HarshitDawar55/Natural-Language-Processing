{
 "cells": [
  {
   "cell_type": "markdown",
   "id": "77457a9a",
   "metadata": {},
   "source": [
    "# Tf-IDF Vectorizer for NLP\n",
    "* TF: Term Frequency => How much frequently a word is occuring a sentence.\n",
    "    * Formula: ***TF = no. of times a term \"n\" appeared in a sentence / no. of total terms in that document***\n",
    "* IDF: Inverse Document Frequency => How much frequently a word is occuring in a document.\n",
    "    * Formula: ***IDF = 1 + log(no. of total documents / no. of documents in which a term \"n\" appeared)***"
   ]
  },
  {
   "cell_type": "code",
   "execution_count": null,
   "id": "ea640582",
   "metadata": {},
   "outputs": [],
   "source": []
  }
 ],
 "metadata": {
  "kernelspec": {
   "display_name": "Python 3 (ipykernel)",
   "language": "python",
   "name": "python3"
  },
  "language_info": {
   "codemirror_mode": {
    "name": "ipython",
    "version": 3
   },
   "file_extension": ".py",
   "mimetype": "text/x-python",
   "name": "python",
   "nbconvert_exporter": "python",
   "pygments_lexer": "ipython3",
   "version": "3.9.6"
  }
 },
 "nbformat": 4,
 "nbformat_minor": 5
}
