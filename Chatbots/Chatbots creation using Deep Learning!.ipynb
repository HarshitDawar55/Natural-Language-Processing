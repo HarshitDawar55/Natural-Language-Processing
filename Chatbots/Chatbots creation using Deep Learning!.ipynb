{
 "cells": [
  {
   "cell_type": "markdown",
   "id": "83ad9a15",
   "metadata": {},
   "source": [
    "# Chatbots creation using Deep Learning by `Mr. Harshit Dawar!`\n",
    "\n",
    "* This chatbot is presented with a dataset that contains three points:\n",
    "    * Story\n",
    "    * Question\n",
    "    * Answer\n",
    "    \n",
    "* Based on this dataset, chatbot will learn the patterns using the Deep Learning Techniques & then will be able to answer the most common questions based on the real life!"
   ]
  },
  {
   "cell_type": "code",
   "execution_count": 1,
   "id": "850ae43c",
   "metadata": {},
   "outputs": [],
   "source": [
    "# Importing the Libraries\n",
    "import numpy as np\n",
    "\n",
    "\"\"\"\n",
    "Pickle Library is required to load the data as the data used here is not in simple format, it was stored\n",
    "using dump function of pickle, using simple read function will output only bytes, therefore,\n",
    "load function of pickle has to be used.\n",
    "\"\"\"\n",
    "import pickle     "
   ]
  },
  {
   "cell_type": "markdown",
   "id": "f305e4bc",
   "metadata": {},
   "source": [
    "## Loading the Dataset"
   ]
  },
  {
   "cell_type": "code",
   "execution_count": 11,
   "id": "c300b5d8",
   "metadata": {},
   "outputs": [],
   "source": [
    "with open(\"train_data.txt\", \"rb\") as file:\n",
    "    training_data = pickle.load(file)"
   ]
  },
  {
   "cell_type": "code",
   "execution_count": 12,
   "id": "b54a427b",
   "metadata": {},
   "outputs": [
    {
     "data": {
      "text/plain": [
       "list"
      ]
     },
     "execution_count": 12,
     "metadata": {},
     "output_type": "execute_result"
    }
   ],
   "source": [
    "type(training_data)"
   ]
  },
  {
   "cell_type": "code",
   "execution_count": 13,
   "id": "14da6314",
   "metadata": {},
   "outputs": [
    {
     "data": {
      "text/plain": [
       "10000"
      ]
     },
     "execution_count": 13,
     "metadata": {},
     "output_type": "execute_result"
    }
   ],
   "source": [
    "len(training_data)"
   ]
  },
  {
   "cell_type": "code",
   "execution_count": 16,
   "id": "338ac1ae",
   "metadata": {},
   "outputs": [
    {
     "data": {
      "text/plain": [
       "(['Sandra',\n",
       "  'got',\n",
       "  'the',\n",
       "  'football',\n",
       "  'there',\n",
       "  '.',\n",
       "  'Mary',\n",
       "  'went',\n",
       "  'to',\n",
       "  'the',\n",
       "  'bedroom',\n",
       "  '.'],\n",
       " ['Is', 'Mary', 'in', 'the', 'bedroom', '?'],\n",
       " 'yes')"
      ]
     },
     "execution_count": 16,
     "metadata": {},
     "output_type": "execute_result"
    }
   ],
   "source": [
    "training_data[5]"
   ]
  },
  {
   "cell_type": "code",
   "execution_count": 17,
   "id": "1a87aaba",
   "metadata": {},
   "outputs": [
    {
     "name": "stdout",
     "output_type": "stream",
     "text": [
      "<class 'list'>\n",
      "1000\n",
      "(['Daniel', 'went', 'back', 'to', 'the', 'kitchen', '.', 'Mary', 'grabbed', 'the', 'apple', 'there', '.'], ['Is', 'Daniel', 'in', 'the', 'office', '?'], 'no')\n"
     ]
    }
   ],
   "source": [
    "with open(\"test_data.txt\", \"rb\") as file:\n",
    "    testing_data = pickle.load(file)\n",
    "    \n",
    "print(type(testing_data))\n",
    "print(len(testing_data))\n",
    "print(testing_data[5])"
   ]
  },
  {
   "cell_type": "code",
   "execution_count": 20,
   "id": "c65f6c16",
   "metadata": {},
   "outputs": [
    {
     "name": "stdout",
     "output_type": "stream",
     "text": [
      "Story:  Sandra got the football there . Mary went to the bedroom .\n",
      "Question:  Is Mary in the bedroom ?\n",
      "Answer:  yes\n"
     ]
    }
   ],
   "source": [
    "print(\"Story: \", \" \".join(training_data[5][0]))\n",
    "print(\"Question: \", \" \".join(training_data[5][1]))\n",
    "print(\"Answer: \", training_data[5][2])"
   ]
  },
  {
   "cell_type": "markdown",
   "id": "3a8f8de1",
   "metadata": {},
   "source": [
    "## Building Vocabulary!"
   ]
  },
  {
   "cell_type": "code",
   "execution_count": 33,
   "id": "aa907a1a",
   "metadata": {},
   "outputs": [],
   "source": [
    "vocabulary = set()\n",
    "\n",
    "# Retreiving each unique word from story & form question!\n",
    "for story, question, answer in training_data:\n",
    "    vocabulary = vocabulary.union(set(story))\n",
    "    vocabulary = vocabulary.union(set(question))"
   ]
  },
  {
   "cell_type": "code",
   "execution_count": 34,
   "id": "c877404c",
   "metadata": {},
   "outputs": [],
   "source": [
    "vocabulary.add(\"no\")\n",
    "vocabulary.add(\"yes\")"
   ]
  },
  {
   "cell_type": "code",
   "execution_count": 35,
   "id": "96000ec6",
   "metadata": {},
   "outputs": [
    {
     "data": {
      "text/plain": [
       "{'.',\n",
       " '?',\n",
       " 'Daniel',\n",
       " 'Is',\n",
       " 'John',\n",
       " 'Mary',\n",
       " 'Sandra',\n",
       " 'apple',\n",
       " 'back',\n",
       " 'bathroom',\n",
       " 'bedroom',\n",
       " 'discarded',\n",
       " 'down',\n",
       " 'dropped',\n",
       " 'football',\n",
       " 'garden',\n",
       " 'got',\n",
       " 'grabbed',\n",
       " 'hallway',\n",
       " 'in',\n",
       " 'journeyed',\n",
       " 'kitchen',\n",
       " 'left',\n",
       " 'milk',\n",
       " 'moved',\n",
       " 'no',\n",
       " 'office',\n",
       " 'picked',\n",
       " 'put',\n",
       " 'the',\n",
       " 'there',\n",
       " 'to',\n",
       " 'took',\n",
       " 'travelled',\n",
       " 'up',\n",
       " 'went',\n",
       " 'yes'}"
      ]
     },
     "execution_count": 35,
     "metadata": {},
     "output_type": "execute_result"
    }
   ],
   "source": [
    "vocabulary"
   ]
  },
  {
   "cell_type": "markdown",
   "id": "5eb4e2e6",
   "metadata": {},
   "source": [
    "## Generating the maximum length of questions and stories"
   ]
  },
  {
   "cell_type": "code",
   "execution_count": 38,
   "id": "85d7e1b0",
   "metadata": {},
   "outputs": [],
   "source": [
    "max_story_length = max([len(q[0]) for q in training_data])"
   ]
  },
  {
   "cell_type": "code",
   "execution_count": 39,
   "id": "f3ab96fa",
   "metadata": {},
   "outputs": [
    {
     "data": {
      "text/plain": [
       "156"
      ]
     },
     "execution_count": 39,
     "metadata": {},
     "output_type": "execute_result"
    }
   ],
   "source": [
    "max_story_length"
   ]
  },
  {
   "cell_type": "code",
   "execution_count": 40,
   "id": "698e8ef6",
   "metadata": {},
   "outputs": [],
   "source": [
    "max_question_length = max([len(q[1]) for q in training_data])"
   ]
  },
  {
   "cell_type": "code",
   "execution_count": 41,
   "id": "282de182",
   "metadata": {},
   "outputs": [
    {
     "data": {
      "text/plain": [
       "6"
      ]
     },
     "execution_count": 41,
     "metadata": {},
     "output_type": "execute_result"
    }
   ],
   "source": [
    "max_question_length"
   ]
  },
  {
   "cell_type": "code",
   "execution_count": 45,
   "id": "d4f98d55",
   "metadata": {},
   "outputs": [],
   "source": [
    "vocabulary_length = len(vocabulary) + 1"
   ]
  },
  {
   "cell_type": "code",
   "execution_count": 46,
   "id": "b0d45d19",
   "metadata": {},
   "outputs": [
    {
     "data": {
      "text/plain": [
       "38"
      ]
     },
     "execution_count": 46,
     "metadata": {},
     "output_type": "execute_result"
    }
   ],
   "source": [
    "vocabulary_length"
   ]
  },
  {
   "cell_type": "code",
   "execution_count": null,
   "id": "b8949c03",
   "metadata": {},
   "outputs": [],
   "source": []
  }
 ],
 "metadata": {
  "kernelspec": {
   "display_name": "Python 3 (ipykernel)",
   "language": "python",
   "name": "python3"
  },
  "language_info": {
   "codemirror_mode": {
    "name": "ipython",
    "version": 3
   },
   "file_extension": ".py",
   "mimetype": "text/x-python",
   "name": "python",
   "nbconvert_exporter": "python",
   "pygments_lexer": "ipython3",
   "version": "3.9.6"
  }
 },
 "nbformat": 4,
 "nbformat_minor": 5
}
