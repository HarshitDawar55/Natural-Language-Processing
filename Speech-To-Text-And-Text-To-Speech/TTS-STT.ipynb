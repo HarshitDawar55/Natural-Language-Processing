{
 "cells": [
  {
   "cell_type": "markdown",
   "id": "ab1a4ce8",
   "metadata": {},
   "source": [
    "# Text to Speech & Speech To Text by `Mr. Harshit Dawar!`"
   ]
  },
  {
   "cell_type": "code",
   "execution_count": 1,
   "id": "160ee32e",
   "metadata": {},
   "outputs": [],
   "source": [
    "# Importing the required Libraries\n",
    "import speech_recognition as SR"
   ]
  },
  {
   "cell_type": "code",
   "execution_count": 3,
   "id": "57b4fe7c",
   "metadata": {},
   "outputs": [],
   "source": [
    "voice_recognizer = SR.Recognizer()\n",
    "Mic = SR.Microphone()"
   ]
  },
  {
   "cell_type": "code",
   "execution_count": null,
   "id": "7ec0773c",
   "metadata": {},
   "outputs": [],
   "source": []
  }
 ],
 "metadata": {
  "kernelspec": {
   "display_name": "Python 3 (ipykernel)",
   "language": "python",
   "name": "python3"
  },
  "language_info": {
   "codemirror_mode": {
    "name": "ipython",
    "version": 3
   },
   "file_extension": ".py",
   "mimetype": "text/x-python",
   "name": "python",
   "nbconvert_exporter": "python",
   "pygments_lexer": "ipython3",
   "version": "3.9.6"
  }
 },
 "nbformat": 4,
 "nbformat_minor": 5
}
