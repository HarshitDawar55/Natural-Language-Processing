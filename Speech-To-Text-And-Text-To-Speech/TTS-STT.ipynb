{
 "cells": [
  {
   "cell_type": "markdown",
   "id": "7bf5b199",
   "metadata": {},
   "source": [
    "# Text to Speech & Speech To Text by `Mr. Harshit Dawar!`\n",
    "\n",
    "* Libraries Needed for this practical:\n",
    "    * ffmpeg\n",
    "    * pyaudio\n",
    "    * pydub\n",
    "    * SpeechRecognition"
   ]
  },
  {
   "cell_type": "code",
   "execution_count": 1,
   "id": "9ffb105e",
   "metadata": {},
   "outputs": [
    {
     "name": "stderr",
     "output_type": "stream",
     "text": [
      "/opt/anaconda3/envs/NLP/lib/python3.9/site-packages/pydub/utils.py:170: RuntimeWarning: Couldn't find ffmpeg or avconv - defaulting to ffmpeg, but may not work\n",
      "  warn(\"Couldn't find ffmpeg or avconv - defaulting to ffmpeg, but may not work\", RuntimeWarning)\n"
     ]
    }
   ],
   "source": [
    "# Importing the required Libraries\n",
    "import speech_recognition as SR\n",
    "from pydub import AudioSegment as ADS"
   ]
  },
  {
   "cell_type": "markdown",
   "id": "c57a3061",
   "metadata": {},
   "source": [
    "## Creating Microphone & Audio Recognizer objects"
   ]
  },
  {
   "cell_type": "code",
   "execution_count": 2,
   "id": "7d6d3da3",
   "metadata": {},
   "outputs": [],
   "source": [
    "voice_recognizer = SR.Recognizer()\n",
    "Mic = SR.Microphone()"
   ]
  },
  {
   "cell_type": "markdown",
   "id": "86c0d4ba",
   "metadata": {},
   "source": [
    "## Capturing Audio & Saving Files"
   ]
  },
  {
   "cell_type": "code",
   "execution_count": 8,
   "id": "ef204c59",
   "metadata": {},
   "outputs": [
    {
     "name": "stdout",
     "output_type": "stream",
     "text": [
      "wait for the microphone to calibrate\n",
      "\n",
      "Set minimum energy threshold to 23.445089983389217\n",
      "Please Say Something!\n",
      "Captured It, Wait for a while, audio file Generation is in progress!\n"
     ]
    }
   ],
   "source": [
    "wav_file_path = \"/Users/harshitdawar/GitHub/Natural-Language-Processing/Speech-To-Text-And-Text-To-Speech/audio-captured.wav\"\n",
    "mp3_file_path = \"/Users/harshitdawar/GitHub/Natural-Language-Processing/Speech-To-Text-And-Text-To-Speech/audio-captured.mp3\"\n",
    "\n",
    "try:\n",
    "    with Mic as source:\n",
    "        print(\"wait for the microphone to calibrate\\n\")\n",
    "        voice_recognizer.adjust_for_ambient_noise(source = source, duration = 5)\n",
    "        print(\"Set minimum energy threshold to {}\".format(voice_recognizer.energy_threshold))\n",
    "\n",
    "    # Capturing the audio & writing it to a file!\n",
    "    while True:\n",
    "        with Mic as source:\n",
    "            print(\"Please Say Something!\")\n",
    "            audio_captured = voice_recognizer.listen(source)\n",
    "            print(\"Captured It, Wait for a while, audio file Generation is in progress!\")\n",
    "            \n",
    "        # Generating the Audio File to store the Audio\n",
    "        with open(wav_file_path, \"wb\") as file:\n",
    "            file.write(audio_captured.get_wav_data())\n",
    "        \n",
    "        # Converting WAV File to MP3 File\n",
    "        WAV_File = ADS.from_file(wav_file_path, format = \"wav\")\n",
    "#         MP3_File = WAV_File.export(mp3_file_path, format = \"mp3\", bitrate = \"320\")\n",
    "        break\n",
    "        \n",
    "        \n",
    "except KeyboardInterrupt:\n",
    "    pass"
   ]
  },
  {
   "cell_type": "markdown",
   "id": "0bd4ee14",
   "metadata": {},
   "source": [
    "## Displaying the Audio Captured"
   ]
  },
  {
   "cell_type": "code",
   "execution_count": 12,
   "id": "6322e878",
   "metadata": {},
   "outputs": [],
   "source": [
    "def display_speech(library_to_use, audio):\n",
    "    if library_to_use == \"Google\":\n",
    "        speech = voice_recognizer.recognize_google(audio)\n",
    "    elif library_to_use == \"Bing\":\n",
    "        speech = voice_recognizer.recognize_bing(audio)\n",
    "    elif library_to_use == \"Sphinx\":\n",
    "        speech = voice_recognizer.recognize_sphinx(audio)\n",
    "    else:\n",
    "        pass\n",
    "    \n",
    "    try:\n",
    "        print(\"{0} thinks you said '{1}'\" .format(library_to_use, speech))\n",
    "    except SR.UnknownValueError:\n",
    "        print(\"%s could not understand audio\"%library_to_use)\n",
    "    except SR.RequestError as e:\n",
    "        print(\"{0} error; {1}\".format(library_to_use, e))\n",
    "        "
   ]
  },
  {
   "cell_type": "code",
   "execution_count": 13,
   "id": "ec06221b",
   "metadata": {},
   "outputs": [
    {
     "name": "stdout",
     "output_type": "stream",
     "text": [
      "Google thinks you said 'hello yeah this is Harshit Dama I am the best friend on the absolute perfect technical trainer consultant as well as multi Tech expert so overall I am the best person in the world'\n"
     ]
    }
   ],
   "source": [
    "display_speech(\"Google\", audio_captured)"
   ]
  },
  {
   "cell_type": "code",
   "execution_count": null,
   "id": "2a2be1e0",
   "metadata": {},
   "outputs": [],
   "source": []
  }
 ],
 "metadata": {
  "kernelspec": {
   "display_name": "Python 3 (ipykernel)",
   "language": "python",
   "name": "python3"
  },
  "language_info": {
   "codemirror_mode": {
    "name": "ipython",
    "version": 3
   },
   "file_extension": ".py",
   "mimetype": "text/x-python",
   "name": "python",
   "nbconvert_exporter": "python",
   "pygments_lexer": "ipython3",
   "version": "3.9.7"
  }
 },
 "nbformat": 4,
 "nbformat_minor": 5
}
