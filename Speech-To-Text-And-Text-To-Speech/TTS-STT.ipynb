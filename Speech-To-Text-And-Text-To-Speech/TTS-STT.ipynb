{
 "cells": [
  {
   "cell_type": "markdown",
   "id": "7bf5b199",
   "metadata": {},
   "source": [
    "# Text to Speech & Speech To Text by `Mr. Harshit Dawar!`\n",
    "\n",
    "* Libraries Needed for this practical:\n",
    "    * ffmpeg\n",
    "    * pyaudio\n",
    "    * pydub\n",
    "    * SpeechRecognition\n",
    "    * pyttsx3"
   ]
  },
  {
   "cell_type": "code",
   "execution_count": 8,
   "id": "9ffb105e",
   "metadata": {},
   "outputs": [],
   "source": [
    "# Importing the required Libraries\n",
    "import speech_recognition as SR\n",
    "from pydub import AudioSegment as ADS\n",
    "import pyttsx3"
   ]
  },
  {
   "cell_type": "markdown",
   "id": "25255f81",
   "metadata": {},
   "source": [
    "## Creating Microphone & Audio Recognizer objects"
   ]
  },
  {
   "cell_type": "code",
   "execution_count": 9,
   "id": "7d6d3da3",
   "metadata": {},
   "outputs": [],
   "source": [
    "voice_recognizer = SR.Recognizer()\n",
    "Mic = SR.Microphone()"
   ]
  },
  {
   "cell_type": "markdown",
   "id": "4a7724c6",
   "metadata": {},
   "source": [
    "## Capturing Audio & Saving Files"
   ]
  },
  {
   "cell_type": "code",
   "execution_count": 10,
   "id": "ef204c59",
   "metadata": {},
   "outputs": [
    {
     "name": "stdout",
     "output_type": "stream",
     "text": [
      "wait for the microphone to calibrate\n",
      "\n",
      "Set minimum energy threshold to 22.046801790414037\n",
      "Please Say Something!\n",
      "Captured It, Wait for a while, audio file Generation is in progress!\n"
     ]
    }
   ],
   "source": [
    "wav_file_path = \"/Users/harshitdawar/GitHub/Natural-Language-Processing/Speech-To-Text-And-Text-To-Speech/audio-captured.wav\"\n",
    "mp3_file_path = \"/Users/harshitdawar/GitHub/Natural-Language-Processing/Speech-To-Text-And-Text-To-Speech/audio-captured.mp3\"\n",
    "\n",
    "try:\n",
    "    with Mic as source:\n",
    "        print(\"wait for the microphone to calibrate\\n\")\n",
    "        voice_recognizer.adjust_for_ambient_noise(source = source, duration = 3)\n",
    "        print(\"Set minimum energy threshold to {}\".format(voice_recognizer.energy_threshold))\n",
    "\n",
    "    # Capturing the audio & writing it to a file!\n",
    "    while True:\n",
    "        with Mic as source:\n",
    "            print(\"Please Say Something!\")\n",
    "            audio_captured = voice_recognizer.listen(source)\n",
    "            print(\"Captured It, Wait for a while, audio file Generation is in progress!\")\n",
    "            \n",
    "        # Generating the Audio File to store the Audio\n",
    "        with open(wav_file_path, \"wb\") as file:\n",
    "            file.write(audio_captured.get_wav_data())\n",
    "        \n",
    "        # Converting WAV File to MP3 File\n",
    "        WAV_File = ADS.from_file(wav_file_path, format = \"wav\")\n",
    "        MP3_File = WAV_File.export(mp3_file_path, format = \"mp3\", bitrate = \"320\")\n",
    "        break\n",
    "        \n",
    "        \n",
    "except KeyboardInterrupt:\n",
    "    pass"
   ]
  },
  {
   "cell_type": "markdown",
   "id": "42630394",
   "metadata": {},
   "source": [
    "## Displaying the Audio Captured"
   ]
  },
  {
   "cell_type": "code",
   "execution_count": 11,
   "id": "6322e878",
   "metadata": {},
   "outputs": [],
   "source": [
    "def display_speech(library_to_use, audio):\n",
    "    if library_to_use == \"Google\":\n",
    "        speech = voice_recognizer.recognize_google(audio)\n",
    "    else:\n",
    "        pass\n",
    "    \n",
    "    try:\n",
    "        print(\"{0} thinks you said '{1}'\" .format(library_to_use, speech))\n",
    "    except SR.UnknownValueError:\n",
    "        print(\"%s could not understand audio\"%library_to_use)\n",
    "    except SR.RequestError as e:\n",
    "        print(\"{0} error; {1}\".format(library_to_use, e))\n",
    "        "
   ]
  },
  {
   "cell_type": "code",
   "execution_count": 12,
   "id": "b9a6bb70",
   "metadata": {},
   "outputs": [
    {
     "name": "stdout",
     "output_type": "stream",
     "text": [
      "Google thinks you said 'hello this is the test for this text to speech and speech to text conversion'\n"
     ]
    }
   ],
   "source": [
    "display_speech(\"Google\", audio_captured)"
   ]
  },
  {
   "cell_type": "markdown",
   "id": "d73daa55",
   "metadata": {},
   "source": [
    "## Text To Speech"
   ]
  },
  {
   "cell_type": "code",
   "execution_count": 13,
   "id": "1c87b1e1",
   "metadata": {},
   "outputs": [],
   "source": [
    "# Saving the text recognized by Google Library from the Speech\n",
    "with open(\"Google_recognized_text.txt\", \"w\") as file:\n",
    "    file.write(voice_recognizer.recognize_google(audio_captured))"
   ]
  },
  {
   "cell_type": "code",
   "execution_count": 14,
   "id": "feb1fb43",
   "metadata": {},
   "outputs": [],
   "source": [
    "def text_to_speech(text_file_path):\n",
    "    with open(text_file_path, \"r\") as file:\n",
    "        text = file.read()\n",
    "        \n",
    "    \n",
    "    # Initializing the Text to Speech Engine\n",
    "    audio_engine = pyttsx3.init()\n",
    "    \n",
    "    # Adding the work in the queue\n",
    "    audio_engine.say(text)\n",
    "    \n",
    "    # Running the work added in the queue\n",
    "    audio_engine.runAndWait()\n",
    "    \n",
    "    \n",
    "def tts_save(text_file_path, file_path_to_save_audio_to):\n",
    "    with open(text_file_path, \"r\") as file:\n",
    "        text = file.read()\n",
    "    \n",
    "    # Initializing the Text to Speech Engine\n",
    "    audio_engine = pyttsx3.init()\n",
    "    \n",
    "    # Saving the Text To Speech Audio File\n",
    "    audio_engine.save_to_file(text, file_path_to_save_audio_to)\n",
    "    audio_engine.runAndWait()"
   ]
  },
  {
   "cell_type": "markdown",
   "id": "c7e1bc58",
   "metadata": {},
   "source": [
    "### Calling Functions to convert Text To Speech as well as Saving the generated Audio to MP3 File as well!"
   ]
  },
  {
   "cell_type": "code",
   "execution_count": 15,
   "id": "82c2edc4",
   "metadata": {},
   "outputs": [],
   "source": [
    "text_to_speech(\"Google_recognized_text.txt\")"
   ]
  },
  {
   "cell_type": "code",
   "execution_count": 16,
   "id": "10f8bfc2",
   "metadata": {},
   "outputs": [],
   "source": [
    "tts_save(\"Google_recognized_text.txt\", \"google_tts_audio.mp3\")"
   ]
  },
  {
   "cell_type": "markdown",
   "id": "83ef29f0",
   "metadata": {},
   "source": [
    "# Congratulations, you have learned how to convert Text to Speech & Vice Versa simaltaneously with saving files for them"
   ]
  }
 ],
 "metadata": {
  "kernelspec": {
   "display_name": "Python 3 (ipykernel)",
   "language": "python",
   "name": "python3"
  },
  "language_info": {
   "codemirror_mode": {
    "name": "ipython",
    "version": 3
   },
   "file_extension": ".py",
   "mimetype": "text/x-python",
   "name": "python",
   "nbconvert_exporter": "python",
   "pygments_lexer": "ipython3",
   "version": "3.9.7"
  }
 },
 "nbformat": 4,
 "nbformat_minor": 5
}
