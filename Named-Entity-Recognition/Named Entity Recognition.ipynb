{
 "cells": [
  {
   "cell_type": "markdown",
   "id": "aeaa82ca",
   "metadata": {},
   "source": [
    "# Named Entity Recognition by `Mr. Harshit Dawar!`"
   ]
  },
  {
   "cell_type": "code",
   "execution_count": 1,
   "id": "d09f406a",
   "metadata": {},
   "outputs": [],
   "source": [
    "import spacy"
   ]
  },
  {
   "cell_type": "code",
   "execution_count": 2,
   "id": "767561e3",
   "metadata": {},
   "outputs": [],
   "source": [
    "english_model_nlp = spacy.load(\"en_core_web_sm\")"
   ]
  },
  {
   "cell_type": "code",
   "execution_count": 3,
   "id": "5d5a44a8",
   "metadata": {},
   "outputs": [],
   "source": [
    "sentence = english_model_nlp(\"This is my first class for NLP in India by Mr. Harshit Dawar!\") "
   ]
  },
  {
   "cell_type": "code",
   "execution_count": 11,
   "id": "81d43772",
   "metadata": {},
   "outputs": [
    {
     "name": "stdout",
     "output_type": "stream",
     "text": [
      "Entity | Recognition\n",
      "****************************************************************************\n",
      "first\t  ORDINAL\n",
      "NLP\t  ORG\n",
      "India\t  GPE\n"
     ]
    }
   ],
   "source": [
    "# Printing the Significant Entities and their Recognition\n",
    "\n",
    "print(\"Entity | Recognition\")\n",
    "print(\"****************************************************************************\")\n",
    "for significant_entity in sentence.ents:\n",
    "    print(significant_entity.text + \"\\t  \" + significant_entity.label_)"
   ]
  },
  {
   "cell_type": "code",
   "execution_count": null,
   "id": "8d750a44",
   "metadata": {},
   "outputs": [],
   "source": []
  }
 ],
 "metadata": {
  "kernelspec": {
   "display_name": "Python 3 (ipykernel)",
   "language": "python",
   "name": "python3"
  },
  "language_info": {
   "codemirror_mode": {
    "name": "ipython",
    "version": 3
   },
   "file_extension": ".py",
   "mimetype": "text/x-python",
   "name": "python",
   "nbconvert_exporter": "python",
   "pygments_lexer": "ipython3",
   "version": "3.9.6"
  }
 },
 "nbformat": 4,
 "nbformat_minor": 5
}
