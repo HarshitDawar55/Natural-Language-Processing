{
 "cells": [
  {
   "cell_type": "markdown",
   "id": "5412d5ab",
   "metadata": {},
   "source": [
    "# Word Cloud by `Mr. Harshit Dawar!`\n",
    "* It is an amazing technique to display the words that you feel are the most frequent words in the text!\n",
    "* WordCloud library automatically removes all the punctuation & stopwords!"
   ]
  },
  {
   "cell_type": "code",
   "execution_count": 10,
   "id": "2dab3540",
   "metadata": {},
   "outputs": [],
   "source": [
    "# Importing the required Libraries\n",
    "\n",
    "import goose3     # For fetching the text from the URL\n",
    "import spacy\n",
    "import nltk\n",
    "from wordcloud import WordCloud\n",
    "model = spacy.load(\"en_core_web_sm\")"
   ]
  },
  {
   "cell_type": "code",
   "execution_count": 3,
   "id": "dae0fddd",
   "metadata": {},
   "outputs": [],
   "source": [
    "goose = goose3.Goose()\n",
    "\n",
    "# Extracting data from the blog written by me on Medium!\n",
    "data = goose.extract(\"https://medium.com/swlh/binomial-vs-bernoulli-distribution-dd9197c418d\")"
   ]
  },
  {
   "cell_type": "code",
   "execution_count": 4,
   "id": "5cecf765",
   "metadata": {},
   "outputs": [
    {
     "data": {
      "text/plain": [
       "'Binomial VS Bernoulli Distribution'"
      ]
     },
     "execution_count": 4,
     "metadata": {},
     "output_type": "execute_result"
    }
   ],
   "source": [
    "# Printing the Title of the Blog\n",
    "data.title"
   ]
  },
  {
   "cell_type": "code",
   "execution_count": 5,
   "id": "39d99e74",
   "metadata": {},
   "outputs": [
    {
     "data": {
      "text/plain": [
       "['https://harshitdawar.medium.com/?source=post_page-----dd9197c418d--------------------------------',\n",
       " 'https://harshitdawar.medium.com/?source=post_page-----dd9197c418d--------------------------------',\n",
       " '/swlh/binomial-vs-bernoulli-distribution-dd9197c418d?source=post_page-----dd9197c418d--------------------------------',\n",
       " 'https://unsplash.com/@purzlbaum']"
      ]
     },
     "execution_count": 5,
     "metadata": {},
     "output_type": "execute_result"
    }
   ],
   "source": [
    "# Printing the links present in the Blog\n",
    "data.links"
   ]
  },
  {
   "cell_type": "code",
   "execution_count": 7,
   "id": "cc565e80",
   "metadata": {},
   "outputs": [
    {
     "data": {
      "text/plain": [
       "'Whether it be probability, statistics, Data Science, Machine Learning, Deep Learning, or any other likewise field, having the knowledge of the distribution of data is a must or crucial, because it helps in dealing with data.\\n\\nSince both the distributions (Binomial & Bernoulli) are very confusing at first for most people, they do not try to explore & understand them. Also, one more factor is that, at most of the sources of the content, no real-life examples are given to make the explanation more realistic. That’s why this blog aims to explain the difference between the two distributions with real-life examples.\\n\\nNow, that being said, let’s proceed by explaining Bernoulli Distribution first.'"
      ]
     },
     "execution_count": 7,
     "metadata": {},
     "output_type": "execute_result"
    }
   ],
   "source": [
    "data.cleaned_text"
   ]
  },
  {
   "cell_type": "code",
   "execution_count": null,
   "id": "d2669a32",
   "metadata": {},
   "outputs": [],
   "source": []
  }
 ],
 "metadata": {
  "kernelspec": {
   "display_name": "Python 3 (ipykernel)",
   "language": "python",
   "name": "python3"
  },
  "language_info": {
   "codemirror_mode": {
    "name": "ipython",
    "version": 3
   },
   "file_extension": ".py",
   "mimetype": "text/x-python",
   "name": "python",
   "nbconvert_exporter": "python",
   "pygments_lexer": "ipython3",
   "version": "3.9.6"
  }
 },
 "nbformat": 4,
 "nbformat_minor": 5
}
