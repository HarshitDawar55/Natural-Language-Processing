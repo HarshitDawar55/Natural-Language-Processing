{
 "cells": [
  {
   "cell_type": "markdown",
   "id": "df840c38",
   "metadata": {},
   "source": [
    "# Word Cloud by `Mr. Harshit Dawar!`\n",
    "* It is an amazing technique to display the words that you feel are the most frequent words in the text!\n",
    "* WordCloud library automatically removes all the punctuation & stopwords!"
   ]
  },
  {
   "cell_type": "code",
   "execution_count": 10,
   "id": "10a7ceb5",
   "metadata": {},
   "outputs": [],
   "source": [
    "# Importing the required Libraries\n",
    "\n",
    "import goose3     # For fetching the text from the URL\n",
    "import spacy\n",
    "import nltk\n",
    "from wordcloud import WordCloud\n",
    "model = spacy.load(\"en_core_web_sm\")"
   ]
  },
  {
   "cell_type": "code",
   "execution_count": 3,
   "id": "eea757df",
   "metadata": {},
   "outputs": [],
   "source": [
    "goose = goose3.Goose()\n",
    "\n",
    "# Extracting data from the blog written by me on Medium!\n",
    "data = goose.extract(\"https://medium.com/swlh/binomial-vs-bernoulli-distribution-dd9197c418d\")"
   ]
  },
  {
   "cell_type": "code",
   "execution_count": 4,
   "id": "82c4bbb6",
   "metadata": {},
   "outputs": [
    {
     "data": {
      "text/plain": [
       "'Binomial VS Bernoulli Distribution'"
      ]
     },
     "execution_count": 4,
     "metadata": {},
     "output_type": "execute_result"
    }
   ],
   "source": [
    "# Printing the Title of the Blog\n",
    "data.title"
   ]
  },
  {
   "cell_type": "code",
   "execution_count": 5,
   "id": "1737ab7d",
   "metadata": {},
   "outputs": [
    {
     "data": {
      "text/plain": [
       "['https://harshitdawar.medium.com/?source=post_page-----dd9197c418d--------------------------------',\n",
       " 'https://harshitdawar.medium.com/?source=post_page-----dd9197c418d--------------------------------',\n",
       " '/swlh/binomial-vs-bernoulli-distribution-dd9197c418d?source=post_page-----dd9197c418d--------------------------------',\n",
       " 'https://unsplash.com/@purzlbaum']"
      ]
     },
     "execution_count": 5,
     "metadata": {},
     "output_type": "execute_result"
    }
   ],
   "source": [
    "# Printing the links present in the Blog\n",
    "data.links"
   ]
  },
  {
   "cell_type": "code",
   "execution_count": 7,
   "id": "b2dcd863",
   "metadata": {},
   "outputs": [
    {
     "data": {
      "text/plain": [
       "'Whether it be probability, statistics, Data Science, Machine Learning, Deep Learning, or any other likewise field, having the knowledge of the distribution of data is a must or crucial, because it helps in dealing with data.\\n\\nSince both the distributions (Binomial & Bernoulli) are very confusing at first for most people, they do not try to explore & understand them. Also, one more factor is that, at most of the sources of the content, no real-life examples are given to make the explanation more realistic. That’s why this blog aims to explain the difference between the two distributions with real-life examples.\\n\\nNow, that being said, let’s proceed by explaining Bernoulli Distribution first.'"
      ]
     },
     "execution_count": 7,
     "metadata": {},
     "output_type": "execute_result"
    }
   ],
   "source": [
    "data.cleaned_text"
   ]
  },
  {
   "cell_type": "code",
   "execution_count": 11,
   "id": "1e0ae54b",
   "metadata": {},
   "outputs": [],
   "source": [
    "# Getting the frequency Distribution of Words & picking the most common 15 words!\n",
    "FD = nltk.FreqDist(data.cleaned_text)"
   ]
  },
  {
   "cell_type": "code",
   "execution_count": 13,
   "id": "38a8f55e",
   "metadata": {},
   "outputs": [
    {
     "data": {
      "text/plain": [
       "[(' ', 109),\n",
       " ('e', 70),\n",
       " ('t', 59),\n",
       " ('i', 55),\n",
       " ('o', 41),\n",
       " ('a', 39),\n",
       " ('n', 37),\n",
       " ('r', 32),\n",
       " ('s', 32),\n",
       " ('l', 27),\n",
       " ('h', 24),\n",
       " ('c', 15),\n",
       " ('f', 14),\n",
       " ('d', 14),\n",
       " ('b', 13)]"
      ]
     },
     "execution_count": 13,
     "metadata": {},
     "output_type": "execute_result"
    }
   ],
   "source": [
    "FD.most_common(15)"
   ]
  },
  {
   "cell_type": "code",
   "execution_count": null,
   "id": "1def4635",
   "metadata": {},
   "outputs": [],
   "source": []
  }
 ],
 "metadata": {
  "kernelspec": {
   "display_name": "Python 3 (ipykernel)",
   "language": "python",
   "name": "python3"
  },
  "language_info": {
   "codemirror_mode": {
    "name": "ipython",
    "version": 3
   },
   "file_extension": ".py",
   "mimetype": "text/x-python",
   "name": "python",
   "nbconvert_exporter": "python",
   "pygments_lexer": "ipython3",
   "version": "3.9.6"
  }
 },
 "nbformat": 4,
 "nbformat_minor": 5
}
