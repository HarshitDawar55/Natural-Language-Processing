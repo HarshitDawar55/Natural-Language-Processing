{
 "cells": [
  {
   "cell_type": "markdown",
   "id": "83a8144b",
   "metadata": {},
   "source": [
    "# Word Cloud by `Mr. Harshit Dawar!`\n",
    "* It is an amazing technique to display the words that you feel are the most frequent words in the text!\n",
    "* WordCloud library automatically removes all the punctuation & stopwords!"
   ]
  },
  {
   "cell_type": "code",
   "execution_count": 2,
   "id": "31c3c52c",
   "metadata": {},
   "outputs": [],
   "source": [
    "# Importing the required Libraries\n",
    "\n",
    "import goose3     # For fetching the text from the URL\n",
    "import spacy\n",
    "model = spacy.load(\"en_core_web_sm\")"
   ]
  },
  {
   "cell_type": "code",
   "execution_count": 3,
   "id": "8f6644b6",
   "metadata": {},
   "outputs": [],
   "source": [
    "goose = goose3.Goose()\n",
    "\n",
    "# Extracting data from the blog written by me on Medium!\n",
    "data = goose.extract(\"https://medium.com/swlh/binomial-vs-bernoulli-distribution-dd9197c418d\")"
   ]
  },
  {
   "cell_type": "code",
   "execution_count": 4,
   "id": "58ee0d14",
   "metadata": {},
   "outputs": [
    {
     "data": {
      "text/plain": [
       "'Binomial VS Bernoulli Distribution'"
      ]
     },
     "execution_count": 4,
     "metadata": {},
     "output_type": "execute_result"
    }
   ],
   "source": [
    "# Printing the Title of the Blog\n",
    "data.title"
   ]
  },
  {
   "cell_type": "code",
   "execution_count": null,
   "id": "b702afba",
   "metadata": {},
   "outputs": [],
   "source": []
  }
 ],
 "metadata": {
  "kernelspec": {
   "display_name": "Python 3 (ipykernel)",
   "language": "python",
   "name": "python3"
  },
  "language_info": {
   "codemirror_mode": {
    "name": "ipython",
    "version": 3
   },
   "file_extension": ".py",
   "mimetype": "text/x-python",
   "name": "python",
   "nbconvert_exporter": "python",
   "pygments_lexer": "ipython3",
   "version": "3.9.6"
  }
 },
 "nbformat": 4,
 "nbformat_minor": 5
}
